{
 "cells": [
  {
   "cell_type": "markdown",
   "id": "2af4cf76",
   "metadata": {},
   "source": [
    "# Pandas for Data Analysis"
   ]
  },
  {
   "cell_type": "markdown",
   "id": "ab3d3445",
   "metadata": {},
   "source": [
    "[**Pandas**](https://pandas.pydata.org/) is a fast, powerful, flexible and easy to use open source data analysis and manipulation tool,\n",
    "built on top of the Python programming language.\n",
    "\n",
    "We will first introduce some core aspects of pandas using toy data, and then analyse a real data set. First, we should import the pandas package - by convention we give it a shorthand name using `as`. When we want to use the package, we can type `pd.` instead of `pandas.`. \n",
    "\n",
    "#### Useful links\n",
    "* [Data Wrangling cheat sheet](https://pandas.pydata.org/Pandas_Cheat_Sheet.pdf)\n",
    "* [Python For Data Science cheat sheet](https://www.utc.fr/~jlaforet/Suppl/python-cheatsheets.pdf)"
   ]
  },
  {
   "cell_type": "code",
   "execution_count": 39,
   "id": "a86235d0",
   "metadata": {},
   "outputs": [],
   "source": [
    "import pandas as pd"
   ]
  },
  {
   "cell_type": "markdown",
   "id": "9ed9c198",
   "metadata": {},
   "source": [
    "### Creating and Reading Data\n",
    "\n",
    "Two core objects in pandas: **Series** and **DataFrame**.\n",
    "\n",
    "[**Series**](https://pandas.pydata.org/pandas-docs/stable/reference/api/pandas.Series.html) is a one-dimensional (1d) *list* of values. It has a corresponding list of *index* and (possibly) a *name*."
   ]
  },
  {
   "cell_type": "code",
   "execution_count": 40,
   "id": "33bc6056",
   "metadata": {},
   "outputs": [
    {
     "data": {
      "application/vnd.microsoft.datawrangler.viewer.v0+json": {
       "columns": [
        {
         "name": "index",
         "rawType": "int64",
         "type": "integer"
        },
        {
         "name": "sales",
         "rawType": "int64",
         "type": "integer"
        }
       ],
       "ref": "0305f21e-5eb6-48e2-b91e-7edc72d10420",
       "rows": [
        [
         "2020",
         "3780"
        ],
        [
         "2021",
         "4120"
        ],
        [
         "2022",
         "4750"
        ]
       ],
       "shape": {
        "columns": 1,
        "rows": 3
       }
      },
      "text/plain": [
       "2020    3780\n",
       "2021    4120\n",
       "2022    4750\n",
       "Name: sales, dtype: int64"
      ]
     },
     "execution_count": 40,
     "metadata": {},
     "output_type": "execute_result"
    }
   ],
   "source": [
    "pd.Series([3780, 4120, 4750], index=[2020,2021,2022], name='sales')"
   ]
  },
  {
   "cell_type": "markdown",
   "id": "30df73a9",
   "metadata": {},
   "source": [
    "[**DataFrame**](https://pandas.pydata.org/docs/reference/api/pandas.DataFrame.html#pandas.DataFrame) is a two-dimensional (2d) *table* of values. Each row is a \"record\" having its *index* and each column is a **Series** having its (column) *name*."
   ]
  },
  {
   "cell_type": "code",
   "execution_count": 41,
   "id": "c86648b4",
   "metadata": {},
   "outputs": [
    {
     "data": {
      "application/vnd.microsoft.datawrangler.viewer.v0+json": {
       "columns": [
        {
         "name": "index",
         "rawType": "int64",
         "type": "integer"
        },
        {
         "name": "date",
         "rawType": "datetime64[ns]",
         "type": "datetime"
        },
        {
         "name": "sales",
         "rawType": "float64",
         "type": "float"
        },
        {
         "name": "department",
         "rawType": "object",
         "type": "string"
        }
       ],
       "ref": "0f51b6ef-29d7-47b7-abf2-9ed9dca67c38",
       "rows": [
        [
         "0",
         "2022-05-31 00:00:00",
         "300.12",
         "domestic"
        ],
        [
         "1",
         "2022-06-30 00:00:00",
         "313.28",
         "domestic"
        ],
        [
         "2",
         "2022-07-31 00:00:00",
         "330.64",
         "domestic"
        ],
        [
         "3",
         "2022-08-31 00:00:00",
         "347.59",
         "domestic"
        ],
        [
         "4",
         "2022-09-30 00:00:00",
         "352.11",
         "domestic"
        ]
       ],
       "shape": {
        "columns": 3,
        "rows": 5
       }
      },
      "text/html": [
       "<div>\n",
       "<style scoped>\n",
       "    .dataframe tbody tr th:only-of-type {\n",
       "        vertical-align: middle;\n",
       "    }\n",
       "\n",
       "    .dataframe tbody tr th {\n",
       "        vertical-align: top;\n",
       "    }\n",
       "\n",
       "    .dataframe thead th {\n",
       "        text-align: right;\n",
       "    }\n",
       "</style>\n",
       "<table border=\"1\" class=\"dataframe\">\n",
       "  <thead>\n",
       "    <tr style=\"text-align: right;\">\n",
       "      <th></th>\n",
       "      <th>date</th>\n",
       "      <th>sales</th>\n",
       "      <th>department</th>\n",
       "    </tr>\n",
       "  </thead>\n",
       "  <tbody>\n",
       "    <tr>\n",
       "      <th>0</th>\n",
       "      <td>2022-05-31</td>\n",
       "      <td>300.12</td>\n",
       "      <td>domestic</td>\n",
       "    </tr>\n",
       "    <tr>\n",
       "      <th>1</th>\n",
       "      <td>2022-06-30</td>\n",
       "      <td>313.28</td>\n",
       "      <td>domestic</td>\n",
       "    </tr>\n",
       "    <tr>\n",
       "      <th>2</th>\n",
       "      <td>2022-07-31</td>\n",
       "      <td>330.64</td>\n",
       "      <td>domestic</td>\n",
       "    </tr>\n",
       "    <tr>\n",
       "      <th>3</th>\n",
       "      <td>2022-08-31</td>\n",
       "      <td>347.59</td>\n",
       "      <td>domestic</td>\n",
       "    </tr>\n",
       "    <tr>\n",
       "      <th>4</th>\n",
       "      <td>2022-09-30</td>\n",
       "      <td>352.11</td>\n",
       "      <td>domestic</td>\n",
       "    </tr>\n",
       "  </tbody>\n",
       "</table>\n",
       "</div>"
      ],
      "text/plain": [
       "        date   sales department\n",
       "0 2022-05-31  300.12   domestic\n",
       "1 2022-06-30  313.28   domestic\n",
       "2 2022-07-31  330.64   domestic\n",
       "3 2022-08-31  347.59   domestic\n",
       "4 2022-09-30  352.11   domestic"
      ]
     },
     "execution_count": 41,
     "metadata": {},
     "output_type": "execute_result"
    }
   ],
   "source": [
    "df = pd.DataFrame({'date': pd.date_range('31/05/2022', periods=5, freq='ME'), # freq='ME' means month end frequency\n",
    "                   'sales': [300.12, 313.28, 330.64, 347.59, 352.11],\n",
    "                   'department': 'domestic'})\n",
    "df"
   ]
  },
  {
   "cell_type": "markdown",
   "id": "a1fa4c33",
   "metadata": {},
   "source": [
    "**Checking the DataFrame index**\n",
    "\n",
    "- The index is how Pandas labels and organizes the rows in your DataFrame.\n",
    "- Knowing the index is important because it tells you how you can access, align, or join your data.\n"
   ]
  },
  {
   "cell_type": "code",
   "execution_count": 42,
   "id": "12abab4d",
   "metadata": {},
   "outputs": [
    {
     "data": {
      "text/plain": [
       "RangeIndex(start=0, stop=5, step=1)"
      ]
     },
     "execution_count": 42,
     "metadata": {},
     "output_type": "execute_result"
    }
   ],
   "source": [
    "df.index"
   ]
  },
  {
   "cell_type": "markdown",
   "id": "156d2223",
   "metadata": {},
   "source": [
    "**Setting a column as the index**\n",
    "- Makes it easier to work with time series data, since dates are now row labels."
   ]
  },
  {
   "cell_type": "code",
   "execution_count": 43,
   "id": "2b436e9d",
   "metadata": {},
   "outputs": [
    {
     "data": {
      "application/vnd.microsoft.datawrangler.viewer.v0+json": {
       "columns": [
        {
         "name": "date",
         "rawType": "datetime64[ns]",
         "type": "datetime"
        },
        {
         "name": "sales",
         "rawType": "float64",
         "type": "float"
        },
        {
         "name": "department",
         "rawType": "object",
         "type": "string"
        }
       ],
       "ref": "5493bcdd-1e60-4367-8e8c-64dde4e9a185",
       "rows": [
        [
         "2022-05-31 00:00:00",
         "300.12",
         "domestic"
        ],
        [
         "2022-06-30 00:00:00",
         "313.28",
         "domestic"
        ],
        [
         "2022-07-31 00:00:00",
         "330.64",
         "domestic"
        ],
        [
         "2022-08-31 00:00:00",
         "347.59",
         "domestic"
        ],
        [
         "2022-09-30 00:00:00",
         "352.11",
         "domestic"
        ]
       ],
       "shape": {
        "columns": 2,
        "rows": 5
       }
      },
      "text/html": [
       "<div>\n",
       "<style scoped>\n",
       "    .dataframe tbody tr th:only-of-type {\n",
       "        vertical-align: middle;\n",
       "    }\n",
       "\n",
       "    .dataframe tbody tr th {\n",
       "        vertical-align: top;\n",
       "    }\n",
       "\n",
       "    .dataframe thead th {\n",
       "        text-align: right;\n",
       "    }\n",
       "</style>\n",
       "<table border=\"1\" class=\"dataframe\">\n",
       "  <thead>\n",
       "    <tr style=\"text-align: right;\">\n",
       "      <th></th>\n",
       "      <th>sales</th>\n",
       "      <th>department</th>\n",
       "    </tr>\n",
       "    <tr>\n",
       "      <th>date</th>\n",
       "      <th></th>\n",
       "      <th></th>\n",
       "    </tr>\n",
       "  </thead>\n",
       "  <tbody>\n",
       "    <tr>\n",
       "      <th>2022-05-31</th>\n",
       "      <td>300.12</td>\n",
       "      <td>domestic</td>\n",
       "    </tr>\n",
       "    <tr>\n",
       "      <th>2022-06-30</th>\n",
       "      <td>313.28</td>\n",
       "      <td>domestic</td>\n",
       "    </tr>\n",
       "    <tr>\n",
       "      <th>2022-07-31</th>\n",
       "      <td>330.64</td>\n",
       "      <td>domestic</td>\n",
       "    </tr>\n",
       "    <tr>\n",
       "      <th>2022-08-31</th>\n",
       "      <td>347.59</td>\n",
       "      <td>domestic</td>\n",
       "    </tr>\n",
       "    <tr>\n",
       "      <th>2022-09-30</th>\n",
       "      <td>352.11</td>\n",
       "      <td>domestic</td>\n",
       "    </tr>\n",
       "  </tbody>\n",
       "</table>\n",
       "</div>"
      ],
      "text/plain": [
       "             sales department\n",
       "date                         \n",
       "2022-05-31  300.12   domestic\n",
       "2022-06-30  313.28   domestic\n",
       "2022-07-31  330.64   domestic\n",
       "2022-08-31  347.59   domestic\n",
       "2022-09-30  352.11   domestic"
      ]
     },
     "execution_count": 43,
     "metadata": {},
     "output_type": "execute_result"
    }
   ],
   "source": [
    "df.set_index('date', inplace=True)\n",
    "df"
   ]
  },
  {
   "cell_type": "markdown",
   "id": "66dc2c79",
   "metadata": {},
   "source": [
    "**We can also reset the index**"
   ]
  },
  {
   "cell_type": "code",
   "execution_count": 44,
   "id": "39dfc3d5",
   "metadata": {},
   "outputs": [
    {
     "data": {
      "application/vnd.microsoft.datawrangler.viewer.v0+json": {
       "columns": [
        {
         "name": "index",
         "rawType": "int64",
         "type": "integer"
        },
        {
         "name": "date",
         "rawType": "datetime64[ns]",
         "type": "datetime"
        },
        {
         "name": "sales",
         "rawType": "float64",
         "type": "float"
        },
        {
         "name": "department",
         "rawType": "object",
         "type": "string"
        }
       ],
       "ref": "ed71c381-1424-447c-83bd-8c2f12815740",
       "rows": [
        [
         "0",
         "2022-05-31 00:00:00",
         "300.12",
         "domestic"
        ],
        [
         "1",
         "2022-06-30 00:00:00",
         "313.28",
         "domestic"
        ],
        [
         "2",
         "2022-07-31 00:00:00",
         "330.64",
         "domestic"
        ],
        [
         "3",
         "2022-08-31 00:00:00",
         "347.59",
         "domestic"
        ],
        [
         "4",
         "2022-09-30 00:00:00",
         "352.11",
         "domestic"
        ]
       ],
       "shape": {
        "columns": 3,
        "rows": 5
       }
      },
      "text/html": [
       "<div>\n",
       "<style scoped>\n",
       "    .dataframe tbody tr th:only-of-type {\n",
       "        vertical-align: middle;\n",
       "    }\n",
       "\n",
       "    .dataframe tbody tr th {\n",
       "        vertical-align: top;\n",
       "    }\n",
       "\n",
       "    .dataframe thead th {\n",
       "        text-align: right;\n",
       "    }\n",
       "</style>\n",
       "<table border=\"1\" class=\"dataframe\">\n",
       "  <thead>\n",
       "    <tr style=\"text-align: right;\">\n",
       "      <th></th>\n",
       "      <th>date</th>\n",
       "      <th>sales</th>\n",
       "      <th>department</th>\n",
       "    </tr>\n",
       "  </thead>\n",
       "  <tbody>\n",
       "    <tr>\n",
       "      <th>0</th>\n",
       "      <td>2022-05-31</td>\n",
       "      <td>300.12</td>\n",
       "      <td>domestic</td>\n",
       "    </tr>\n",
       "    <tr>\n",
       "      <th>1</th>\n",
       "      <td>2022-06-30</td>\n",
       "      <td>313.28</td>\n",
       "      <td>domestic</td>\n",
       "    </tr>\n",
       "    <tr>\n",
       "      <th>2</th>\n",
       "      <td>2022-07-31</td>\n",
       "      <td>330.64</td>\n",
       "      <td>domestic</td>\n",
       "    </tr>\n",
       "    <tr>\n",
       "      <th>3</th>\n",
       "      <td>2022-08-31</td>\n",
       "      <td>347.59</td>\n",
       "      <td>domestic</td>\n",
       "    </tr>\n",
       "    <tr>\n",
       "      <th>4</th>\n",
       "      <td>2022-09-30</td>\n",
       "      <td>352.11</td>\n",
       "      <td>domestic</td>\n",
       "    </tr>\n",
       "  </tbody>\n",
       "</table>\n",
       "</div>"
      ],
      "text/plain": [
       "        date   sales department\n",
       "0 2022-05-31  300.12   domestic\n",
       "1 2022-06-30  313.28   domestic\n",
       "2 2022-07-31  330.64   domestic\n",
       "3 2022-08-31  347.59   domestic\n",
       "4 2022-09-30  352.11   domestic"
      ]
     },
     "execution_count": 44,
     "metadata": {},
     "output_type": "execute_result"
    }
   ],
   "source": [
    "df.reset_index()"
   ]
  },
  {
   "cell_type": "markdown",
   "id": "85e8753b",
   "metadata": {},
   "source": [
    "**Checking the Datafram columns**\n",
    "- Lists all column labels in the DataFrame.\n",
    "- Useful for quickly checking the structure of your dataset."
   ]
  },
  {
   "cell_type": "code",
   "execution_count": null,
   "id": "7dc78be3",
   "metadata": {},
   "outputs": [],
   "source": []
  },
  {
   "cell_type": "markdown",
   "id": "baf73d3b",
   "metadata": {},
   "source": [
    "### Exercise\n",
    "\n",
    "1. Create a dataframe called sales that matches the diagram below\n",
    "\n",
    "| week       | electronics_sales | furniture_sales |\n",
    "|------------|-------------------|-----------------|\n",
    "| 2022-06-05 | 120               | 85              |\n",
    "| 2022-06-12 | 135               | 90              |\n",
    "| 2022-06-19 | 128               | 88              |\n",
    "| 2022-06-26 | 150               | 95              |\n",
    "\n",
    "2. Display the sales dataframe\n",
    "3. Set the `week` column as index"
   ]
  },
  {
   "cell_type": "code",
   "execution_count": 45,
   "id": "26c6130a",
   "metadata": {},
   "outputs": [
    {
     "name": "stdout",
     "output_type": "stream",
     "text": [
      "            electronic_sales  furniture_sales\n",
      "date                                         \n",
      "2022-06-05               120               85\n",
      "2022-06-12               135               90\n",
      "2022-06-19               128               88\n",
      "2022-06-26               150               95\n"
     ]
    }
   ],
   "source": [
    "\n",
    "import pandas as pd\n",
    "\n",
    "sales = pd.DataFrame({\n",
    "    'date': pd.date_range('2022-06-05', periods=4, freq='W'),  # 'W' = weekly frequency\n",
    "    'electronic_sales': [120, 135, 128, 150],\n",
    "    'furniture_sales': [85, 90, 88, 95],\n",
    "    \n",
    "})\n",
    "\n",
    "# 設定 date 為 index\n",
    "sales.set_index('date', inplace=True)\n",
    "\n",
    "print(sales)\n"
   ]
  },
  {
   "cell_type": "markdown",
   "id": "fea35ec6",
   "metadata": {},
   "source": [
    "More often, DataFrames are created from data files, like **CSV (comma-separated values)** files, using [`pd.read_csv()`](https://pandas.pydata.org/pandas-docs/stable/reference/api/pandas.read_csv.html) function.\n",
    "\n",
    "**Let's import our first dataframe**"
   ]
  },
  {
   "cell_type": "code",
   "execution_count": 46,
   "id": "f159c0cd",
   "metadata": {},
   "outputs": [
    {
     "data": {
      "application/vnd.microsoft.datawrangler.viewer.v0+json": {
       "columns": [
        {
         "name": "Unnamed: 0",
         "rawType": "int64",
         "type": "integer"
        },
        {
         "name": "country",
         "rawType": "object",
         "type": "unknown"
        },
        {
         "name": "description",
         "rawType": "object",
         "type": "string"
        },
        {
         "name": "designation",
         "rawType": "object",
         "type": "unknown"
        },
        {
         "name": "points",
         "rawType": "int64",
         "type": "integer"
        },
        {
         "name": "price",
         "rawType": "float64",
         "type": "float"
        },
        {
         "name": "province",
         "rawType": "object",
         "type": "unknown"
        },
        {
         "name": "region_1",
         "rawType": "object",
         "type": "unknown"
        },
        {
         "name": "region_2",
         "rawType": "object",
         "type": "unknown"
        },
        {
         "name": "taster_name",
         "rawType": "object",
         "type": "unknown"
        },
        {
         "name": "taster_twitter_handle",
         "rawType": "object",
         "type": "unknown"
        },
        {
         "name": "title",
         "rawType": "object",
         "type": "string"
        },
        {
         "name": "variety",
         "rawType": "object",
         "type": "string"
        },
        {
         "name": "winery",
         "rawType": "object",
         "type": "string"
        }
       ],
       "ref": "ea517448-16ad-44ad-aae5-4c82290821b2",
       "rows": [
        [
         "77718",
         "Australia",
         "Possibly a little sweet, this is a soft, easygoing Chardonnay marked by clean, modest pear and melon flavors.",
         null,
         "83",
         "5.0",
         "Australia Other",
         "South Eastern Australia",
         null,
         "Joe Czerwinski",
         "@JoeCz",
         "Banrock Station 2006 Chardonnay (South Eastern Australia)",
         "Chardonnay",
         "Banrock Station"
        ],
        [
         "67681",
         "France",
         "A soft, almost off dry wine that is full in the mouth. It has caramel and spice flavors as well as light acidity. The wine feels weighty and definitely needs food.",
         "Réserve",
         "85",
         "12.0",
         "Rhône Valley",
         "Côtes du Rhône",
         null,
         "Roger Voss",
         "@vossroger",
         "Cellier des Dauphins 2015 Réserve Rosé (Côtes du Rhône)",
         "Rosé",
         "Cellier des Dauphins"
        ],
        [
         "69877",
         "Spain",
         "Generic white-fruit aromas of peach and apple are slightly pithy. This feels good but innocuous, while flavors of apple and stone fruits lose some of their snap and directness on a tropical-tasting finish.",
         "Estate Grown & Bottled",
         "86",
         "9.0",
         "Northern Spain",
         "Rueda",
         null,
         "Michael Schachner",
         "@wineschach",
         "Esperanza 2013 Estate Grown & Bottled Verdejo-Viura (Rueda)",
         "Verdejo-Viura",
         "Esperanza"
        ],
        [
         "46544",
         "US",
         "This is the winery's best Nebula in years. While it's still a little on the soft, sweet side, the cool vintage has resonated in the wine's flavor, giving it a good structure housing cherry, currant and sandalwood flavors. Drink now.",
         "Nebula",
         "87",
         "29.0",
         "California",
         "Paso Robles",
         "Central Coast",
         null,
         null,
         "Midnight 2010 Nebula Cabernet Sauvignon (Paso Robles)",
         "Cabernet Sauvignon",
         "Midnight"
        ],
        [
         "186",
         "US",
         "This is a very rich Pinot whose primary virtue is fruit. It just explodes with delicious cherry jam, red currant, licorice and mocha flavors. Dry and crisply acidic, it's a beautiful wine for early drinking.",
         "Wiley Vineyard",
         "88",
         "40.0",
         "California",
         "Anderson Valley",
         null,
         null,
         null,
         "Harrington 2006 Wiley Vineyard Pinot Noir (Anderson Valley)",
         "Pinot Noir",
         "Harrington"
        ],
        [
         "73126",
         "US",
         "An unabashedly rich and luscious wine, this combines ripe and fresh fruit flavors with luxurious spicy, buttery accents and an almost thick texture. With a subtext as savory as Udon broth it's practically a meal in a bottle. Call it full-bodied, full-flavored, ultrasmooth and impressive.",
         null,
         "90",
         "22.0",
         "California",
         "Sonoma County-Monterey County-Santa Barbara County",
         "California Other",
         "Jim Gordon",
         "@gordone_cellars",
         "Meiomi 2013 Chardonnay (Sonoma County-Monterey County-Santa Barbara County)",
         "Chardonnay",
         "Meiomi"
        ],
        [
         "26800",
         "US",
         "This opens with a pleasing toasty aroma, following through on the palate. That deft touch of French oak (33% new) frames a solid core of strawberry preserves and Bing cherry fruit. It resonates on through a stylish, textural finish. Enjoy this immediately, and tuck away a few bottles to drink in five years.",
         "Five Faces",
         "90",
         "33.0",
         "Oregon",
         "Willamette Valley",
         "Willamette Valley",
         "Paul Gregutt",
         "@paulgwine ",
         "Fullerton 2014 Five Faces Pinot Noir (Willamette Valley)",
         "Pinot Noir",
         "Fullerton"
        ],
        [
         "80832",
         "Italy",
         "Made with 100% Chardonnay, this creamy sparkler opens with aromas of hawthorn, peach and a whiff of bread crust. The palate reveals candied nectarine zest and golden apple alongside a soft perlage. It ends on a note of white almond.",
         "Saten",
         "89",
         "35.0",
         "Lombardy",
         "Franciacorta",
         null,
         "Kerin O’Keefe",
         "@kerinokeefe",
         "Lantieri de Paratico NV Saten Chardonnay (Franciacorta)",
         "Chardonnay",
         "Lantieri de Paratico"
        ],
        [
         "86297",
         "US",
         "Here's a good, everyday Cab if you're looking for a bargain. It's dry, tannic and earthy, with suggestions of currants and oak.",
         null,
         "84",
         "10.0",
         "California",
         "Central Coast",
         "Central Coast",
         null,
         null,
         "Cupcake 2005 Cabernet Sauvignon (Central Coast)",
         "Cabernet Sauvignon",
         "Cupcake"
        ],
        [
         "56015",
         "France",
         "Made from low-yielding, 70-year-old vines, this is a dense wine with an almost-dark structure and ripe red-plum flavors. Powerful, it obviously will be better with food and could even benefit from decanting before drinking. Age this concentrated wine until late 2016.",
         "Clos du Château",
         "92",
         "21.0",
         "Provence",
         "Côtes de Provence",
         null,
         "Roger Voss",
         "@vossroger",
         "Domaine du Clos Gautier 2015 Clos du Château Rosé (Côtes de Provence)",
         "Rosé",
         "Domaine du Clos Gautier"
        ],
        [
         "78536",
         "US",
         "Amidst cola and sassafras on the nose, there's a bit of rotting cherry funk and some compost pile aromas to this intriguing single-vineyard Syrah from the Los Alamos area. The little bit of cherry sweetness on the palate gets more serious with chopped herbs, tobacco and cedar.",
         "White Hawk Vineyard",
         "89",
         "38.0",
         "California",
         "Santa Barbara County",
         "Central Coast",
         "Matt Kettmann",
         "@mattkettmann",
         "Deep Sea 2011 White Hawk Vineyard Syrah (Santa Barbara County)",
         "Syrah",
         "Deep Sea"
        ],
        [
         "41016",
         "France",
         "This ripe, fruity wine has both freshness and a warmer, rounded character. Apricot and fresh white peach fruits are filled out with almond flavors as well as acidity. It's a wine to enjoy now, although it will be better from 2016",
         "Réserve des Vignerons",
         "86",
         "14.0",
         "Loire Valley",
         "Saumur",
         null,
         "Roger Voss",
         "@vossroger",
         "Cave de Saumur 2014 Réserve des Vignerons  (Saumur)",
         "Chenin Blanc",
         "Cave de Saumur"
        ],
        [
         "81019",
         "France",
         "This is a smooth and creamy wine with soft apple flavors mingling with almonds and brisk acidity. It has a tight edge of minerality that adds a fine texture, offering a glimpse of the extra richness that can be expected in 2–3 years.",
         "Clos le Vigneau",
         "90",
         "18.0",
         "Loire Valley",
         "Vouvray",
         null,
         "Roger Voss",
         "@vossroger",
         "Château Gaudrelle 2010 Clos le Vigneau  (Vouvray)",
         "Chenin Blanc",
         "Château Gaudrelle"
        ],
        [
         "129762",
         "US",
         "It shows ultrarich tannins and a flavor complexity ranging from briary wild blackberries and prunes to currants, nettles, sweet tea and softened cola. It's absolutely dry, despite or perhaps because of very high alcohol. The wine is unapologetic about that ripeness, instead asking only to be happily paired with barbecue.",
         null,
         "87",
         "20.0",
         "California",
         "Russian River Valley",
         "Sonoma",
         null,
         null,
         "Novy 2012 Zinfandel (Russian River Valley)",
         "Zinfandel",
         "Novy"
        ],
        [
         "34634",
         "Portugal",
         "With a high proportion of generous Alicante Bouschet in the blend, this is a big, bold wine. It has smoky flavors showing a meaty character that's enhanced by 12 months wood aging. Generous tannins give a rich, structured character. It could still do with some aging, so drink from 2017.",
         "Santos da Casa Reserva",
         "91",
         "19.0",
         "Alentejano",
         null,
         null,
         "Roger Voss",
         "@vossroger",
         "Casca Wines 2011 Santos da Casa Reserva Red (Alentejano)",
         "Portuguese Red",
         "Casca Wines"
        ],
        [
         "20284",
         "Italy",
         "Baked plum, blue flower, dark spice, vanilla and dried herb emerge in the glass. The dense, chewy palate offers mature black cherry, raspberry jam, fig and sweet cake spice alongside velvety tannins. It has hit its ideal drinking window so enjoy soon.",
         "Caleno Oro",
         "88",
         null,
         "Southern Italy",
         "Campania",
         null,
         "Kerin O’Keefe",
         "@kerinokeefe",
         "Nugnes 2009 Caleno Oro Aglianico (Campania)",
         "Aglianico",
         "Nugnes"
        ],
        [
         "111397",
         "US",
         "The winery says this high-alcohol wine, made from Muscat and Verdelho, was aged for ten years in barrels. It has a floral, Sherry taste, with that distinctive yeasty flavor undergirding quite sweet pineapples, oranges, apricots and white chocolate.",
         "Dessert Wine",
         "86",
         "20.0",
         "California",
         "California",
         "California Other",
         null,
         null,
         "Elkhorn Peak NV Dessert Wine White (California)",
         "White Blend",
         "Elkhorn Peak"
        ],
        [
         "26153",
         "Germany",
         "Hints of lemon shortbread, fresh apple and white flower unfold on the nose of this delicately honeyed wine. On the palate, sweet white-peach and yellow-cherry flavors run just a shade off dry. Easy going and fresh, it finishes long, with a streak of tangerine acidity.",
         "Dom Off-Dry",
         "89",
         "18.0",
         "Mosel",
         null,
         null,
         "Anna Lee C. Iijima",
         null,
         "Bischöfliche Weingüter Trier 2015 Dom Off-Dry Riesling (Mosel)",
         "Riesling",
         "Bischöfliche Weingüter Trier"
        ],
        [
         "110148",
         "Italy",
         "Notes of cherry and raspberry open the nose of this organic wine. It is easy on the palate, with a lean, fruit-filled finish.",
         "Vriccio",
         "86",
         "20.0",
         "Southern Italy",
         "Puglia",
         null,
         null,
         null,
         "Antica Enotria 2011 Vriccio Primitivo (Puglia)",
         "Primitivo",
         "Antica Enotria"
        ],
        [
         "125453",
         "US",
         "A blend of Ciel du Cheval and Force Majeure vineyards, this wine brings a mix of pomegranate, dark raspberry, dried tobacco, crushed rock and peppery spices. It explodes on the palate with rich, dense, cranberry and spice flavors that linger.",
         "Crazy Mary",
         "93",
         "48.0",
         "Washington",
         "Red Mountain",
         "Columbia Valley",
         "Sean P. Sullivan",
         "@wawinereport",
         "Mark Ryan 2012 Crazy Mary Mourvèdre (Red Mountain)",
         "Mourvèdre",
         "Mark Ryan"
        ],
        [
         "69961",
         "Chile",
         "Fleshy, tropical aromas with a touch of varietal snap set up a green palate with sweet lime and scallion flavors. The finish shows ripeness and tropical notes before turning heavy. Drink this well chilled.",
         "U Estate Grown",
         "85",
         "11.0",
         "Maipo Valley",
         null,
         null,
         "Michael Schachner",
         "@wineschach",
         "Undurraga 2012 U Estate Grown Sauvignon Blanc (Maipo Valley)",
         "Sauvignon Blanc",
         "Undurraga"
        ],
        [
         "73036",
         "Australia",
         "This restrained, medium-bodied Cabernet Sauvignon is a solid value. On the nose, cedar, vanilla and cassis elements blend together easily, while brown sugar and vanilla flavors are supported by just enough cassis and black cherry fruit. Drink now–2028.",
         "Two Passions",
         "90",
         "20.0",
         "Western Australia",
         "Margaret River",
         null,
         "Joe Czerwinski",
         "@JoeCz",
         "Wildberry Estate 2013 Two Passions Cabernet Sauvignon (Margaret River)",
         "Cabernet Sauvignon",
         "Wildberry Estate"
        ],
        [
         "42766",
         "US",
         "Intense perfume and floral notes overcome ripe apple aromas. It's dry on the palate with flavors of savory apple and green herbs, but feels a bit flat and heavy in mouthfeel.",
         null,
         "83",
         "25.0",
         "New York",
         "North Fork of Long Island",
         "Long Island",
         "Anna Lee C. Iijima",
         null,
         "Palmer 2012 Albariño (North Fork of Long Island)",
         "Albariño",
         "Palmer"
        ],
        [
         "96340",
         "US",
         "This cool climate region is well-suited to this grape, producing aromatic, elegant wines such as this without the over-the-top perfume that can drive consumers away. Subtle aromas suggest light talc, acacia and calla lily, while in the mouth this is soft and smooth. Overall it's just plain pretty, with details of apple and apple skin.",
         "Gorge Crest",
         "90",
         "28.0",
         "Oregon",
         "Columbia Gorge (OR)",
         "Oregon Other",
         "Paul Gregutt",
         "@paulgwine ",
         "Phelps Creek 2015 Gorge Crest Gewürztraminer (Columbia Gorge (OR))",
         "Gewürztraminer",
         "Phelps Creek"
        ],
        [
         "9203",
         "Portugal",
         "A soft apple-tinged wine, with bright acidity that cuts right through. The wine is rounded, with just enough crispness. Ready to drink.",
         "Conde de Vimioso Colheita Seleccionada",
         "86",
         "9.0",
         "Tejo",
         null,
         null,
         "Roger Voss",
         "@vossroger",
         "Falua 2010 Conde de Vimioso Colheita Seleccionada White (Tejo)",
         "Portuguese White",
         "Falua"
        ],
        [
         "88712",
         "Italy",
         "Here's a Pinot Grigio that ranks high in terms of fresh, easy-drinking white wine options from northern Italy. The bouquet delivers crisp tones of honeydew melon, herb and a distant mineral dusting. In the mouth, it shows balanced freshness and a bright peach finish.",
         null,
         "87",
         "17.0",
         "Northeastern Italy",
         "Alto Adige",
         null,
         null,
         null,
         "Erste Neue 2011 Pinot Grigio (Alto Adige)",
         "Pinot Grigio",
         "Erste Neue"
        ],
        [
         "38625",
         "Spain",
         "Sweaty and pickled at first, although airing reveals some hidden dark fruit aromas. The palate is grapy and accented by black plum, yet it finishes salty and cheeky, with grabby tannins. Has it good points but lacks direction and elegance.",
         "Viña Tobía",
         "84",
         "11.0",
         "Northern Spain",
         "Rioja",
         null,
         "Michael Schachner",
         "@wineschach",
         "Bodegas Tobía 2005 Viña Tobía  (Rioja)",
         "Tempranillo",
         "Bodegas Tobía"
        ],
        [
         "74575",
         "Italy",
         "This plush Syrah opens with a pretty ruby color and thick, almost syrupy, tones of blueberry and raspberry. The fruit aromas are followed by spice and roasted almonds and the wine is succulent and chewy to the very end.",
         "Una Viola Signature",
         "88",
         "16.0",
         "Sicily & Sardinia",
         "Sicilia",
         null,
         null,
         null,
         "Spadina 2006 Una Viola Signature Syrah (Sicilia)",
         "Syrah",
         "Spadina"
        ],
        [
         "129599",
         "France",
         "This is pretty pale for a Tavel, with a coppery tinge to its pink color. Notes of lime zest, wet stone and modest cherry-berry notes finish on a bright citrus note.",
         null,
         "90",
         "24.0",
         "Rhône Valley",
         "Tavel",
         null,
         "Joe Czerwinski",
         "@JoeCz",
         "Prieuré de Montézargues 2014  Tavel",
         "Rosé",
         "Prieuré de Montézargues"
        ],
        [
         "2062",
         "US",
         "This brilliant Sauvignon Blanc should be scooped up by sommeliers. It's exceptionally dry and tart in citrusy acids, with a mineral scour that's perfect for shellfish or savory appetizers. The flavors are of lemons, limes, gooseberries and white pepper. Beautiful and compelling.",
         null,
         "91",
         "17.0",
         "California",
         "Napa Valley",
         "Napa",
         null,
         null,
         "Broman 2008 Sauvignon Blanc (Napa Valley)",
         "Sauvignon Blanc",
         "Broman"
        ],
        [
         "59333",
         "Argentina",
         "Foxy berry aromas are the lead scent, and they're followed by notes of wet dog and raspberry. This is full bodied and round as a ball, with earthy, lightly herbal flavors of red berries, thyme and rosemary. A warm, loamy finish brings oaky flavors and closing weight. Drink this blend of 70% Malbec and 30% Cabernet Sauvignon through 2016.",
         "Amancaya Gran Reserva",
         "89",
         "21.0",
         "Mendoza Province",
         "Mendoza",
         null,
         "Michael Schachner",
         "@wineschach",
         "Bodegas Caro 2011 Amancaya Gran Reserva Malbec-Cabernet Sauvignon (Mendoza)",
         "Malbec-Cabernet Sauvignon",
         "Bodegas Caro"
        ],
        [
         "51953",
         "South Africa",
         "A decadent blend of ripe berries and rich oak characterizes this wine; sweet smoke and baking spice mingle harmoniously with notes of mashed raspberry and blackberry, accented by hints of hickory-cured bacon and raw cocoa nibs. The medium-weight mouth is structured and bold, with chewy tannins and heady flavors of plum and berry preserves, roasted coffee and sweet licorice. The finish is long and dry, and although this would certainly benefit from 5–10 years of cellaring time, it's approachable now with decanting.",
         "Redhill",
         "92",
         "38.0",
         "Stellenbosch",
         null,
         null,
         "Lauren Buzzeo",
         "@laurbuzz",
         "Simonsig 2011 Redhill Pinotage (Stellenbosch)",
         "Pinotage",
         "Simonsig"
        ],
        [
         "50600",
         "US",
         "Tastes a bit medicinal, with a sweet-sour quality of lemons and pineapples, and is quite acidic. Lacks richness, but it's a decent everyday Chardonnay.",
         null,
         "83",
         "14.0",
         "California",
         "Central Coast",
         "Central Coast",
         null,
         null,
         "Castoro Cellars 2007 Chardonnay (Central Coast)",
         "Chardonnay",
         "Castoro Cellars"
        ],
        [
         "93473",
         "Portugal",
         "Quinta do Pégo produces a light, fast maturing style of vintage Port. This 2009 has the bonus of great richness, although its fruity character and soft tannins suggest it will mature rapidly.",
         "Quinta do Pégo Vintage",
         "87",
         "28.0",
         "Port",
         null,
         null,
         "Roger Voss",
         "@vossroger",
         "Rozes 2009 Quinta do Pégo Vintage  (Port)",
         "Port",
         "Rozes"
        ],
        [
         "105270",
         "US",
         "A surprisingly green tinge vies with tobacco, raspberry and woodspice for attention. This wine is full in feel with good concentration of flavors but ultimately the greenness provides distraction.",
         null,
         "88",
         "28.0",
         "Washington",
         "Columbia Valley (WA)",
         "Columbia Valley",
         "Sean P. Sullivan",
         "@wawinereport",
         "Tamarack Cellars 2012 Merlot (Columbia Valley (WA))",
         "Merlot",
         "Tamarack Cellars"
        ],
        [
         "25069",
         "France",
         "Dense and dry, this is a tough, extracted wine. It has a hard edge followed by juicy acidity and will probably remain on the dry side.",
         null,
         "85",
         "20.0",
         "Bordeaux",
         "Blaye Côtes de Bordeaux",
         null,
         "Roger Voss",
         "@vossroger",
         "Château Grand Bourgeau 2015  Blaye Côtes de Bordeaux",
         "Bordeaux-style Red Blend",
         "Château Grand Bourgeau"
        ],
        [
         "1472",
         "US",
         "This varietal Cabernet Sauvignon hails from the producer's organic Chiles Valley estate. It's muscular and lushly layered, with spicy leather and tobacco notes accented by a delicate touch of violet and supported by firm, grippy tannin. Drink now through 2033.",
         "Sievers Reserve",
         "93",
         "80.0",
         "California",
         "Napa Valley",
         "Napa",
         "Virginie Boone",
         "@vboone",
         "Volker Eisele Family Estate 2013 Sievers Reserve Cabernet Sauvignon (Napa Valley)",
         "Cabernet Sauvignon",
         "Volker Eisele Family Estate"
        ],
        [
         "54640",
         "Spain",
         "Standard berry aromas show touches of raisin and earth, but not too much of either. It feels fresh, crisp and alert, with cherry tomato, berry fruit, tobacco and vanilla flavors. This feels healthy but not real deep or complex on the finish.",
         "Single Vineyard Roble",
         "86",
         "13.0",
         "Northern Spain",
         "Ribera del Duero",
         null,
         "Michael Schachner",
         "@wineschach",
         "Finca El Encinal 2009 Single Vineyard Roble  (Ribera del Duero)",
         "Tempranillo",
         "Finca El Encinal"
        ],
        [
         "118066",
         "US",
         "The blend is mainly Cabernet Sauvignon, with the other four classic Bordeaux varieties added for complexity. The grapes were sourced from vineyards throughout Sonoma County, and the finished wine was aged in 75% new oak. It's very fine, with concentrated, intense blackberry, cherry and crème de cassis flavors.Minerality, in the form of granite, lends a lick of stone. It's still extremely tannic, and needs much more timebefore it begins to come around.",
         "La Joie",
         "96",
         "450.0",
         "California",
         "Sonoma County",
         "Sonoma",
         null,
         null,
         "Verité 2007 La Joie Red (Sonoma County)",
         "Bordeaux-style Red Blend",
         "Verité"
        ],
        [
         "123779",
         "Portugal",
         "Named after Siza Vieira, the architect of the modern Adega Mayor winery, this dense, darkly colored wine is hugely ripe, with great fruits and rich coffee and spice flavors. It's a wine that perfectly fits the adjective opulent, powered by great fruits and dense tannins, with fine aging potential. Drink from 2017.",
         "Siza",
         "93",
         "75.0",
         "Alentejano",
         null,
         null,
         "Roger Voss",
         "@vossroger",
         "Adega Mayor 2009 Siza Alicante Bouschet (Alentejano)",
         "Alicante Bouschet",
         "Adega Mayor"
        ],
        [
         "73985",
         "France",
         "A gorgeously perfumed wine, dominated by the ripest Cabernet Franc, combining richness and an intense structure. With its tannins, it will age well over many years. The fruit is finely textured, deliciously juicy, showing the most complex series of flavors.",
         null,
         "95",
         "295.0",
         "Bordeaux",
         "Saint-Émilion",
         null,
         "Roger Voss",
         "@vossroger",
         "Le Dôme 2009  Saint-Émilion",
         "Bordeaux-style Red Blend",
         "Le Dôme"
        ],
        [
         "48269",
         "US",
         "New oak dominates this wine, giving it aromas of toast and vanilla. After decanting, the air brings out interesting notes of dried herbs and blackberries. Tastes very rich and flamboyant, almost sweet, like a chocolate berry pastry, and should develop over the next few years. Mainly Cabernet Sauvignon, with Sangiovese, Cabernet Franc and Petit Verdot.",
         "Meritaggio",
         "90",
         "55.0",
         "California",
         "Napa Valley",
         "Napa",
         null,
         null,
         "David Arthur 2008 Meritaggio Red (Napa Valley)",
         "Red Blend",
         "David Arthur"
        ],
        [
         "88504",
         "Australia",
         "This blend of 79% Sauvignon Blanc and 21% Semillon is pungent and sweaty, with an almost Collio-like pungency. It's a bold, in-your-face passion-fruit monster that fades quickly on the finish.",
         "Miamup",
         "88",
         "23.0",
         "Western Australia",
         "Margaret River",
         null,
         "Joe Czerwinski",
         "@JoeCz",
         "Howard Park 2015 Miamup Sauvignon Blanc-Semillon (Margaret River)",
         "Sauvignon Blanc-Semillon",
         "Howard Park"
        ],
        [
         "102631",
         "Portugal",
         "All the warm southern heat of the Alentejo is in this wine. It is rich, generous and full of ripe, black fruits. Berries and juicy damsons are spiced with pepper, rich tannins and lifted by acidity. It is a wine for big meat dishes, for stews, a powerful, no-holds-barred style. It will be ready to drink from 2017.",
         "Azul Portugal Reserva",
         "90",
         "40.0",
         "Alentejano",
         null,
         null,
         "Roger Voss",
         "@vossroger",
         "Wines & Winemakers 2013 Azul Portugal Reserva Red (Alentejano)",
         "Portuguese Red",
         "Wines & Winemakers"
        ],
        [
         "64187",
         "South Africa",
         "73% Merlot, with Cabernet and Petite Verdot making up the difference, this is a finely crafted and delicious effort. Medium-bodied and creamy, the Merlot gives this wine a feminine feel, despite solid, soft tannins. Dark, extracted black fruits have some accents of forest and black olive, while leather adds to the cherry and cassis nose. Could use time to soften further, but very approachable now.",
         null,
         "90",
         "55.0",
         "Stellenbosch",
         null,
         null,
         null,
         null,
         "Tokara 2003 Red (Stellenbosch)",
         "Bordeaux-style Red Blend",
         "Tokara"
        ],
        [
         "124726",
         "Georgia",
         "This inky red-violet wine has a nose of blueberry pie, green pepper and violet. It is slightly tart at first sip, with tannins that hide at first and then coat the tongue and gums. A rich flavor profile of blackberry, cranberry, anise, violet and white chocolate makes way for cherry and chocolate notes in the finish.",
         "Mukuzani",
         "90",
         "16.0",
         "Kakheti",
         null,
         null,
         "Mike DeSimone",
         "@worldwineguys",
         "Teliani Valley 2013 Mukuzani Saperavi (Kakheti)",
         "Saperavi",
         "Teliani Valley"
        ],
        [
         "118840",
         "Italy",
         "Succulent steak or breaded veal would make good pairing partners to this elegant Brunello. The wine delivers oak spice, red fruit, black pepper and balsam notes of dried ginger and cola. The wine is lively and delicate with some astringency to the tannins that will soften in a few more years.",
         "Agricola Centolani",
         "90",
         null,
         "Tuscany",
         "Brunello di Montalcino",
         null,
         null,
         null,
         "Pietranera 2008 Agricola Centolani  (Brunello di Montalcino)",
         "Sangiovese Grosso",
         "Pietranera"
        ],
        [
         "121814",
         "France",
         "This wine is firm with solid tannins. It has rich fruit and concentration with layers of blackberry and dark plums. It comes from a small seven-acre property and is aged for 15 months in wood. This impressive wine needs to age, so drink from 2022.",
         "Cuvée Excellence",
         "92",
         "35.0",
         "Bordeaux",
         "Pomerol",
         null,
         "Roger Voss",
         "@vossroger",
         "Château Lafleur du Roy 2015 Cuvée Excellence  (Pomerol)",
         "Bordeaux-style Red Blend",
         "Château Lafleur du Roy"
        ],
        [
         "81493",
         "Italy",
         "This opens with delicate scents of field flower and white stone fruit. On the creamy off-dry palate, a soft mousse backs up sweet white peach, green apple and a candied citrus note while bright acidity lends freshness.",
         "Dry",
         "88",
         "22.0",
         "Veneto",
         "Valdobbiadene Prosecco Superiore",
         null,
         "Kerin O’Keefe",
         "@kerinokeefe",
         "Andreola 2016 Dry  (Valdobbiadene Prosecco Superiore)",
         "Glera",
         "Andreola"
        ],
        [
         "54403",
         "France",
         "Steely, minerally and very textured, this has concentratio and taut layer of acidity to go with the lime fruit. Powered by its structure, it will age for 3–4 years.",
         "Vau de Vey Premier Cru",
         "92",
         "36.0",
         "Burgundy",
         "Chablis",
         null,
         "Roger Voss",
         "@vossroger",
         "Romain Bouchard 2010 Vau de Vey Premier Cru  (Chablis)",
         "Chardonnay",
         "Romain Bouchard"
        ]
       ],
       "shape": {
        "columns": 13,
        "rows": 58487
       }
      },
      "text/html": [
       "<div>\n",
       "<style scoped>\n",
       "    .dataframe tbody tr th:only-of-type {\n",
       "        vertical-align: middle;\n",
       "    }\n",
       "\n",
       "    .dataframe tbody tr th {\n",
       "        vertical-align: top;\n",
       "    }\n",
       "\n",
       "    .dataframe thead th {\n",
       "        text-align: right;\n",
       "    }\n",
       "</style>\n",
       "<table border=\"1\" class=\"dataframe\">\n",
       "  <thead>\n",
       "    <tr style=\"text-align: right;\">\n",
       "      <th></th>\n",
       "      <th>country</th>\n",
       "      <th>description</th>\n",
       "      <th>designation</th>\n",
       "      <th>points</th>\n",
       "      <th>price</th>\n",
       "      <th>province</th>\n",
       "      <th>region_1</th>\n",
       "      <th>region_2</th>\n",
       "      <th>taster_name</th>\n",
       "      <th>taster_twitter_handle</th>\n",
       "      <th>title</th>\n",
       "      <th>variety</th>\n",
       "      <th>winery</th>\n",
       "    </tr>\n",
       "    <tr>\n",
       "      <th>Unnamed: 0</th>\n",
       "      <th></th>\n",
       "      <th></th>\n",
       "      <th></th>\n",
       "      <th></th>\n",
       "      <th></th>\n",
       "      <th></th>\n",
       "      <th></th>\n",
       "      <th></th>\n",
       "      <th></th>\n",
       "      <th></th>\n",
       "      <th></th>\n",
       "      <th></th>\n",
       "      <th></th>\n",
       "    </tr>\n",
       "  </thead>\n",
       "  <tbody>\n",
       "    <tr>\n",
       "      <th>77718</th>\n",
       "      <td>Australia</td>\n",
       "      <td>Possibly a little sweet, this is a soft, easyg...</td>\n",
       "      <td>NaN</td>\n",
       "      <td>83</td>\n",
       "      <td>5.0</td>\n",
       "      <td>Australia Other</td>\n",
       "      <td>South Eastern Australia</td>\n",
       "      <td>NaN</td>\n",
       "      <td>Joe Czerwinski</td>\n",
       "      <td>@JoeCz</td>\n",
       "      <td>Banrock Station 2006 Chardonnay (South Eastern...</td>\n",
       "      <td>Chardonnay</td>\n",
       "      <td>Banrock Station</td>\n",
       "    </tr>\n",
       "    <tr>\n",
       "      <th>67681</th>\n",
       "      <td>France</td>\n",
       "      <td>A soft, almost off dry wine that is full in th...</td>\n",
       "      <td>Réserve</td>\n",
       "      <td>85</td>\n",
       "      <td>12.0</td>\n",
       "      <td>Rhône Valley</td>\n",
       "      <td>Côtes du Rhône</td>\n",
       "      <td>NaN</td>\n",
       "      <td>Roger Voss</td>\n",
       "      <td>@vossroger</td>\n",
       "      <td>Cellier des Dauphins 2015 Réserve Rosé (Côtes ...</td>\n",
       "      <td>Rosé</td>\n",
       "      <td>Cellier des Dauphins</td>\n",
       "    </tr>\n",
       "    <tr>\n",
       "      <th>69877</th>\n",
       "      <td>Spain</td>\n",
       "      <td>Generic white-fruit aromas of peach and apple ...</td>\n",
       "      <td>Estate Grown &amp; Bottled</td>\n",
       "      <td>86</td>\n",
       "      <td>9.0</td>\n",
       "      <td>Northern Spain</td>\n",
       "      <td>Rueda</td>\n",
       "      <td>NaN</td>\n",
       "      <td>Michael Schachner</td>\n",
       "      <td>@wineschach</td>\n",
       "      <td>Esperanza 2013 Estate Grown &amp; Bottled Verdejo-...</td>\n",
       "      <td>Verdejo-Viura</td>\n",
       "      <td>Esperanza</td>\n",
       "    </tr>\n",
       "    <tr>\n",
       "      <th>46544</th>\n",
       "      <td>US</td>\n",
       "      <td>This is the winery's best Nebula in years. Whi...</td>\n",
       "      <td>Nebula</td>\n",
       "      <td>87</td>\n",
       "      <td>29.0</td>\n",
       "      <td>California</td>\n",
       "      <td>Paso Robles</td>\n",
       "      <td>Central Coast</td>\n",
       "      <td>NaN</td>\n",
       "      <td>NaN</td>\n",
       "      <td>Midnight 2010 Nebula Cabernet Sauvignon (Paso ...</td>\n",
       "      <td>Cabernet Sauvignon</td>\n",
       "      <td>Midnight</td>\n",
       "    </tr>\n",
       "    <tr>\n",
       "      <th>186</th>\n",
       "      <td>US</td>\n",
       "      <td>This is a very rich Pinot whose primary virtue...</td>\n",
       "      <td>Wiley Vineyard</td>\n",
       "      <td>88</td>\n",
       "      <td>40.0</td>\n",
       "      <td>California</td>\n",
       "      <td>Anderson Valley</td>\n",
       "      <td>NaN</td>\n",
       "      <td>NaN</td>\n",
       "      <td>NaN</td>\n",
       "      <td>Harrington 2006 Wiley Vineyard Pinot Noir (And...</td>\n",
       "      <td>Pinot Noir</td>\n",
       "      <td>Harrington</td>\n",
       "    </tr>\n",
       "    <tr>\n",
       "      <th>...</th>\n",
       "      <td>...</td>\n",
       "      <td>...</td>\n",
       "      <td>...</td>\n",
       "      <td>...</td>\n",
       "      <td>...</td>\n",
       "      <td>...</td>\n",
       "      <td>...</td>\n",
       "      <td>...</td>\n",
       "      <td>...</td>\n",
       "      <td>...</td>\n",
       "      <td>...</td>\n",
       "      <td>...</td>\n",
       "      <td>...</td>\n",
       "    </tr>\n",
       "    <tr>\n",
       "      <th>43857</th>\n",
       "      <td>US</td>\n",
       "      <td>A solid effort from a dependable winery that u...</td>\n",
       "      <td>Winemaker's Reserve</td>\n",
       "      <td>88</td>\n",
       "      <td>35.0</td>\n",
       "      <td>California</td>\n",
       "      <td>Sonoma County</td>\n",
       "      <td>Sonoma</td>\n",
       "      <td>NaN</td>\n",
       "      <td>NaN</td>\n",
       "      <td>Château Souverain 1996 Winemaker's Reserve Cab...</td>\n",
       "      <td>Cabernet Sauvignon</td>\n",
       "      <td>Château Souverain</td>\n",
       "    </tr>\n",
       "    <tr>\n",
       "      <th>87060</th>\n",
       "      <td>Greece</td>\n",
       "      <td>Crushed thyme, pine resin and lemon start this...</td>\n",
       "      <td>Retsina of Attica</td>\n",
       "      <td>86</td>\n",
       "      <td>9.0</td>\n",
       "      <td>Attica</td>\n",
       "      <td>NaN</td>\n",
       "      <td>NaN</td>\n",
       "      <td>Susan Kostrzewa</td>\n",
       "      <td>@suskostrzewa</td>\n",
       "      <td>Kourtaki NV Retsina of Attica Savatiano (Attica)</td>\n",
       "      <td>Savatiano</td>\n",
       "      <td>Kourtaki</td>\n",
       "    </tr>\n",
       "    <tr>\n",
       "      <th>96141</th>\n",
       "      <td>Italy</td>\n",
       "      <td>Made from Negroamaro, this opens with aromas o...</td>\n",
       "      <td>NaN</td>\n",
       "      <td>87</td>\n",
       "      <td>15.0</td>\n",
       "      <td>Southern Italy</td>\n",
       "      <td>Salento</td>\n",
       "      <td>NaN</td>\n",
       "      <td>Kerin O’Keefe</td>\n",
       "      <td>@kerinokeefe</td>\n",
       "      <td>Masseria Altemura 2016 Rosato (Salento)</td>\n",
       "      <td>Rosato</td>\n",
       "      <td>Masseria Altemura</td>\n",
       "    </tr>\n",
       "    <tr>\n",
       "      <th>75013</th>\n",
       "      <td>US</td>\n",
       "      <td>This big, bold wine has the taste profile of a...</td>\n",
       "      <td>Estate Mae's Block Ravazzi Vineyard</td>\n",
       "      <td>88</td>\n",
       "      <td>32.0</td>\n",
       "      <td>California</td>\n",
       "      <td>Mendocino</td>\n",
       "      <td>NaN</td>\n",
       "      <td>Jim Gordon</td>\n",
       "      <td>@gordone_cellars</td>\n",
       "      <td>Jaxon Keys 2013 Estate Mae's Block Ravazzi Vin...</td>\n",
       "      <td>Zinfandel</td>\n",
       "      <td>Jaxon Keys</td>\n",
       "    </tr>\n",
       "    <tr>\n",
       "      <th>106613</th>\n",
       "      <td>Spain</td>\n",
       "      <td>Zingy and sort of floral on the nose, but fair...</td>\n",
       "      <td>Blanco</td>\n",
       "      <td>82</td>\n",
       "      <td>10.0</td>\n",
       "      <td>Central Spain</td>\n",
       "      <td>La Mancha</td>\n",
       "      <td>NaN</td>\n",
       "      <td>Michael Schachner</td>\n",
       "      <td>@wineschach</td>\n",
       "      <td>Finca Antigua 2006 Blanco Viura (La Mancha)</td>\n",
       "      <td>Viura</td>\n",
       "      <td>Finca Antigua</td>\n",
       "    </tr>\n",
       "  </tbody>\n",
       "</table>\n",
       "<p>58487 rows × 13 columns</p>\n",
       "</div>"
      ],
      "text/plain": [
       "              country                                        description  \\\n",
       "Unnamed: 0                                                                 \n",
       "77718       Australia  Possibly a little sweet, this is a soft, easyg...   \n",
       "67681          France  A soft, almost off dry wine that is full in th...   \n",
       "69877           Spain  Generic white-fruit aromas of peach and apple ...   \n",
       "46544              US  This is the winery's best Nebula in years. Whi...   \n",
       "186                US  This is a very rich Pinot whose primary virtue...   \n",
       "...               ...                                                ...   \n",
       "43857              US  A solid effort from a dependable winery that u...   \n",
       "87060          Greece  Crushed thyme, pine resin and lemon start this...   \n",
       "96141           Italy  Made from Negroamaro, this opens with aromas o...   \n",
       "75013              US  This big, bold wine has the taste profile of a...   \n",
       "106613          Spain  Zingy and sort of floral on the nose, but fair...   \n",
       "\n",
       "                                    designation  points  price  \\\n",
       "Unnamed: 0                                                       \n",
       "77718                                       NaN      83    5.0   \n",
       "67681                                   Réserve      85   12.0   \n",
       "69877                    Estate Grown & Bottled      86    9.0   \n",
       "46544                                    Nebula      87   29.0   \n",
       "186                              Wiley Vineyard      88   40.0   \n",
       "...                                         ...     ...    ...   \n",
       "43857                       Winemaker's Reserve      88   35.0   \n",
       "87060                         Retsina of Attica      86    9.0   \n",
       "96141                                       NaN      87   15.0   \n",
       "75013       Estate Mae's Block Ravazzi Vineyard      88   32.0   \n",
       "106613                                   Blanco      82   10.0   \n",
       "\n",
       "                   province                 region_1       region_2  \\\n",
       "Unnamed: 0                                                            \n",
       "77718       Australia Other  South Eastern Australia            NaN   \n",
       "67681          Rhône Valley           Côtes du Rhône            NaN   \n",
       "69877        Northern Spain                    Rueda            NaN   \n",
       "46544            California              Paso Robles  Central Coast   \n",
       "186              California          Anderson Valley            NaN   \n",
       "...                     ...                      ...            ...   \n",
       "43857            California            Sonoma County         Sonoma   \n",
       "87060                Attica                      NaN            NaN   \n",
       "96141        Southern Italy                  Salento            NaN   \n",
       "75013            California                Mendocino            NaN   \n",
       "106613        Central Spain                La Mancha            NaN   \n",
       "\n",
       "                  taster_name taster_twitter_handle  \\\n",
       "Unnamed: 0                                            \n",
       "77718          Joe Czerwinski                @JoeCz   \n",
       "67681              Roger Voss            @vossroger   \n",
       "69877       Michael Schachner           @wineschach   \n",
       "46544                     NaN                   NaN   \n",
       "186                       NaN                   NaN   \n",
       "...                       ...                   ...   \n",
       "43857                     NaN                   NaN   \n",
       "87060         Susan Kostrzewa         @suskostrzewa   \n",
       "96141           Kerin O’Keefe          @kerinokeefe   \n",
       "75013              Jim Gordon      @gordone_cellars   \n",
       "106613      Michael Schachner           @wineschach   \n",
       "\n",
       "                                                        title  \\\n",
       "Unnamed: 0                                                      \n",
       "77718       Banrock Station 2006 Chardonnay (South Eastern...   \n",
       "67681       Cellier des Dauphins 2015 Réserve Rosé (Côtes ...   \n",
       "69877       Esperanza 2013 Estate Grown & Bottled Verdejo-...   \n",
       "46544       Midnight 2010 Nebula Cabernet Sauvignon (Paso ...   \n",
       "186         Harrington 2006 Wiley Vineyard Pinot Noir (And...   \n",
       "...                                                       ...   \n",
       "43857       Château Souverain 1996 Winemaker's Reserve Cab...   \n",
       "87060        Kourtaki NV Retsina of Attica Savatiano (Attica)   \n",
       "96141                 Masseria Altemura 2016 Rosato (Salento)   \n",
       "75013       Jaxon Keys 2013 Estate Mae's Block Ravazzi Vin...   \n",
       "106613            Finca Antigua 2006 Blanco Viura (La Mancha)   \n",
       "\n",
       "                       variety                winery  \n",
       "Unnamed: 0                                            \n",
       "77718               Chardonnay       Banrock Station  \n",
       "67681                     Rosé  Cellier des Dauphins  \n",
       "69877            Verdejo-Viura             Esperanza  \n",
       "46544       Cabernet Sauvignon              Midnight  \n",
       "186                 Pinot Noir            Harrington  \n",
       "...                        ...                   ...  \n",
       "43857       Cabernet Sauvignon     Château Souverain  \n",
       "87060                Savatiano              Kourtaki  \n",
       "96141                   Rosato     Masseria Altemura  \n",
       "75013                Zinfandel            Jaxon Keys  \n",
       "106613                   Viura         Finca Antigua  \n",
       "\n",
       "[58487 rows x 13 columns]"
      ]
     },
     "execution_count": 46,
     "metadata": {},
     "output_type": "execute_result"
    }
   ],
   "source": [
    "reviews = pd.read_csv(\"../Data/wine_reviews.csv\",index_col=0)\n",
    "reviews"
   ]
  },
  {
   "cell_type": "code",
   "execution_count": 47,
   "id": "12d5d449",
   "metadata": {},
   "outputs": [
    {
     "data": {
      "application/vnd.microsoft.datawrangler.viewer.v0+json": {
       "columns": [
        {
         "name": "index",
         "rawType": "int64",
         "type": "integer"
        },
        {
         "name": "country",
         "rawType": "object",
         "type": "unknown"
        },
        {
         "name": "description",
         "rawType": "object",
         "type": "string"
        },
        {
         "name": "designation",
         "rawType": "object",
         "type": "unknown"
        },
        {
         "name": "points",
         "rawType": "int64",
         "type": "integer"
        },
        {
         "name": "price",
         "rawType": "float64",
         "type": "float"
        },
        {
         "name": "province",
         "rawType": "object",
         "type": "unknown"
        },
        {
         "name": "region_1",
         "rawType": "object",
         "type": "unknown"
        },
        {
         "name": "region_2",
         "rawType": "object",
         "type": "unknown"
        },
        {
         "name": "taster_name",
         "rawType": "object",
         "type": "unknown"
        },
        {
         "name": "taster_twitter_handle",
         "rawType": "object",
         "type": "unknown"
        },
        {
         "name": "title",
         "rawType": "object",
         "type": "string"
        },
        {
         "name": "variety",
         "rawType": "object",
         "type": "string"
        },
        {
         "name": "winery",
         "rawType": "object",
         "type": "string"
        }
       ],
       "ref": "bf9561ce-5dae-4b9a-bf00-6924d9fcede3",
       "rows": [
        [
         "0",
         "Australia",
         "Possibly a little sweet, this is a soft, easygoing Chardonnay marked by clean, modest pear and melon flavors.",
         null,
         "83",
         "5.0",
         "Australia Other",
         "South Eastern Australia",
         null,
         "Joe Czerwinski",
         "@JoeCz",
         "Banrock Station 2006 Chardonnay (South Eastern Australia)",
         "Chardonnay",
         "Banrock Station"
        ],
        [
         "1",
         "France",
         "A soft, almost off dry wine that is full in the mouth. It has caramel and spice flavors as well as light acidity. The wine feels weighty and definitely needs food.",
         "Réserve",
         "85",
         "12.0",
         "Rhône Valley",
         "Côtes du Rhône",
         null,
         "Roger Voss",
         "@vossroger",
         "Cellier des Dauphins 2015 Réserve Rosé (Côtes du Rhône)",
         "Rosé",
         "Cellier des Dauphins"
        ],
        [
         "2",
         "Spain",
         "Generic white-fruit aromas of peach and apple are slightly pithy. This feels good but innocuous, while flavors of apple and stone fruits lose some of their snap and directness on a tropical-tasting finish.",
         "Estate Grown & Bottled",
         "86",
         "9.0",
         "Northern Spain",
         "Rueda",
         null,
         "Michael Schachner",
         "@wineschach",
         "Esperanza 2013 Estate Grown & Bottled Verdejo-Viura (Rueda)",
         "Verdejo-Viura",
         "Esperanza"
        ],
        [
         "3",
         "US",
         "This is the winery's best Nebula in years. While it's still a little on the soft, sweet side, the cool vintage has resonated in the wine's flavor, giving it a good structure housing cherry, currant and sandalwood flavors. Drink now.",
         "Nebula",
         "87",
         "29.0",
         "California",
         "Paso Robles",
         "Central Coast",
         null,
         null,
         "Midnight 2010 Nebula Cabernet Sauvignon (Paso Robles)",
         "Cabernet Sauvignon",
         "Midnight"
        ],
        [
         "4",
         "US",
         "This is a very rich Pinot whose primary virtue is fruit. It just explodes with delicious cherry jam, red currant, licorice and mocha flavors. Dry and crisply acidic, it's a beautiful wine for early drinking.",
         "Wiley Vineyard",
         "88",
         "40.0",
         "California",
         "Anderson Valley",
         null,
         null,
         null,
         "Harrington 2006 Wiley Vineyard Pinot Noir (Anderson Valley)",
         "Pinot Noir",
         "Harrington"
        ],
        [
         "5",
         "US",
         "An unabashedly rich and luscious wine, this combines ripe and fresh fruit flavors with luxurious spicy, buttery accents and an almost thick texture. With a subtext as savory as Udon broth it's practically a meal in a bottle. Call it full-bodied, full-flavored, ultrasmooth and impressive.",
         null,
         "90",
         "22.0",
         "California",
         "Sonoma County-Monterey County-Santa Barbara County",
         "California Other",
         "Jim Gordon",
         "@gordone_cellars",
         "Meiomi 2013 Chardonnay (Sonoma County-Monterey County-Santa Barbara County)",
         "Chardonnay",
         "Meiomi"
        ],
        [
         "6",
         "US",
         "This opens with a pleasing toasty aroma, following through on the palate. That deft touch of French oak (33% new) frames a solid core of strawberry preserves and Bing cherry fruit. It resonates on through a stylish, textural finish. Enjoy this immediately, and tuck away a few bottles to drink in five years.",
         "Five Faces",
         "90",
         "33.0",
         "Oregon",
         "Willamette Valley",
         "Willamette Valley",
         "Paul Gregutt",
         "@paulgwine ",
         "Fullerton 2014 Five Faces Pinot Noir (Willamette Valley)",
         "Pinot Noir",
         "Fullerton"
        ],
        [
         "7",
         "Italy",
         "Made with 100% Chardonnay, this creamy sparkler opens with aromas of hawthorn, peach and a whiff of bread crust. The palate reveals candied nectarine zest and golden apple alongside a soft perlage. It ends on a note of white almond.",
         "Saten",
         "89",
         "35.0",
         "Lombardy",
         "Franciacorta",
         null,
         "Kerin O’Keefe",
         "@kerinokeefe",
         "Lantieri de Paratico NV Saten Chardonnay (Franciacorta)",
         "Chardonnay",
         "Lantieri de Paratico"
        ],
        [
         "8",
         "US",
         "Here's a good, everyday Cab if you're looking for a bargain. It's dry, tannic and earthy, with suggestions of currants and oak.",
         null,
         "84",
         "10.0",
         "California",
         "Central Coast",
         "Central Coast",
         null,
         null,
         "Cupcake 2005 Cabernet Sauvignon (Central Coast)",
         "Cabernet Sauvignon",
         "Cupcake"
        ],
        [
         "9",
         "France",
         "Made from low-yielding, 70-year-old vines, this is a dense wine with an almost-dark structure and ripe red-plum flavors. Powerful, it obviously will be better with food and could even benefit from decanting before drinking. Age this concentrated wine until late 2016.",
         "Clos du Château",
         "92",
         "21.0",
         "Provence",
         "Côtes de Provence",
         null,
         "Roger Voss",
         "@vossroger",
         "Domaine du Clos Gautier 2015 Clos du Château Rosé (Côtes de Provence)",
         "Rosé",
         "Domaine du Clos Gautier"
        ],
        [
         "10",
         "US",
         "Amidst cola and sassafras on the nose, there's a bit of rotting cherry funk and some compost pile aromas to this intriguing single-vineyard Syrah from the Los Alamos area. The little bit of cherry sweetness on the palate gets more serious with chopped herbs, tobacco and cedar.",
         "White Hawk Vineyard",
         "89",
         "38.0",
         "California",
         "Santa Barbara County",
         "Central Coast",
         "Matt Kettmann",
         "@mattkettmann",
         "Deep Sea 2011 White Hawk Vineyard Syrah (Santa Barbara County)",
         "Syrah",
         "Deep Sea"
        ],
        [
         "11",
         "France",
         "This ripe, fruity wine has both freshness and a warmer, rounded character. Apricot and fresh white peach fruits are filled out with almond flavors as well as acidity. It's a wine to enjoy now, although it will be better from 2016",
         "Réserve des Vignerons",
         "86",
         "14.0",
         "Loire Valley",
         "Saumur",
         null,
         "Roger Voss",
         "@vossroger",
         "Cave de Saumur 2014 Réserve des Vignerons  (Saumur)",
         "Chenin Blanc",
         "Cave de Saumur"
        ],
        [
         "12",
         "France",
         "This is a smooth and creamy wine with soft apple flavors mingling with almonds and brisk acidity. It has a tight edge of minerality that adds a fine texture, offering a glimpse of the extra richness that can be expected in 2–3 years.",
         "Clos le Vigneau",
         "90",
         "18.0",
         "Loire Valley",
         "Vouvray",
         null,
         "Roger Voss",
         "@vossroger",
         "Château Gaudrelle 2010 Clos le Vigneau  (Vouvray)",
         "Chenin Blanc",
         "Château Gaudrelle"
        ],
        [
         "13",
         "US",
         "It shows ultrarich tannins and a flavor complexity ranging from briary wild blackberries and prunes to currants, nettles, sweet tea and softened cola. It's absolutely dry, despite or perhaps because of very high alcohol. The wine is unapologetic about that ripeness, instead asking only to be happily paired with barbecue.",
         null,
         "87",
         "20.0",
         "California",
         "Russian River Valley",
         "Sonoma",
         null,
         null,
         "Novy 2012 Zinfandel (Russian River Valley)",
         "Zinfandel",
         "Novy"
        ],
        [
         "14",
         "Portugal",
         "With a high proportion of generous Alicante Bouschet in the blend, this is a big, bold wine. It has smoky flavors showing a meaty character that's enhanced by 12 months wood aging. Generous tannins give a rich, structured character. It could still do with some aging, so drink from 2017.",
         "Santos da Casa Reserva",
         "91",
         "19.0",
         "Alentejano",
         null,
         null,
         "Roger Voss",
         "@vossroger",
         "Casca Wines 2011 Santos da Casa Reserva Red (Alentejano)",
         "Portuguese Red",
         "Casca Wines"
        ],
        [
         "15",
         "Italy",
         "Baked plum, blue flower, dark spice, vanilla and dried herb emerge in the glass. The dense, chewy palate offers mature black cherry, raspberry jam, fig and sweet cake spice alongside velvety tannins. It has hit its ideal drinking window so enjoy soon.",
         "Caleno Oro",
         "88",
         null,
         "Southern Italy",
         "Campania",
         null,
         "Kerin O’Keefe",
         "@kerinokeefe",
         "Nugnes 2009 Caleno Oro Aglianico (Campania)",
         "Aglianico",
         "Nugnes"
        ],
        [
         "16",
         "US",
         "The winery says this high-alcohol wine, made from Muscat and Verdelho, was aged for ten years in barrels. It has a floral, Sherry taste, with that distinctive yeasty flavor undergirding quite sweet pineapples, oranges, apricots and white chocolate.",
         "Dessert Wine",
         "86",
         "20.0",
         "California",
         "California",
         "California Other",
         null,
         null,
         "Elkhorn Peak NV Dessert Wine White (California)",
         "White Blend",
         "Elkhorn Peak"
        ],
        [
         "17",
         "Germany",
         "Hints of lemon shortbread, fresh apple and white flower unfold on the nose of this delicately honeyed wine. On the palate, sweet white-peach and yellow-cherry flavors run just a shade off dry. Easy going and fresh, it finishes long, with a streak of tangerine acidity.",
         "Dom Off-Dry",
         "89",
         "18.0",
         "Mosel",
         null,
         null,
         "Anna Lee C. Iijima",
         null,
         "Bischöfliche Weingüter Trier 2015 Dom Off-Dry Riesling (Mosel)",
         "Riesling",
         "Bischöfliche Weingüter Trier"
        ],
        [
         "18",
         "Italy",
         "Notes of cherry and raspberry open the nose of this organic wine. It is easy on the palate, with a lean, fruit-filled finish.",
         "Vriccio",
         "86",
         "20.0",
         "Southern Italy",
         "Puglia",
         null,
         null,
         null,
         "Antica Enotria 2011 Vriccio Primitivo (Puglia)",
         "Primitivo",
         "Antica Enotria"
        ],
        [
         "19",
         "US",
         "A blend of Ciel du Cheval and Force Majeure vineyards, this wine brings a mix of pomegranate, dark raspberry, dried tobacco, crushed rock and peppery spices. It explodes on the palate with rich, dense, cranberry and spice flavors that linger.",
         "Crazy Mary",
         "93",
         "48.0",
         "Washington",
         "Red Mountain",
         "Columbia Valley",
         "Sean P. Sullivan",
         "@wawinereport",
         "Mark Ryan 2012 Crazy Mary Mourvèdre (Red Mountain)",
         "Mourvèdre",
         "Mark Ryan"
        ],
        [
         "20",
         "Chile",
         "Fleshy, tropical aromas with a touch of varietal snap set up a green palate with sweet lime and scallion flavors. The finish shows ripeness and tropical notes before turning heavy. Drink this well chilled.",
         "U Estate Grown",
         "85",
         "11.0",
         "Maipo Valley",
         null,
         null,
         "Michael Schachner",
         "@wineschach",
         "Undurraga 2012 U Estate Grown Sauvignon Blanc (Maipo Valley)",
         "Sauvignon Blanc",
         "Undurraga"
        ],
        [
         "21",
         "Australia",
         "This restrained, medium-bodied Cabernet Sauvignon is a solid value. On the nose, cedar, vanilla and cassis elements blend together easily, while brown sugar and vanilla flavors are supported by just enough cassis and black cherry fruit. Drink now–2028.",
         "Two Passions",
         "90",
         "20.0",
         "Western Australia",
         "Margaret River",
         null,
         "Joe Czerwinski",
         "@JoeCz",
         "Wildberry Estate 2013 Two Passions Cabernet Sauvignon (Margaret River)",
         "Cabernet Sauvignon",
         "Wildberry Estate"
        ],
        [
         "22",
         "US",
         "Intense perfume and floral notes overcome ripe apple aromas. It's dry on the palate with flavors of savory apple and green herbs, but feels a bit flat and heavy in mouthfeel.",
         null,
         "83",
         "25.0",
         "New York",
         "North Fork of Long Island",
         "Long Island",
         "Anna Lee C. Iijima",
         null,
         "Palmer 2012 Albariño (North Fork of Long Island)",
         "Albariño",
         "Palmer"
        ],
        [
         "23",
         "US",
         "This cool climate region is well-suited to this grape, producing aromatic, elegant wines such as this without the over-the-top perfume that can drive consumers away. Subtle aromas suggest light talc, acacia and calla lily, while in the mouth this is soft and smooth. Overall it's just plain pretty, with details of apple and apple skin.",
         "Gorge Crest",
         "90",
         "28.0",
         "Oregon",
         "Columbia Gorge (OR)",
         "Oregon Other",
         "Paul Gregutt",
         "@paulgwine ",
         "Phelps Creek 2015 Gorge Crest Gewürztraminer (Columbia Gorge (OR))",
         "Gewürztraminer",
         "Phelps Creek"
        ],
        [
         "24",
         "Portugal",
         "A soft apple-tinged wine, with bright acidity that cuts right through. The wine is rounded, with just enough crispness. Ready to drink.",
         "Conde de Vimioso Colheita Seleccionada",
         "86",
         "9.0",
         "Tejo",
         null,
         null,
         "Roger Voss",
         "@vossroger",
         "Falua 2010 Conde de Vimioso Colheita Seleccionada White (Tejo)",
         "Portuguese White",
         "Falua"
        ],
        [
         "25",
         "Italy",
         "Here's a Pinot Grigio that ranks high in terms of fresh, easy-drinking white wine options from northern Italy. The bouquet delivers crisp tones of honeydew melon, herb and a distant mineral dusting. In the mouth, it shows balanced freshness and a bright peach finish.",
         null,
         "87",
         "17.0",
         "Northeastern Italy",
         "Alto Adige",
         null,
         null,
         null,
         "Erste Neue 2011 Pinot Grigio (Alto Adige)",
         "Pinot Grigio",
         "Erste Neue"
        ],
        [
         "26",
         "Spain",
         "Sweaty and pickled at first, although airing reveals some hidden dark fruit aromas. The palate is grapy and accented by black plum, yet it finishes salty and cheeky, with grabby tannins. Has it good points but lacks direction and elegance.",
         "Viña Tobía",
         "84",
         "11.0",
         "Northern Spain",
         "Rioja",
         null,
         "Michael Schachner",
         "@wineschach",
         "Bodegas Tobía 2005 Viña Tobía  (Rioja)",
         "Tempranillo",
         "Bodegas Tobía"
        ],
        [
         "27",
         "Italy",
         "This plush Syrah opens with a pretty ruby color and thick, almost syrupy, tones of blueberry and raspberry. The fruit aromas are followed by spice and roasted almonds and the wine is succulent and chewy to the very end.",
         "Una Viola Signature",
         "88",
         "16.0",
         "Sicily & Sardinia",
         "Sicilia",
         null,
         null,
         null,
         "Spadina 2006 Una Viola Signature Syrah (Sicilia)",
         "Syrah",
         "Spadina"
        ],
        [
         "28",
         "France",
         "This is pretty pale for a Tavel, with a coppery tinge to its pink color. Notes of lime zest, wet stone and modest cherry-berry notes finish on a bright citrus note.",
         null,
         "90",
         "24.0",
         "Rhône Valley",
         "Tavel",
         null,
         "Joe Czerwinski",
         "@JoeCz",
         "Prieuré de Montézargues 2014  Tavel",
         "Rosé",
         "Prieuré de Montézargues"
        ],
        [
         "29",
         "US",
         "This brilliant Sauvignon Blanc should be scooped up by sommeliers. It's exceptionally dry and tart in citrusy acids, with a mineral scour that's perfect for shellfish or savory appetizers. The flavors are of lemons, limes, gooseberries and white pepper. Beautiful and compelling.",
         null,
         "91",
         "17.0",
         "California",
         "Napa Valley",
         "Napa",
         null,
         null,
         "Broman 2008 Sauvignon Blanc (Napa Valley)",
         "Sauvignon Blanc",
         "Broman"
        ],
        [
         "30",
         "Argentina",
         "Foxy berry aromas are the lead scent, and they're followed by notes of wet dog and raspberry. This is full bodied and round as a ball, with earthy, lightly herbal flavors of red berries, thyme and rosemary. A warm, loamy finish brings oaky flavors and closing weight. Drink this blend of 70% Malbec and 30% Cabernet Sauvignon through 2016.",
         "Amancaya Gran Reserva",
         "89",
         "21.0",
         "Mendoza Province",
         "Mendoza",
         null,
         "Michael Schachner",
         "@wineschach",
         "Bodegas Caro 2011 Amancaya Gran Reserva Malbec-Cabernet Sauvignon (Mendoza)",
         "Malbec-Cabernet Sauvignon",
         "Bodegas Caro"
        ],
        [
         "31",
         "South Africa",
         "A decadent blend of ripe berries and rich oak characterizes this wine; sweet smoke and baking spice mingle harmoniously with notes of mashed raspberry and blackberry, accented by hints of hickory-cured bacon and raw cocoa nibs. The medium-weight mouth is structured and bold, with chewy tannins and heady flavors of plum and berry preserves, roasted coffee and sweet licorice. The finish is long and dry, and although this would certainly benefit from 5–10 years of cellaring time, it's approachable now with decanting.",
         "Redhill",
         "92",
         "38.0",
         "Stellenbosch",
         null,
         null,
         "Lauren Buzzeo",
         "@laurbuzz",
         "Simonsig 2011 Redhill Pinotage (Stellenbosch)",
         "Pinotage",
         "Simonsig"
        ],
        [
         "32",
         "US",
         "Tastes a bit medicinal, with a sweet-sour quality of lemons and pineapples, and is quite acidic. Lacks richness, but it's a decent everyday Chardonnay.",
         null,
         "83",
         "14.0",
         "California",
         "Central Coast",
         "Central Coast",
         null,
         null,
         "Castoro Cellars 2007 Chardonnay (Central Coast)",
         "Chardonnay",
         "Castoro Cellars"
        ],
        [
         "33",
         "Portugal",
         "Quinta do Pégo produces a light, fast maturing style of vintage Port. This 2009 has the bonus of great richness, although its fruity character and soft tannins suggest it will mature rapidly.",
         "Quinta do Pégo Vintage",
         "87",
         "28.0",
         "Port",
         null,
         null,
         "Roger Voss",
         "@vossroger",
         "Rozes 2009 Quinta do Pégo Vintage  (Port)",
         "Port",
         "Rozes"
        ],
        [
         "34",
         "US",
         "A surprisingly green tinge vies with tobacco, raspberry and woodspice for attention. This wine is full in feel with good concentration of flavors but ultimately the greenness provides distraction.",
         null,
         "88",
         "28.0",
         "Washington",
         "Columbia Valley (WA)",
         "Columbia Valley",
         "Sean P. Sullivan",
         "@wawinereport",
         "Tamarack Cellars 2012 Merlot (Columbia Valley (WA))",
         "Merlot",
         "Tamarack Cellars"
        ],
        [
         "35",
         "France",
         "Dense and dry, this is a tough, extracted wine. It has a hard edge followed by juicy acidity and will probably remain on the dry side.",
         null,
         "85",
         "20.0",
         "Bordeaux",
         "Blaye Côtes de Bordeaux",
         null,
         "Roger Voss",
         "@vossroger",
         "Château Grand Bourgeau 2015  Blaye Côtes de Bordeaux",
         "Bordeaux-style Red Blend",
         "Château Grand Bourgeau"
        ],
        [
         "36",
         "US",
         "This varietal Cabernet Sauvignon hails from the producer's organic Chiles Valley estate. It's muscular and lushly layered, with spicy leather and tobacco notes accented by a delicate touch of violet and supported by firm, grippy tannin. Drink now through 2033.",
         "Sievers Reserve",
         "93",
         "80.0",
         "California",
         "Napa Valley",
         "Napa",
         "Virginie Boone",
         "@vboone",
         "Volker Eisele Family Estate 2013 Sievers Reserve Cabernet Sauvignon (Napa Valley)",
         "Cabernet Sauvignon",
         "Volker Eisele Family Estate"
        ],
        [
         "37",
         "Spain",
         "Standard berry aromas show touches of raisin and earth, but not too much of either. It feels fresh, crisp and alert, with cherry tomato, berry fruit, tobacco and vanilla flavors. This feels healthy but not real deep or complex on the finish.",
         "Single Vineyard Roble",
         "86",
         "13.0",
         "Northern Spain",
         "Ribera del Duero",
         null,
         "Michael Schachner",
         "@wineschach",
         "Finca El Encinal 2009 Single Vineyard Roble  (Ribera del Duero)",
         "Tempranillo",
         "Finca El Encinal"
        ],
        [
         "38",
         "US",
         "The blend is mainly Cabernet Sauvignon, with the other four classic Bordeaux varieties added for complexity. The grapes were sourced from vineyards throughout Sonoma County, and the finished wine was aged in 75% new oak. It's very fine, with concentrated, intense blackberry, cherry and crème de cassis flavors.Minerality, in the form of granite, lends a lick of stone. It's still extremely tannic, and needs much more timebefore it begins to come around.",
         "La Joie",
         "96",
         "450.0",
         "California",
         "Sonoma County",
         "Sonoma",
         null,
         null,
         "Verité 2007 La Joie Red (Sonoma County)",
         "Bordeaux-style Red Blend",
         "Verité"
        ],
        [
         "39",
         "Portugal",
         "Named after Siza Vieira, the architect of the modern Adega Mayor winery, this dense, darkly colored wine is hugely ripe, with great fruits and rich coffee and spice flavors. It's a wine that perfectly fits the adjective opulent, powered by great fruits and dense tannins, with fine aging potential. Drink from 2017.",
         "Siza",
         "93",
         "75.0",
         "Alentejano",
         null,
         null,
         "Roger Voss",
         "@vossroger",
         "Adega Mayor 2009 Siza Alicante Bouschet (Alentejano)",
         "Alicante Bouschet",
         "Adega Mayor"
        ],
        [
         "40",
         "France",
         "A gorgeously perfumed wine, dominated by the ripest Cabernet Franc, combining richness and an intense structure. With its tannins, it will age well over many years. The fruit is finely textured, deliciously juicy, showing the most complex series of flavors.",
         null,
         "95",
         "295.0",
         "Bordeaux",
         "Saint-Émilion",
         null,
         "Roger Voss",
         "@vossroger",
         "Le Dôme 2009  Saint-Émilion",
         "Bordeaux-style Red Blend",
         "Le Dôme"
        ],
        [
         "41",
         "US",
         "New oak dominates this wine, giving it aromas of toast and vanilla. After decanting, the air brings out interesting notes of dried herbs and blackberries. Tastes very rich and flamboyant, almost sweet, like a chocolate berry pastry, and should develop over the next few years. Mainly Cabernet Sauvignon, with Sangiovese, Cabernet Franc and Petit Verdot.",
         "Meritaggio",
         "90",
         "55.0",
         "California",
         "Napa Valley",
         "Napa",
         null,
         null,
         "David Arthur 2008 Meritaggio Red (Napa Valley)",
         "Red Blend",
         "David Arthur"
        ],
        [
         "42",
         "Australia",
         "This blend of 79% Sauvignon Blanc and 21% Semillon is pungent and sweaty, with an almost Collio-like pungency. It's a bold, in-your-face passion-fruit monster that fades quickly on the finish.",
         "Miamup",
         "88",
         "23.0",
         "Western Australia",
         "Margaret River",
         null,
         "Joe Czerwinski",
         "@JoeCz",
         "Howard Park 2015 Miamup Sauvignon Blanc-Semillon (Margaret River)",
         "Sauvignon Blanc-Semillon",
         "Howard Park"
        ],
        [
         "43",
         "Portugal",
         "All the warm southern heat of the Alentejo is in this wine. It is rich, generous and full of ripe, black fruits. Berries and juicy damsons are spiced with pepper, rich tannins and lifted by acidity. It is a wine for big meat dishes, for stews, a powerful, no-holds-barred style. It will be ready to drink from 2017.",
         "Azul Portugal Reserva",
         "90",
         "40.0",
         "Alentejano",
         null,
         null,
         "Roger Voss",
         "@vossroger",
         "Wines & Winemakers 2013 Azul Portugal Reserva Red (Alentejano)",
         "Portuguese Red",
         "Wines & Winemakers"
        ],
        [
         "44",
         "South Africa",
         "73% Merlot, with Cabernet and Petite Verdot making up the difference, this is a finely crafted and delicious effort. Medium-bodied and creamy, the Merlot gives this wine a feminine feel, despite solid, soft tannins. Dark, extracted black fruits have some accents of forest and black olive, while leather adds to the cherry and cassis nose. Could use time to soften further, but very approachable now.",
         null,
         "90",
         "55.0",
         "Stellenbosch",
         null,
         null,
         null,
         null,
         "Tokara 2003 Red (Stellenbosch)",
         "Bordeaux-style Red Blend",
         "Tokara"
        ],
        [
         "45",
         "Georgia",
         "This inky red-violet wine has a nose of blueberry pie, green pepper and violet. It is slightly tart at first sip, with tannins that hide at first and then coat the tongue and gums. A rich flavor profile of blackberry, cranberry, anise, violet and white chocolate makes way for cherry and chocolate notes in the finish.",
         "Mukuzani",
         "90",
         "16.0",
         "Kakheti",
         null,
         null,
         "Mike DeSimone",
         "@worldwineguys",
         "Teliani Valley 2013 Mukuzani Saperavi (Kakheti)",
         "Saperavi",
         "Teliani Valley"
        ],
        [
         "46",
         "Italy",
         "Succulent steak or breaded veal would make good pairing partners to this elegant Brunello. The wine delivers oak spice, red fruit, black pepper and balsam notes of dried ginger and cola. The wine is lively and delicate with some astringency to the tannins that will soften in a few more years.",
         "Agricola Centolani",
         "90",
         null,
         "Tuscany",
         "Brunello di Montalcino",
         null,
         null,
         null,
         "Pietranera 2008 Agricola Centolani  (Brunello di Montalcino)",
         "Sangiovese Grosso",
         "Pietranera"
        ],
        [
         "47",
         "France",
         "This wine is firm with solid tannins. It has rich fruit and concentration with layers of blackberry and dark plums. It comes from a small seven-acre property and is aged for 15 months in wood. This impressive wine needs to age, so drink from 2022.",
         "Cuvée Excellence",
         "92",
         "35.0",
         "Bordeaux",
         "Pomerol",
         null,
         "Roger Voss",
         "@vossroger",
         "Château Lafleur du Roy 2015 Cuvée Excellence  (Pomerol)",
         "Bordeaux-style Red Blend",
         "Château Lafleur du Roy"
        ],
        [
         "48",
         "Italy",
         "This opens with delicate scents of field flower and white stone fruit. On the creamy off-dry palate, a soft mousse backs up sweet white peach, green apple and a candied citrus note while bright acidity lends freshness.",
         "Dry",
         "88",
         "22.0",
         "Veneto",
         "Valdobbiadene Prosecco Superiore",
         null,
         "Kerin O’Keefe",
         "@kerinokeefe",
         "Andreola 2016 Dry  (Valdobbiadene Prosecco Superiore)",
         "Glera",
         "Andreola"
        ],
        [
         "49",
         "France",
         "Steely, minerally and very textured, this has concentratio and taut layer of acidity to go with the lime fruit. Powered by its structure, it will age for 3–4 years.",
         "Vau de Vey Premier Cru",
         "92",
         "36.0",
         "Burgundy",
         "Chablis",
         null,
         "Roger Voss",
         "@vossroger",
         "Romain Bouchard 2010 Vau de Vey Premier Cru  (Chablis)",
         "Chardonnay",
         "Romain Bouchard"
        ]
       ],
       "shape": {
        "columns": 13,
        "rows": 58487
       }
      },
      "text/html": [
       "<div>\n",
       "<style scoped>\n",
       "    .dataframe tbody tr th:only-of-type {\n",
       "        vertical-align: middle;\n",
       "    }\n",
       "\n",
       "    .dataframe tbody tr th {\n",
       "        vertical-align: top;\n",
       "    }\n",
       "\n",
       "    .dataframe thead th {\n",
       "        text-align: right;\n",
       "    }\n",
       "</style>\n",
       "<table border=\"1\" class=\"dataframe\">\n",
       "  <thead>\n",
       "    <tr style=\"text-align: right;\">\n",
       "      <th></th>\n",
       "      <th>country</th>\n",
       "      <th>description</th>\n",
       "      <th>designation</th>\n",
       "      <th>points</th>\n",
       "      <th>price</th>\n",
       "      <th>province</th>\n",
       "      <th>region_1</th>\n",
       "      <th>region_2</th>\n",
       "      <th>taster_name</th>\n",
       "      <th>taster_twitter_handle</th>\n",
       "      <th>title</th>\n",
       "      <th>variety</th>\n",
       "      <th>winery</th>\n",
       "    </tr>\n",
       "  </thead>\n",
       "  <tbody>\n",
       "    <tr>\n",
       "      <th>0</th>\n",
       "      <td>Australia</td>\n",
       "      <td>Possibly a little sweet, this is a soft, easyg...</td>\n",
       "      <td>NaN</td>\n",
       "      <td>83</td>\n",
       "      <td>5.0</td>\n",
       "      <td>Australia Other</td>\n",
       "      <td>South Eastern Australia</td>\n",
       "      <td>NaN</td>\n",
       "      <td>Joe Czerwinski</td>\n",
       "      <td>@JoeCz</td>\n",
       "      <td>Banrock Station 2006 Chardonnay (South Eastern...</td>\n",
       "      <td>Chardonnay</td>\n",
       "      <td>Banrock Station</td>\n",
       "    </tr>\n",
       "    <tr>\n",
       "      <th>1</th>\n",
       "      <td>France</td>\n",
       "      <td>A soft, almost off dry wine that is full in th...</td>\n",
       "      <td>Réserve</td>\n",
       "      <td>85</td>\n",
       "      <td>12.0</td>\n",
       "      <td>Rhône Valley</td>\n",
       "      <td>Côtes du Rhône</td>\n",
       "      <td>NaN</td>\n",
       "      <td>Roger Voss</td>\n",
       "      <td>@vossroger</td>\n",
       "      <td>Cellier des Dauphins 2015 Réserve Rosé (Côtes ...</td>\n",
       "      <td>Rosé</td>\n",
       "      <td>Cellier des Dauphins</td>\n",
       "    </tr>\n",
       "    <tr>\n",
       "      <th>2</th>\n",
       "      <td>Spain</td>\n",
       "      <td>Generic white-fruit aromas of peach and apple ...</td>\n",
       "      <td>Estate Grown &amp; Bottled</td>\n",
       "      <td>86</td>\n",
       "      <td>9.0</td>\n",
       "      <td>Northern Spain</td>\n",
       "      <td>Rueda</td>\n",
       "      <td>NaN</td>\n",
       "      <td>Michael Schachner</td>\n",
       "      <td>@wineschach</td>\n",
       "      <td>Esperanza 2013 Estate Grown &amp; Bottled Verdejo-...</td>\n",
       "      <td>Verdejo-Viura</td>\n",
       "      <td>Esperanza</td>\n",
       "    </tr>\n",
       "    <tr>\n",
       "      <th>3</th>\n",
       "      <td>US</td>\n",
       "      <td>This is the winery's best Nebula in years. Whi...</td>\n",
       "      <td>Nebula</td>\n",
       "      <td>87</td>\n",
       "      <td>29.0</td>\n",
       "      <td>California</td>\n",
       "      <td>Paso Robles</td>\n",
       "      <td>Central Coast</td>\n",
       "      <td>NaN</td>\n",
       "      <td>NaN</td>\n",
       "      <td>Midnight 2010 Nebula Cabernet Sauvignon (Paso ...</td>\n",
       "      <td>Cabernet Sauvignon</td>\n",
       "      <td>Midnight</td>\n",
       "    </tr>\n",
       "    <tr>\n",
       "      <th>4</th>\n",
       "      <td>US</td>\n",
       "      <td>This is a very rich Pinot whose primary virtue...</td>\n",
       "      <td>Wiley Vineyard</td>\n",
       "      <td>88</td>\n",
       "      <td>40.0</td>\n",
       "      <td>California</td>\n",
       "      <td>Anderson Valley</td>\n",
       "      <td>NaN</td>\n",
       "      <td>NaN</td>\n",
       "      <td>NaN</td>\n",
       "      <td>Harrington 2006 Wiley Vineyard Pinot Noir (And...</td>\n",
       "      <td>Pinot Noir</td>\n",
       "      <td>Harrington</td>\n",
       "    </tr>\n",
       "    <tr>\n",
       "      <th>...</th>\n",
       "      <td>...</td>\n",
       "      <td>...</td>\n",
       "      <td>...</td>\n",
       "      <td>...</td>\n",
       "      <td>...</td>\n",
       "      <td>...</td>\n",
       "      <td>...</td>\n",
       "      <td>...</td>\n",
       "      <td>...</td>\n",
       "      <td>...</td>\n",
       "      <td>...</td>\n",
       "      <td>...</td>\n",
       "      <td>...</td>\n",
       "    </tr>\n",
       "    <tr>\n",
       "      <th>58482</th>\n",
       "      <td>US</td>\n",
       "      <td>A solid effort from a dependable winery that u...</td>\n",
       "      <td>Winemaker's Reserve</td>\n",
       "      <td>88</td>\n",
       "      <td>35.0</td>\n",
       "      <td>California</td>\n",
       "      <td>Sonoma County</td>\n",
       "      <td>Sonoma</td>\n",
       "      <td>NaN</td>\n",
       "      <td>NaN</td>\n",
       "      <td>Château Souverain 1996 Winemaker's Reserve Cab...</td>\n",
       "      <td>Cabernet Sauvignon</td>\n",
       "      <td>Château Souverain</td>\n",
       "    </tr>\n",
       "    <tr>\n",
       "      <th>58483</th>\n",
       "      <td>Greece</td>\n",
       "      <td>Crushed thyme, pine resin and lemon start this...</td>\n",
       "      <td>Retsina of Attica</td>\n",
       "      <td>86</td>\n",
       "      <td>9.0</td>\n",
       "      <td>Attica</td>\n",
       "      <td>NaN</td>\n",
       "      <td>NaN</td>\n",
       "      <td>Susan Kostrzewa</td>\n",
       "      <td>@suskostrzewa</td>\n",
       "      <td>Kourtaki NV Retsina of Attica Savatiano (Attica)</td>\n",
       "      <td>Savatiano</td>\n",
       "      <td>Kourtaki</td>\n",
       "    </tr>\n",
       "    <tr>\n",
       "      <th>58484</th>\n",
       "      <td>Italy</td>\n",
       "      <td>Made from Negroamaro, this opens with aromas o...</td>\n",
       "      <td>NaN</td>\n",
       "      <td>87</td>\n",
       "      <td>15.0</td>\n",
       "      <td>Southern Italy</td>\n",
       "      <td>Salento</td>\n",
       "      <td>NaN</td>\n",
       "      <td>Kerin O’Keefe</td>\n",
       "      <td>@kerinokeefe</td>\n",
       "      <td>Masseria Altemura 2016 Rosato (Salento)</td>\n",
       "      <td>Rosato</td>\n",
       "      <td>Masseria Altemura</td>\n",
       "    </tr>\n",
       "    <tr>\n",
       "      <th>58485</th>\n",
       "      <td>US</td>\n",
       "      <td>This big, bold wine has the taste profile of a...</td>\n",
       "      <td>Estate Mae's Block Ravazzi Vineyard</td>\n",
       "      <td>88</td>\n",
       "      <td>32.0</td>\n",
       "      <td>California</td>\n",
       "      <td>Mendocino</td>\n",
       "      <td>NaN</td>\n",
       "      <td>Jim Gordon</td>\n",
       "      <td>@gordone_cellars</td>\n",
       "      <td>Jaxon Keys 2013 Estate Mae's Block Ravazzi Vin...</td>\n",
       "      <td>Zinfandel</td>\n",
       "      <td>Jaxon Keys</td>\n",
       "    </tr>\n",
       "    <tr>\n",
       "      <th>58486</th>\n",
       "      <td>Spain</td>\n",
       "      <td>Zingy and sort of floral on the nose, but fair...</td>\n",
       "      <td>Blanco</td>\n",
       "      <td>82</td>\n",
       "      <td>10.0</td>\n",
       "      <td>Central Spain</td>\n",
       "      <td>La Mancha</td>\n",
       "      <td>NaN</td>\n",
       "      <td>Michael Schachner</td>\n",
       "      <td>@wineschach</td>\n",
       "      <td>Finca Antigua 2006 Blanco Viura (La Mancha)</td>\n",
       "      <td>Viura</td>\n",
       "      <td>Finca Antigua</td>\n",
       "    </tr>\n",
       "  </tbody>\n",
       "</table>\n",
       "<p>58487 rows × 13 columns</p>\n",
       "</div>"
      ],
      "text/plain": [
       "         country                                        description  \\\n",
       "0      Australia  Possibly a little sweet, this is a soft, easyg...   \n",
       "1         France  A soft, almost off dry wine that is full in th...   \n",
       "2          Spain  Generic white-fruit aromas of peach and apple ...   \n",
       "3             US  This is the winery's best Nebula in years. Whi...   \n",
       "4             US  This is a very rich Pinot whose primary virtue...   \n",
       "...          ...                                                ...   \n",
       "58482         US  A solid effort from a dependable winery that u...   \n",
       "58483     Greece  Crushed thyme, pine resin and lemon start this...   \n",
       "58484      Italy  Made from Negroamaro, this opens with aromas o...   \n",
       "58485         US  This big, bold wine has the taste profile of a...   \n",
       "58486      Spain  Zingy and sort of floral on the nose, but fair...   \n",
       "\n",
       "                               designation  points  price         province  \\\n",
       "0                                      NaN      83    5.0  Australia Other   \n",
       "1                                  Réserve      85   12.0     Rhône Valley   \n",
       "2                   Estate Grown & Bottled      86    9.0   Northern Spain   \n",
       "3                                   Nebula      87   29.0       California   \n",
       "4                           Wiley Vineyard      88   40.0       California   \n",
       "...                                    ...     ...    ...              ...   \n",
       "58482                  Winemaker's Reserve      88   35.0       California   \n",
       "58483                    Retsina of Attica      86    9.0           Attica   \n",
       "58484                                  NaN      87   15.0   Southern Italy   \n",
       "58485  Estate Mae's Block Ravazzi Vineyard      88   32.0       California   \n",
       "58486                               Blanco      82   10.0    Central Spain   \n",
       "\n",
       "                      region_1       region_2        taster_name  \\\n",
       "0      South Eastern Australia            NaN     Joe Czerwinski   \n",
       "1               Côtes du Rhône            NaN         Roger Voss   \n",
       "2                        Rueda            NaN  Michael Schachner   \n",
       "3                  Paso Robles  Central Coast                NaN   \n",
       "4              Anderson Valley            NaN                NaN   \n",
       "...                        ...            ...                ...   \n",
       "58482            Sonoma County         Sonoma                NaN   \n",
       "58483                      NaN            NaN    Susan Kostrzewa   \n",
       "58484                  Salento            NaN      Kerin O’Keefe   \n",
       "58485                Mendocino            NaN         Jim Gordon   \n",
       "58486                La Mancha            NaN  Michael Schachner   \n",
       "\n",
       "      taster_twitter_handle  \\\n",
       "0                    @JoeCz   \n",
       "1                @vossroger   \n",
       "2               @wineschach   \n",
       "3                       NaN   \n",
       "4                       NaN   \n",
       "...                     ...   \n",
       "58482                   NaN   \n",
       "58483         @suskostrzewa   \n",
       "58484          @kerinokeefe   \n",
       "58485      @gordone_cellars   \n",
       "58486           @wineschach   \n",
       "\n",
       "                                                   title             variety  \\\n",
       "0      Banrock Station 2006 Chardonnay (South Eastern...          Chardonnay   \n",
       "1      Cellier des Dauphins 2015 Réserve Rosé (Côtes ...                Rosé   \n",
       "2      Esperanza 2013 Estate Grown & Bottled Verdejo-...       Verdejo-Viura   \n",
       "3      Midnight 2010 Nebula Cabernet Sauvignon (Paso ...  Cabernet Sauvignon   \n",
       "4      Harrington 2006 Wiley Vineyard Pinot Noir (And...          Pinot Noir   \n",
       "...                                                  ...                 ...   \n",
       "58482  Château Souverain 1996 Winemaker's Reserve Cab...  Cabernet Sauvignon   \n",
       "58483   Kourtaki NV Retsina of Attica Savatiano (Attica)           Savatiano   \n",
       "58484            Masseria Altemura 2016 Rosato (Salento)              Rosato   \n",
       "58485  Jaxon Keys 2013 Estate Mae's Block Ravazzi Vin...           Zinfandel   \n",
       "58486        Finca Antigua 2006 Blanco Viura (La Mancha)               Viura   \n",
       "\n",
       "                     winery  \n",
       "0           Banrock Station  \n",
       "1      Cellier des Dauphins  \n",
       "2                 Esperanza  \n",
       "3                  Midnight  \n",
       "4                Harrington  \n",
       "...                     ...  \n",
       "58482     Château Souverain  \n",
       "58483              Kourtaki  \n",
       "58484     Masseria Altemura  \n",
       "58485            Jaxon Keys  \n",
       "58486         Finca Antigua  \n",
       "\n",
       "[58487 rows x 13 columns]"
      ]
     },
     "execution_count": 47,
     "metadata": {},
     "output_type": "execute_result"
    }
   ],
   "source": [
    "reviews = reviews.reset_index(drop=True)\n",
    "reviews"
   ]
  },
  {
   "cell_type": "markdown",
   "id": "a8951789",
   "metadata": {},
   "source": [
    "### Viewing, Selecting, Assigning & Missing Data"
   ]
  },
  {
   "cell_type": "code",
   "execution_count": 48,
   "id": "279ef38a",
   "metadata": {},
   "outputs": [
    {
     "name": "stdout",
     "output_type": "stream",
     "text": [
      "<class 'pandas.core.frame.DataFrame'>\n",
      "RangeIndex: 58487 entries, 0 to 58486\n",
      "Data columns (total 13 columns):\n",
      " #   Column                 Non-Null Count  Dtype  \n",
      "---  ------                 --------------  -----  \n",
      " 0   country                58459 non-null  object \n",
      " 1   description            58487 non-null  object \n",
      " 2   designation            41548 non-null  object \n",
      " 3   points                 58487 non-null  int64  \n",
      " 4   price                  54404 non-null  float64\n",
      " 5   province               58459 non-null  object \n",
      " 6   region_1               48949 non-null  object \n",
      " 7   region_2               22686 non-null  object \n",
      " 8   taster_name            46635 non-null  object \n",
      " 9   taster_twitter_handle  44376 non-null  object \n",
      " 10  title                  58487 non-null  object \n",
      " 11  variety                58487 non-null  object \n",
      " 12  winery                 58487 non-null  object \n",
      "dtypes: float64(1), int64(1), object(11)\n",
      "memory usage: 5.8+ MB\n"
     ]
    }
   ],
   "source": [
    "reviews.shape\n",
    "reviews.info()"
   ]
  },
  {
   "cell_type": "code",
   "execution_count": null,
   "id": "fd639692",
   "metadata": {},
   "outputs": [],
   "source": []
  },
  {
   "cell_type": "code",
   "execution_count": null,
   "metadata": {},
   "outputs": [],
   "source": []
  },
  {
   "cell_type": "code",
   "execution_count": null,
   "metadata": {},
   "outputs": [],
   "source": []
  },
  {
   "cell_type": "markdown",
   "id": "d6f00e99",
   "metadata": {},
   "source": [
    "### Selecting Data\n",
    "\n",
    "Also called **indexing**, it is the most common operation in Pandas. We discuss 4 cases selecting data from a DataFrame:\n",
    "1. Selecting one **column** (as a Series)\n",
    "2. Selecting by **label**\n",
    "3. Selecting by **position**\n",
    "4. Selecting by **conditions**\n",
    "\n",
    "We will practice with the wine review DataFrame."
   ]
  },
  {
   "cell_type": "code",
   "execution_count": null,
   "id": "17c0eb7b",
   "metadata": {},
   "outputs": [],
   "source": []
  },
  {
   "cell_type": "markdown",
   "id": "64af417f",
   "metadata": {},
   "source": [
    "**1. Selecting a column**"
   ]
  },
  {
   "cell_type": "code",
   "execution_count": 49,
   "id": "27c1f656",
   "metadata": {},
   "outputs": [
    {
     "data": {
      "application/vnd.microsoft.datawrangler.viewer.v0+json": {
       "columns": [
        {
         "name": "index",
         "rawType": "int64",
         "type": "integer"
        },
        {
         "name": "country",
         "rawType": "object",
         "type": "unknown"
        }
       ],
       "ref": "11ccc300-4d50-43a9-8ea5-e626c495f0ac",
       "rows": [
        [
         "0",
         "Australia"
        ],
        [
         "1",
         "France"
        ],
        [
         "2",
         "Spain"
        ],
        [
         "3",
         "US"
        ],
        [
         "4",
         "US"
        ],
        [
         "5",
         "US"
        ],
        [
         "6",
         "US"
        ],
        [
         "7",
         "Italy"
        ],
        [
         "8",
         "US"
        ],
        [
         "9",
         "France"
        ],
        [
         "10",
         "US"
        ],
        [
         "11",
         "France"
        ],
        [
         "12",
         "France"
        ],
        [
         "13",
         "US"
        ],
        [
         "14",
         "Portugal"
        ],
        [
         "15",
         "Italy"
        ],
        [
         "16",
         "US"
        ],
        [
         "17",
         "Germany"
        ],
        [
         "18",
         "Italy"
        ],
        [
         "19",
         "US"
        ],
        [
         "20",
         "Chile"
        ],
        [
         "21",
         "Australia"
        ],
        [
         "22",
         "US"
        ],
        [
         "23",
         "US"
        ],
        [
         "24",
         "Portugal"
        ],
        [
         "25",
         "Italy"
        ],
        [
         "26",
         "Spain"
        ],
        [
         "27",
         "Italy"
        ],
        [
         "28",
         "France"
        ],
        [
         "29",
         "US"
        ],
        [
         "30",
         "Argentina"
        ],
        [
         "31",
         "South Africa"
        ],
        [
         "32",
         "US"
        ],
        [
         "33",
         "Portugal"
        ],
        [
         "34",
         "US"
        ],
        [
         "35",
         "France"
        ],
        [
         "36",
         "US"
        ],
        [
         "37",
         "Spain"
        ],
        [
         "38",
         "US"
        ],
        [
         "39",
         "Portugal"
        ],
        [
         "40",
         "France"
        ],
        [
         "41",
         "US"
        ],
        [
         "42",
         "Australia"
        ],
        [
         "43",
         "Portugal"
        ],
        [
         "44",
         "South Africa"
        ],
        [
         "45",
         "Georgia"
        ],
        [
         "46",
         "Italy"
        ],
        [
         "47",
         "France"
        ],
        [
         "48",
         "Italy"
        ],
        [
         "49",
         "France"
        ]
       ],
       "shape": {
        "columns": 1,
        "rows": 58487
       }
      },
      "text/plain": [
       "0        Australia\n",
       "1           France\n",
       "2            Spain\n",
       "3               US\n",
       "4               US\n",
       "           ...    \n",
       "58482           US\n",
       "58483       Greece\n",
       "58484        Italy\n",
       "58485           US\n",
       "58486        Spain\n",
       "Name: country, Length: 58487, dtype: object"
      ]
     },
     "execution_count": 49,
     "metadata": {},
     "output_type": "execute_result"
    }
   ],
   "source": [
    "reviews.country"
   ]
  },
  {
   "cell_type": "code",
   "execution_count": null,
   "id": "b7f742c5",
   "metadata": {},
   "outputs": [],
   "source": []
  },
  {
   "cell_type": "markdown",
   "id": "559f14f3",
   "metadata": {},
   "source": [
    "**2. Selecting by label**\n",
    "\n",
    "Here \"label\" means the \"row names\" `index` and the \"column names\" `columns`."
   ]
  },
  {
   "cell_type": "code",
   "execution_count": null,
   "id": "4007b53e",
   "metadata": {},
   "outputs": [],
   "source": []
  },
  {
   "cell_type": "markdown",
   "id": "31afdc16",
   "metadata": {},
   "source": [
    "Use `loc[]` to access part of the DataFrame by row and column **labels**. Note the `[]` instead of `()`."
   ]
  },
  {
   "cell_type": "code",
   "execution_count": 51,
   "id": "f6975ed2",
   "metadata": {},
   "outputs": [
    {
     "data": {
      "text/plain": [
       "'France'"
      ]
     },
     "execution_count": 51,
     "metadata": {},
     "output_type": "execute_result"
    }
   ],
   "source": [
    "reviews.loc[1,\"country\"]"
   ]
  },
  {
   "cell_type": "markdown",
   "id": "564679ec",
   "metadata": {},
   "source": [
    "We can use `:` inside `.loc[]` to access either all rows for a given column(s)"
   ]
  },
  {
   "cell_type": "code",
   "execution_count": 52,
   "id": "8b12b9ba",
   "metadata": {},
   "outputs": [
    {
     "data": {
      "application/vnd.microsoft.datawrangler.viewer.v0+json": {
       "columns": [
        {
         "name": "index",
         "rawType": "int64",
         "type": "integer"
        },
        {
         "name": "country",
         "rawType": "object",
         "type": "unknown"
        },
        {
         "name": "province",
         "rawType": "object",
         "type": "unknown"
        }
       ],
       "ref": "5ea95898-45f5-4952-889e-0d853df7ff7a",
       "rows": [
        [
         "0",
         "Australia",
         "Australia Other"
        ],
        [
         "1",
         "France",
         "Rhône Valley"
        ],
        [
         "2",
         "Spain",
         "Northern Spain"
        ],
        [
         "3",
         "US",
         "California"
        ],
        [
         "4",
         "US",
         "California"
        ],
        [
         "5",
         "US",
         "California"
        ],
        [
         "6",
         "US",
         "Oregon"
        ],
        [
         "7",
         "Italy",
         "Lombardy"
        ],
        [
         "8",
         "US",
         "California"
        ],
        [
         "9",
         "France",
         "Provence"
        ],
        [
         "10",
         "US",
         "California"
        ],
        [
         "11",
         "France",
         "Loire Valley"
        ],
        [
         "12",
         "France",
         "Loire Valley"
        ],
        [
         "13",
         "US",
         "California"
        ],
        [
         "14",
         "Portugal",
         "Alentejano"
        ],
        [
         "15",
         "Italy",
         "Southern Italy"
        ],
        [
         "16",
         "US",
         "California"
        ],
        [
         "17",
         "Germany",
         "Mosel"
        ],
        [
         "18",
         "Italy",
         "Southern Italy"
        ],
        [
         "19",
         "US",
         "Washington"
        ],
        [
         "20",
         "Chile",
         "Maipo Valley"
        ],
        [
         "21",
         "Australia",
         "Western Australia"
        ],
        [
         "22",
         "US",
         "New York"
        ],
        [
         "23",
         "US",
         "Oregon"
        ],
        [
         "24",
         "Portugal",
         "Tejo"
        ],
        [
         "25",
         "Italy",
         "Northeastern Italy"
        ],
        [
         "26",
         "Spain",
         "Northern Spain"
        ],
        [
         "27",
         "Italy",
         "Sicily & Sardinia"
        ],
        [
         "28",
         "France",
         "Rhône Valley"
        ],
        [
         "29",
         "US",
         "California"
        ],
        [
         "30",
         "Argentina",
         "Mendoza Province"
        ],
        [
         "31",
         "South Africa",
         "Stellenbosch"
        ],
        [
         "32",
         "US",
         "California"
        ],
        [
         "33",
         "Portugal",
         "Port"
        ],
        [
         "34",
         "US",
         "Washington"
        ],
        [
         "35",
         "France",
         "Bordeaux"
        ],
        [
         "36",
         "US",
         "California"
        ],
        [
         "37",
         "Spain",
         "Northern Spain"
        ],
        [
         "38",
         "US",
         "California"
        ],
        [
         "39",
         "Portugal",
         "Alentejano"
        ],
        [
         "40",
         "France",
         "Bordeaux"
        ],
        [
         "41",
         "US",
         "California"
        ],
        [
         "42",
         "Australia",
         "Western Australia"
        ],
        [
         "43",
         "Portugal",
         "Alentejano"
        ],
        [
         "44",
         "South Africa",
         "Stellenbosch"
        ],
        [
         "45",
         "Georgia",
         "Kakheti"
        ],
        [
         "46",
         "Italy",
         "Tuscany"
        ],
        [
         "47",
         "France",
         "Bordeaux"
        ],
        [
         "48",
         "Italy",
         "Veneto"
        ],
        [
         "49",
         "France",
         "Burgundy"
        ]
       ],
       "shape": {
        "columns": 2,
        "rows": 58487
       }
      },
      "text/html": [
       "<div>\n",
       "<style scoped>\n",
       "    .dataframe tbody tr th:only-of-type {\n",
       "        vertical-align: middle;\n",
       "    }\n",
       "\n",
       "    .dataframe tbody tr th {\n",
       "        vertical-align: top;\n",
       "    }\n",
       "\n",
       "    .dataframe thead th {\n",
       "        text-align: right;\n",
       "    }\n",
       "</style>\n",
       "<table border=\"1\" class=\"dataframe\">\n",
       "  <thead>\n",
       "    <tr style=\"text-align: right;\">\n",
       "      <th></th>\n",
       "      <th>country</th>\n",
       "      <th>province</th>\n",
       "    </tr>\n",
       "  </thead>\n",
       "  <tbody>\n",
       "    <tr>\n",
       "      <th>0</th>\n",
       "      <td>Australia</td>\n",
       "      <td>Australia Other</td>\n",
       "    </tr>\n",
       "    <tr>\n",
       "      <th>1</th>\n",
       "      <td>France</td>\n",
       "      <td>Rhône Valley</td>\n",
       "    </tr>\n",
       "    <tr>\n",
       "      <th>2</th>\n",
       "      <td>Spain</td>\n",
       "      <td>Northern Spain</td>\n",
       "    </tr>\n",
       "    <tr>\n",
       "      <th>3</th>\n",
       "      <td>US</td>\n",
       "      <td>California</td>\n",
       "    </tr>\n",
       "    <tr>\n",
       "      <th>4</th>\n",
       "      <td>US</td>\n",
       "      <td>California</td>\n",
       "    </tr>\n",
       "    <tr>\n",
       "      <th>...</th>\n",
       "      <td>...</td>\n",
       "      <td>...</td>\n",
       "    </tr>\n",
       "    <tr>\n",
       "      <th>58482</th>\n",
       "      <td>US</td>\n",
       "      <td>California</td>\n",
       "    </tr>\n",
       "    <tr>\n",
       "      <th>58483</th>\n",
       "      <td>Greece</td>\n",
       "      <td>Attica</td>\n",
       "    </tr>\n",
       "    <tr>\n",
       "      <th>58484</th>\n",
       "      <td>Italy</td>\n",
       "      <td>Southern Italy</td>\n",
       "    </tr>\n",
       "    <tr>\n",
       "      <th>58485</th>\n",
       "      <td>US</td>\n",
       "      <td>California</td>\n",
       "    </tr>\n",
       "    <tr>\n",
       "      <th>58486</th>\n",
       "      <td>Spain</td>\n",
       "      <td>Central Spain</td>\n",
       "    </tr>\n",
       "  </tbody>\n",
       "</table>\n",
       "<p>58487 rows × 2 columns</p>\n",
       "</div>"
      ],
      "text/plain": [
       "         country         province\n",
       "0      Australia  Australia Other\n",
       "1         France     Rhône Valley\n",
       "2          Spain   Northern Spain\n",
       "3             US       California\n",
       "4             US       California\n",
       "...          ...              ...\n",
       "58482         US       California\n",
       "58483     Greece           Attica\n",
       "58484      Italy   Southern Italy\n",
       "58485         US       California\n",
       "58486      Spain    Central Spain\n",
       "\n",
       "[58487 rows x 2 columns]"
      ]
     },
     "execution_count": 52,
     "metadata": {},
     "output_type": "execute_result"
    }
   ],
   "source": [
    "reviews.loc[:,[\"country\",\"province\"]]"
   ]
  },
  {
   "cell_type": "markdown",
   "id": "80183b48",
   "metadata": {},
   "source": [
    "We can rearrange our `.loc[]` to obtain all columns for specif range of rows too!"
   ]
  },
  {
   "cell_type": "code",
   "execution_count": 53,
   "id": "d36a7939",
   "metadata": {},
   "outputs": [
    {
     "data": {
      "application/vnd.microsoft.datawrangler.viewer.v0+json": {
       "columns": [
        {
         "name": "index",
         "rawType": "int64",
         "type": "integer"
        },
        {
         "name": "country",
         "rawType": "object",
         "type": "string"
        },
        {
         "name": "description",
         "rawType": "object",
         "type": "string"
        },
        {
         "name": "designation",
         "rawType": "object",
         "type": "unknown"
        },
        {
         "name": "points",
         "rawType": "int64",
         "type": "integer"
        },
        {
         "name": "price",
         "rawType": "float64",
         "type": "float"
        },
        {
         "name": "province",
         "rawType": "object",
         "type": "string"
        },
        {
         "name": "region_1",
         "rawType": "object",
         "type": "string"
        },
        {
         "name": "region_2",
         "rawType": "object",
         "type": "unknown"
        },
        {
         "name": "taster_name",
         "rawType": "object",
         "type": "unknown"
        },
        {
         "name": "taster_twitter_handle",
         "rawType": "object",
         "type": "unknown"
        },
        {
         "name": "title",
         "rawType": "object",
         "type": "string"
        },
        {
         "name": "variety",
         "rawType": "object",
         "type": "string"
        },
        {
         "name": "winery",
         "rawType": "object",
         "type": "string"
        }
       ],
       "ref": "674ec637-2a33-409b-92e5-4919d1b694ee",
       "rows": [
        [
         "2",
         "Spain",
         "Generic white-fruit aromas of peach and apple are slightly pithy. This feels good but innocuous, while flavors of apple and stone fruits lose some of their snap and directness on a tropical-tasting finish.",
         "Estate Grown & Bottled",
         "86",
         "9.0",
         "Northern Spain",
         "Rueda",
         null,
         "Michael Schachner",
         "@wineschach",
         "Esperanza 2013 Estate Grown & Bottled Verdejo-Viura (Rueda)",
         "Verdejo-Viura",
         "Esperanza"
        ],
        [
         "3",
         "US",
         "This is the winery's best Nebula in years. While it's still a little on the soft, sweet side, the cool vintage has resonated in the wine's flavor, giving it a good structure housing cherry, currant and sandalwood flavors. Drink now.",
         "Nebula",
         "87",
         "29.0",
         "California",
         "Paso Robles",
         "Central Coast",
         null,
         null,
         "Midnight 2010 Nebula Cabernet Sauvignon (Paso Robles)",
         "Cabernet Sauvignon",
         "Midnight"
        ],
        [
         "4",
         "US",
         "This is a very rich Pinot whose primary virtue is fruit. It just explodes with delicious cherry jam, red currant, licorice and mocha flavors. Dry and crisply acidic, it's a beautiful wine for early drinking.",
         "Wiley Vineyard",
         "88",
         "40.0",
         "California",
         "Anderson Valley",
         null,
         null,
         null,
         "Harrington 2006 Wiley Vineyard Pinot Noir (Anderson Valley)",
         "Pinot Noir",
         "Harrington"
        ],
        [
         "5",
         "US",
         "An unabashedly rich and luscious wine, this combines ripe and fresh fruit flavors with luxurious spicy, buttery accents and an almost thick texture. With a subtext as savory as Udon broth it's practically a meal in a bottle. Call it full-bodied, full-flavored, ultrasmooth and impressive.",
         null,
         "90",
         "22.0",
         "California",
         "Sonoma County-Monterey County-Santa Barbara County",
         "California Other",
         "Jim Gordon",
         "@gordone_cellars",
         "Meiomi 2013 Chardonnay (Sonoma County-Monterey County-Santa Barbara County)",
         "Chardonnay",
         "Meiomi"
        ]
       ],
       "shape": {
        "columns": 13,
        "rows": 4
       }
      },
      "text/html": [
       "<div>\n",
       "<style scoped>\n",
       "    .dataframe tbody tr th:only-of-type {\n",
       "        vertical-align: middle;\n",
       "    }\n",
       "\n",
       "    .dataframe tbody tr th {\n",
       "        vertical-align: top;\n",
       "    }\n",
       "\n",
       "    .dataframe thead th {\n",
       "        text-align: right;\n",
       "    }\n",
       "</style>\n",
       "<table border=\"1\" class=\"dataframe\">\n",
       "  <thead>\n",
       "    <tr style=\"text-align: right;\">\n",
       "      <th></th>\n",
       "      <th>country</th>\n",
       "      <th>description</th>\n",
       "      <th>designation</th>\n",
       "      <th>points</th>\n",
       "      <th>price</th>\n",
       "      <th>province</th>\n",
       "      <th>region_1</th>\n",
       "      <th>region_2</th>\n",
       "      <th>taster_name</th>\n",
       "      <th>taster_twitter_handle</th>\n",
       "      <th>title</th>\n",
       "      <th>variety</th>\n",
       "      <th>winery</th>\n",
       "    </tr>\n",
       "  </thead>\n",
       "  <tbody>\n",
       "    <tr>\n",
       "      <th>2</th>\n",
       "      <td>Spain</td>\n",
       "      <td>Generic white-fruit aromas of peach and apple ...</td>\n",
       "      <td>Estate Grown &amp; Bottled</td>\n",
       "      <td>86</td>\n",
       "      <td>9.0</td>\n",
       "      <td>Northern Spain</td>\n",
       "      <td>Rueda</td>\n",
       "      <td>NaN</td>\n",
       "      <td>Michael Schachner</td>\n",
       "      <td>@wineschach</td>\n",
       "      <td>Esperanza 2013 Estate Grown &amp; Bottled Verdejo-...</td>\n",
       "      <td>Verdejo-Viura</td>\n",
       "      <td>Esperanza</td>\n",
       "    </tr>\n",
       "    <tr>\n",
       "      <th>3</th>\n",
       "      <td>US</td>\n",
       "      <td>This is the winery's best Nebula in years. Whi...</td>\n",
       "      <td>Nebula</td>\n",
       "      <td>87</td>\n",
       "      <td>29.0</td>\n",
       "      <td>California</td>\n",
       "      <td>Paso Robles</td>\n",
       "      <td>Central Coast</td>\n",
       "      <td>NaN</td>\n",
       "      <td>NaN</td>\n",
       "      <td>Midnight 2010 Nebula Cabernet Sauvignon (Paso ...</td>\n",
       "      <td>Cabernet Sauvignon</td>\n",
       "      <td>Midnight</td>\n",
       "    </tr>\n",
       "    <tr>\n",
       "      <th>4</th>\n",
       "      <td>US</td>\n",
       "      <td>This is a very rich Pinot whose primary virtue...</td>\n",
       "      <td>Wiley Vineyard</td>\n",
       "      <td>88</td>\n",
       "      <td>40.0</td>\n",
       "      <td>California</td>\n",
       "      <td>Anderson Valley</td>\n",
       "      <td>NaN</td>\n",
       "      <td>NaN</td>\n",
       "      <td>NaN</td>\n",
       "      <td>Harrington 2006 Wiley Vineyard Pinot Noir (And...</td>\n",
       "      <td>Pinot Noir</td>\n",
       "      <td>Harrington</td>\n",
       "    </tr>\n",
       "    <tr>\n",
       "      <th>5</th>\n",
       "      <td>US</td>\n",
       "      <td>An unabashedly rich and luscious wine, this co...</td>\n",
       "      <td>NaN</td>\n",
       "      <td>90</td>\n",
       "      <td>22.0</td>\n",
       "      <td>California</td>\n",
       "      <td>Sonoma County-Monterey County-Santa Barbara Co...</td>\n",
       "      <td>California Other</td>\n",
       "      <td>Jim Gordon</td>\n",
       "      <td>@gordone_cellars</td>\n",
       "      <td>Meiomi 2013 Chardonnay (Sonoma County-Monterey...</td>\n",
       "      <td>Chardonnay</td>\n",
       "      <td>Meiomi</td>\n",
       "    </tr>\n",
       "  </tbody>\n",
       "</table>\n",
       "</div>"
      ],
      "text/plain": [
       "  country                                        description  \\\n",
       "2   Spain  Generic white-fruit aromas of peach and apple ...   \n",
       "3      US  This is the winery's best Nebula in years. Whi...   \n",
       "4      US  This is a very rich Pinot whose primary virtue...   \n",
       "5      US  An unabashedly rich and luscious wine, this co...   \n",
       "\n",
       "              designation  points  price        province  \\\n",
       "2  Estate Grown & Bottled      86    9.0  Northern Spain   \n",
       "3                  Nebula      87   29.0      California   \n",
       "4          Wiley Vineyard      88   40.0      California   \n",
       "5                     NaN      90   22.0      California   \n",
       "\n",
       "                                            region_1          region_2  \\\n",
       "2                                              Rueda               NaN   \n",
       "3                                        Paso Robles     Central Coast   \n",
       "4                                    Anderson Valley               NaN   \n",
       "5  Sonoma County-Monterey County-Santa Barbara Co...  California Other   \n",
       "\n",
       "         taster_name taster_twitter_handle  \\\n",
       "2  Michael Schachner           @wineschach   \n",
       "3                NaN                   NaN   \n",
       "4                NaN                   NaN   \n",
       "5         Jim Gordon      @gordone_cellars   \n",
       "\n",
       "                                               title             variety  \\\n",
       "2  Esperanza 2013 Estate Grown & Bottled Verdejo-...       Verdejo-Viura   \n",
       "3  Midnight 2010 Nebula Cabernet Sauvignon (Paso ...  Cabernet Sauvignon   \n",
       "4  Harrington 2006 Wiley Vineyard Pinot Noir (And...          Pinot Noir   \n",
       "5  Meiomi 2013 Chardonnay (Sonoma County-Monterey...          Chardonnay   \n",
       "\n",
       "       winery  \n",
       "2   Esperanza  \n",
       "3    Midnight  \n",
       "4  Harrington  \n",
       "5      Meiomi  "
      ]
     },
     "execution_count": 53,
     "metadata": {},
     "output_type": "execute_result"
    }
   ],
   "source": [
    "reviews.loc[2:5, :]"
   ]
  },
  {
   "cell_type": "markdown",
   "id": "4c5e0634",
   "metadata": {},
   "source": [
    "We can use the `:` inside `.loc[]` to obtain a range from a specific point until the end of the dataframe "
   ]
  },
  {
   "cell_type": "code",
   "execution_count": null,
   "id": "f0e1afaa",
   "metadata": {},
   "outputs": [],
   "source": []
  },
  {
   "cell_type": "markdown",
   "id": "2751b524",
   "metadata": {},
   "source": [
    "**3. Selecting by position**\n",
    "\n",
    "Here \"position\" means the *numerical location*, i.e., row number and column number (both start from 0 per Python convention), in the DataFrame.\n",
    "\n",
    "Use `iloc[]` to access part of the DataFrame by row and column numbers. Note the `[]` instead of `()`."
   ]
  },
  {
   "cell_type": "code",
   "execution_count": 54,
   "id": "1fb77a64",
   "metadata": {},
   "outputs": [
    {
     "data": {
      "text/plain": [
       "'France'"
      ]
     },
     "execution_count": 54,
     "metadata": {},
     "output_type": "execute_result"
    }
   ],
   "source": [
    "reviews.iloc[1,0]"
   ]
  },
  {
   "cell_type": "code",
   "execution_count": 55,
   "id": "696d5ce3",
   "metadata": {},
   "outputs": [
    {
     "data": {
      "application/vnd.microsoft.datawrangler.viewer.v0+json": {
       "columns": [
        {
         "name": "index",
         "rawType": "int64",
         "type": "integer"
        },
        {
         "name": "country",
         "rawType": "object",
         "type": "unknown"
        },
        {
         "name": "province",
         "rawType": "object",
         "type": "unknown"
        }
       ],
       "ref": "49d1566a-8dff-42e4-a5ef-6b3ab551e50a",
       "rows": [
        [
         "0",
         "Australia",
         "Australia Other"
        ],
        [
         "1",
         "France",
         "Rhône Valley"
        ],
        [
         "2",
         "Spain",
         "Northern Spain"
        ],
        [
         "3",
         "US",
         "California"
        ],
        [
         "4",
         "US",
         "California"
        ],
        [
         "5",
         "US",
         "California"
        ],
        [
         "6",
         "US",
         "Oregon"
        ],
        [
         "7",
         "Italy",
         "Lombardy"
        ],
        [
         "8",
         "US",
         "California"
        ],
        [
         "9",
         "France",
         "Provence"
        ],
        [
         "10",
         "US",
         "California"
        ],
        [
         "11",
         "France",
         "Loire Valley"
        ],
        [
         "12",
         "France",
         "Loire Valley"
        ],
        [
         "13",
         "US",
         "California"
        ],
        [
         "14",
         "Portugal",
         "Alentejano"
        ],
        [
         "15",
         "Italy",
         "Southern Italy"
        ],
        [
         "16",
         "US",
         "California"
        ],
        [
         "17",
         "Germany",
         "Mosel"
        ],
        [
         "18",
         "Italy",
         "Southern Italy"
        ],
        [
         "19",
         "US",
         "Washington"
        ],
        [
         "20",
         "Chile",
         "Maipo Valley"
        ],
        [
         "21",
         "Australia",
         "Western Australia"
        ],
        [
         "22",
         "US",
         "New York"
        ],
        [
         "23",
         "US",
         "Oregon"
        ],
        [
         "24",
         "Portugal",
         "Tejo"
        ],
        [
         "25",
         "Italy",
         "Northeastern Italy"
        ],
        [
         "26",
         "Spain",
         "Northern Spain"
        ],
        [
         "27",
         "Italy",
         "Sicily & Sardinia"
        ],
        [
         "28",
         "France",
         "Rhône Valley"
        ],
        [
         "29",
         "US",
         "California"
        ],
        [
         "30",
         "Argentina",
         "Mendoza Province"
        ],
        [
         "31",
         "South Africa",
         "Stellenbosch"
        ],
        [
         "32",
         "US",
         "California"
        ],
        [
         "33",
         "Portugal",
         "Port"
        ],
        [
         "34",
         "US",
         "Washington"
        ],
        [
         "35",
         "France",
         "Bordeaux"
        ],
        [
         "36",
         "US",
         "California"
        ],
        [
         "37",
         "Spain",
         "Northern Spain"
        ],
        [
         "38",
         "US",
         "California"
        ],
        [
         "39",
         "Portugal",
         "Alentejano"
        ],
        [
         "40",
         "France",
         "Bordeaux"
        ],
        [
         "41",
         "US",
         "California"
        ],
        [
         "42",
         "Australia",
         "Western Australia"
        ],
        [
         "43",
         "Portugal",
         "Alentejano"
        ],
        [
         "44",
         "South Africa",
         "Stellenbosch"
        ],
        [
         "45",
         "Georgia",
         "Kakheti"
        ],
        [
         "46",
         "Italy",
         "Tuscany"
        ],
        [
         "47",
         "France",
         "Bordeaux"
        ],
        [
         "48",
         "Italy",
         "Veneto"
        ],
        [
         "49",
         "France",
         "Burgundy"
        ]
       ],
       "shape": {
        "columns": 2,
        "rows": 58487
       }
      },
      "text/html": [
       "<div>\n",
       "<style scoped>\n",
       "    .dataframe tbody tr th:only-of-type {\n",
       "        vertical-align: middle;\n",
       "    }\n",
       "\n",
       "    .dataframe tbody tr th {\n",
       "        vertical-align: top;\n",
       "    }\n",
       "\n",
       "    .dataframe thead th {\n",
       "        text-align: right;\n",
       "    }\n",
       "</style>\n",
       "<table border=\"1\" class=\"dataframe\">\n",
       "  <thead>\n",
       "    <tr style=\"text-align: right;\">\n",
       "      <th></th>\n",
       "      <th>country</th>\n",
       "      <th>province</th>\n",
       "    </tr>\n",
       "  </thead>\n",
       "  <tbody>\n",
       "    <tr>\n",
       "      <th>0</th>\n",
       "      <td>Australia</td>\n",
       "      <td>Australia Other</td>\n",
       "    </tr>\n",
       "    <tr>\n",
       "      <th>1</th>\n",
       "      <td>France</td>\n",
       "      <td>Rhône Valley</td>\n",
       "    </tr>\n",
       "    <tr>\n",
       "      <th>2</th>\n",
       "      <td>Spain</td>\n",
       "      <td>Northern Spain</td>\n",
       "    </tr>\n",
       "    <tr>\n",
       "      <th>3</th>\n",
       "      <td>US</td>\n",
       "      <td>California</td>\n",
       "    </tr>\n",
       "    <tr>\n",
       "      <th>4</th>\n",
       "      <td>US</td>\n",
       "      <td>California</td>\n",
       "    </tr>\n",
       "    <tr>\n",
       "      <th>...</th>\n",
       "      <td>...</td>\n",
       "      <td>...</td>\n",
       "    </tr>\n",
       "    <tr>\n",
       "      <th>58482</th>\n",
       "      <td>US</td>\n",
       "      <td>California</td>\n",
       "    </tr>\n",
       "    <tr>\n",
       "      <th>58483</th>\n",
       "      <td>Greece</td>\n",
       "      <td>Attica</td>\n",
       "    </tr>\n",
       "    <tr>\n",
       "      <th>58484</th>\n",
       "      <td>Italy</td>\n",
       "      <td>Southern Italy</td>\n",
       "    </tr>\n",
       "    <tr>\n",
       "      <th>58485</th>\n",
       "      <td>US</td>\n",
       "      <td>California</td>\n",
       "    </tr>\n",
       "    <tr>\n",
       "      <th>58486</th>\n",
       "      <td>Spain</td>\n",
       "      <td>Central Spain</td>\n",
       "    </tr>\n",
       "  </tbody>\n",
       "</table>\n",
       "<p>58487 rows × 2 columns</p>\n",
       "</div>"
      ],
      "text/plain": [
       "         country         province\n",
       "0      Australia  Australia Other\n",
       "1         France     Rhône Valley\n",
       "2          Spain   Northern Spain\n",
       "3             US       California\n",
       "4             US       California\n",
       "...          ...              ...\n",
       "58482         US       California\n",
       "58483     Greece           Attica\n",
       "58484      Italy   Southern Italy\n",
       "58485         US       California\n",
       "58486      Spain    Central Spain\n",
       "\n",
       "[58487 rows x 2 columns]"
      ]
     },
     "execution_count": 55,
     "metadata": {},
     "output_type": "execute_result"
    }
   ],
   "source": [
    "reviews.iloc[:,[0,5]]"
   ]
  },
  {
   "cell_type": "code",
   "execution_count": null,
   "id": "ec15d717",
   "metadata": {},
   "outputs": [],
   "source": []
  },
  {
   "cell_type": "code",
   "execution_count": null,
   "id": "b1de4ab5",
   "metadata": {},
   "outputs": [],
   "source": []
  },
  {
   "cell_type": "markdown",
   "id": "27507b48",
   "metadata": {},
   "source": [
    "**4. Selecting by conditions**\n",
    "\n",
    "This is also called **boolean indexing**, usually used to select *rows* satisfying certain conditions."
   ]
  },
  {
   "cell_type": "code",
   "execution_count": null,
   "id": "43be4ec9",
   "metadata": {},
   "outputs": [],
   "source": []
  },
  {
   "cell_type": "markdown",
   "id": "3d4c4c3a",
   "metadata": {},
   "source": [
    "How can we satisfy more than one condition?\n",
    "\n",
    "We still need `[]` as we are passing a list of labels or conditions.\n",
    "\n",
    "We can seprate our conditions using the `&`.\n",
    "\n",
    "We will also need wrap our conditions using `()` due to precedence.\n",
    "\n",
    "In python `==` have a higher precedence than bitwise operators like `&`.\n",
    "\n",
    "So we need any `==` to be evaluated first and then combined."
   ]
  },
  {
   "cell_type": "code",
   "execution_count": null,
   "id": "ee6f7491",
   "metadata": {},
   "outputs": [],
   "source": []
  },
  {
   "cell_type": "code",
   "execution_count": null,
   "id": "f8d3139b",
   "metadata": {},
   "outputs": [],
   "source": []
  },
  {
   "cell_type": "markdown",
   "id": "fd3ac9e0",
   "metadata": {},
   "source": [
    "We can also satisfy 2 conditions within a column using `.isin()` and passing it a list"
   ]
  },
  {
   "cell_type": "code",
   "execution_count": null,
   "id": "51abd56d",
   "metadata": {},
   "outputs": [],
   "source": []
  },
  {
   "cell_type": "markdown",
   "id": "9debb67d",
   "metadata": {},
   "source": [
    "Missing values can also be considered as conditions"
   ]
  },
  {
   "cell_type": "code",
   "execution_count": null,
   "id": "070b4f61",
   "metadata": {},
   "outputs": [],
   "source": []
  },
  {
   "cell_type": "markdown",
   "id": "01727543",
   "metadata": {},
   "source": [
    "#### Missing Data\n",
    "\n",
    "Detect missing data `np.nan`:"
   ]
  },
  {
   "cell_type": "code",
   "execution_count": null,
   "id": "16a636bc",
   "metadata": {},
   "outputs": [],
   "source": []
  },
  {
   "cell_type": "markdown",
   "id": "e42eb0eb",
   "metadata": {},
   "source": [
    "Filling in missing data"
   ]
  },
  {
   "cell_type": "code",
   "execution_count": null,
   "id": "e35ceffe",
   "metadata": {},
   "outputs": [],
   "source": []
  },
  {
   "cell_type": "markdown",
   "id": "3936cc83",
   "metadata": {},
   "source": [
    "Drop missing data"
   ]
  },
  {
   "cell_type": "code",
   "execution_count": null,
   "id": "511e1503",
   "metadata": {},
   "outputs": [],
   "source": [
    "\n"
   ]
  },
  {
   "cell_type": "code",
   "execution_count": null,
   "id": "d4a4c8e5",
   "metadata": {},
   "outputs": [],
   "source": []
  },
  {
   "cell_type": "markdown",
   "id": "acdec203",
   "metadata": {},
   "source": [
    "#### Exercise\n",
    "\n",
    "Create a \"sub\"-DataFrame from `reviews` that contains the `country`, `province`, `region_1` and `region_2` columns with index labels `10`, `750` and `1200`."
   ]
  },
  {
   "cell_type": "code",
   "execution_count": null,
   "id": "d8ce8606",
   "metadata": {},
   "outputs": [],
   "source": []
  },
  {
   "cell_type": "markdown",
   "id": "2717338e",
   "metadata": {},
   "source": [
    "Create a \"sub\"-DataFrame from `reviews` that contains all reviews with at least 95 points for wines from oceanian countries (Australia and New Zealand)."
   ]
  },
  {
   "cell_type": "code",
   "execution_count": null,
   "id": "ce644fca",
   "metadata": {},
   "outputs": [],
   "source": []
  },
  {
   "cell_type": "markdown",
   "id": "1475dd64",
   "metadata": {},
   "source": [
    "### Summary Functions\n",
    "\n",
    "Summary functions allow us to quickly describe and understand a dataset by computing key statistics. Common examples include `.mean()`, `.median()`, `.min()`, `.max()`, and `.sum()` for numerical data, as well as `.value_counts()` for categorical data. These functions can be applied to entire DataFrames or specific columns, giving us insights such as average values, distributions, and totals. Using `.describe()` provides a convenient overview of multiple summary statistics at once.\n"
   ]
  },
  {
   "cell_type": "code",
   "execution_count": null,
   "id": "5b5b45cd",
   "metadata": {},
   "outputs": [],
   "source": []
  },
  {
   "cell_type": "code",
   "execution_count": null,
   "id": "a2fe9da6",
   "metadata": {},
   "outputs": [],
   "source": []
  },
  {
   "cell_type": "code",
   "execution_count": null,
   "id": "3ba45176",
   "metadata": {},
   "outputs": [],
   "source": []
  },
  {
   "cell_type": "code",
   "execution_count": null,
   "id": "21b1bc52",
   "metadata": {},
   "outputs": [],
   "source": []
  },
  {
   "cell_type": "markdown",
   "id": "cceb7757",
   "metadata": {},
   "source": [
    "For numerical columns, we can obtain the mean, median, min, max and sum\n",
    "\n",
    "Useful for obtaining quick statistics"
   ]
  },
  {
   "cell_type": "code",
   "execution_count": null,
   "id": "2b293b1c",
   "metadata": {},
   "outputs": [],
   "source": []
  },
  {
   "cell_type": "markdown",
   "id": "6cde0943",
   "metadata": {},
   "source": [
    "## All Done!"
   ]
  }
 ],
 "metadata": {
  "kernelspec": {
   "display_name": "Python 3",
   "language": "python",
   "name": "python3"
  },
  "language_info": {
   "codemirror_mode": {
    "name": "ipython",
    "version": 3
   },
   "file_extension": ".py",
   "mimetype": "text/x-python",
   "name": "python",
   "nbconvert_exporter": "python",
   "pygments_lexer": "ipython3",
   "version": "3.12.1"
  }
 },
 "nbformat": 4,
 "nbformat_minor": 5
}
