{
 "cells": [
  {
   "cell_type": "markdown",
   "id": "c7a9a111",
   "metadata": {},
   "source": [
    "### Data Visualisation\n",
    "\n",
    "“The simple graph has brought more information to the data analyst’s mind than any other device.” — John Tukey\n",
    "\n",
    "We will use the London Bikes dataset, showing the number of bikes rented every day from 2010-2024, including variables such as temp, humidity etc\n",
    "\n",
    "**Import the necessary libraries and dataset now**"
   ]
  },
  {
   "cell_type": "code",
   "execution_count": null,
   "id": "9058d698",
   "metadata": {},
   "outputs": [],
   "source": [
    "import pandas as pd\n",
    "import numpy as np\n",
    "import matplotlib.pyplot as plt\n",
    "import seaborn as sns\n",
    "\n",
    "bikes = pd.read_csv('../Data/london_bikes.csv')\n",
    "bikes\n",
    "\n",
    "# Convert to datetime first\n",
    "bikes['date'] = pd.to_datetime(bikes['date'])\n",
    "\n",
    "# extract components\n",
    "bikes[\"year\"] = bikes[\"date\"].dt.year\n",
    "bikes[\"month\"] = bikes[\"date\"].dt.month\n",
    "bikes[\"month_name\"] = bikes[\"date\"].dt.month_name()   # month label\n",
    "bikes[\"day\"] = bikes[\"date\"].dt.day\n",
    "bikes[\"day_of_week\"] = bikes[\"date\"].dt.day_name()     # weekday label\n",
    "bikes['date'] = bikes['date'].dt.date\n",
    "\n",
    "\n",
    "# create season_name based on numeric rules\n",
    "bikes[\"season\"] = np.select(\n",
    "    [\n",
    "        (bikes[\"month\"].isin([12, 1, 2])),   # Winter: Dec, Jan, Feb\n",
    "        (bikes[\"month\"].isin([3, 4, 5])),    # Spring: Mar, Apr, May\n",
    "        (bikes[\"month\"].isin([6, 7, 8])),    # Summer: Jun, Jul, Aug\n",
    "        (bikes[\"month\"].isin([9, 10, 11]))   # Autumn: Sep, Oct, Nov\n",
    "    ],\n",
    "    [\"Winter\", \"Spring\", \"Summer\", \"Autumn\"], \n",
    "    default=\"Unknown\"\n",
    ")\n",
    "\n",
    "# convert to ordered categorical, like fct_relevel in R\n",
    "season_order = [\"Winter\", \"Spring\", \"Summer\", \"Autumn\"]\n",
    "bikes[\"season\"] = pd.Categorical(\n",
    "    bikes[\"season\"],\n",
    "    categories=season_order,\n",
    "    ordered=True\n",
    ")\n",
    "\n",
    "bikes\n",
    "\n",
    "bikes"
   ]
  },
  {
   "cell_type": "markdown",
   "id": "68743e56",
   "metadata": {},
   "source": [
    "#### Histogram plot"
   ]
  },
  {
   "cell_type": "code",
   "execution_count": null,
   "id": "2554fd30",
   "metadata": {},
   "outputs": [],
   "source": []
  },
  {
   "cell_type": "code",
   "execution_count": null,
   "id": "53ce1a29",
   "metadata": {},
   "outputs": [],
   "source": [
    "# create faceted histograms by month_name\n",
    "\n",
    "# add titles and tidy style\n"
   ]
  },
  {
   "cell_type": "markdown",
   "id": "3423d09f",
   "metadata": {},
   "source": [
    "**Density Plot**"
   ]
  },
  {
   "cell_type": "code",
   "execution_count": null,
   "id": "f4277a86",
   "metadata": {},
   "outputs": [],
   "source": [
    "# Density plots of bikes hired by month and season\n",
    "\n",
    "\n",
    "# add titles and tidy style\n"
   ]
  },
  {
   "cell_type": "markdown",
   "id": "a7ca753e",
   "metadata": {},
   "source": [
    "**Boxplots**"
   ]
  },
  {
   "cell_type": "code",
   "execution_count": null,
   "id": "34eeac31",
   "metadata": {},
   "outputs": [],
   "source": [
    "# Boxplots of bikes hired by month and season\n",
    "\n",
    "\n",
    "# add titles and tidy style\n"
   ]
  },
  {
   "cell_type": "markdown",
   "id": "def3e391",
   "metadata": {},
   "source": [
    "**Scatterplots**"
   ]
  },
  {
   "cell_type": "code",
   "execution_count": null,
   "id": "f1a16c02",
   "metadata": {},
   "outputs": [],
   "source": [
    "# Scatter plots of bikes hired vs mean_temp, faceted by season\n",
    "\n",
    "# add titles and tidy style\n"
   ]
  },
  {
   "cell_type": "markdown",
   "id": "7d1a0364",
   "metadata": {},
   "source": [
    "**Time Series**"
   ]
  },
  {
   "cell_type": "code",
   "execution_count": null,
   "id": "edc4240e",
   "metadata": {},
   "outputs": [],
   "source": [
    "# 30-day rolling mean as the smooth \n",
    "\n",
    "\n",
    "# Time series plot with trend line\n"
   ]
  }
 ],
 "metadata": {
  "kernelspec": {
   "display_name": "Python 3",
   "language": "python",
   "name": "python3"
  },
  "language_info": {
   "codemirror_mode": {
    "name": "ipython",
    "version": 3
   },
   "file_extension": ".py",
   "mimetype": "text/x-python",
   "name": "python",
   "nbconvert_exporter": "python",
   "pygments_lexer": "ipython3",
   "version": "3.12.1"
  }
 },
 "nbformat": 4,
 "nbformat_minor": 5
}
