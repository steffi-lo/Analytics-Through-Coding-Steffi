{
 "cells": [
  {
   "cell_type": "markdown",
   "id": "78a947db",
   "metadata": {},
   "source": [
    "### Relational Data\n",
    "\n",
    "It’s rare that a data analysis involves only a single table of data. Typically you have many tables of data, and you must combine them to answer the questions that you’re interested in. Collectively, multiple tables of data are called relational data because it is the relations, not just the individual datasets, that are important.\n",
    "\n",
    "We will use the nycflights13 package to learn about relational data\n",
    "\n",
    "**Let's import the libraries and data**"
   ]
  },
  {
   "cell_type": "code",
   "execution_count": null,
   "id": "cabd8606",
   "metadata": {},
   "outputs": [],
   "source": [
    "import pandas as pd\n",
    "import numpy as np\n",
    "\n",
    "# Load the data\n",
    "flights = pd.read_csv('../Data/nycflights13_flights.csv', index_col=0)\n",
    "flights.reset_index(drop=True, inplace=True)\n",
    "\n",
    "airlines = pd.read_csv('../Data/nycflights13_airlines.csv')\n",
    "airports = pd.read_csv('../Data/nycflights13_airports.csv')\n",
    "planes = pd.read_csv('../Data/nycflights13_planes.csv')\n",
    "weather = pd.read_csv('../Data/nycflights13_weather.csv')\n",
    "\n",
    "display(flights)\n",
    "display(airlines)\n",
    "display(airports)\n",
    "display(planes)\n",
    "display(weather)"
   ]
  },
  {
   "cell_type": "markdown",
   "id": "d7106cdc",
   "metadata": {},
   "source": [
    "One way to show the relationships between the different tables is with a drawing:\n",
    "\n",
    "![GitHub Codespaces](fligths_data.png)"
   ]
  },
  {
   "cell_type": "markdown",
   "id": "a01fe6f3",
   "metadata": {},
   "source": [
    "There are 2 type of joins\n",
    "\n",
    "**Mutating joins:**\n",
    "| Join Type     | Description                                                                 |\n",
    "|---------------|-----------------------------------------------------------------------------|\n",
    "| Inner Join    | Returns only rows with matching values in both tables.                      |\n",
    "| Left Join     | Returns all rows from the left table, and matching rows from the right.      |\n",
    "| Right Join    | Returns all rows from the right table, and matching rows from the left.      |\n",
    "| Full Join (Outer Join)    | Returns all rows when there is a match in either left or right table.        |\n",
    "\n",
    "![GitHub Codespaces](mutating_joins.png)\n",
    "\n",
    "**Filtering joins:**\n",
    "| Join Type   | Description                                                                 |\n",
    "|-------------|-----------------------------------------------------------------------------|\n",
    "| Semi Join   | Returns all rows from the left table where a match exists in the right table, but without bringing in the columns from the right table. |\n",
    "| Anti Join   | Returns all rows from the left table where **no match** exists in the right table. |\n"
   ]
  },
  {
   "cell_type": "markdown",
   "id": "0304d4dc",
   "metadata": {},
   "source": [
    "**Inner Join**"
   ]
  },
  {
   "cell_type": "code",
   "execution_count": null,
   "id": "dfdaa0f2",
   "metadata": {},
   "outputs": [],
   "source": [
    "# Keeps only flights where the carrier exists in the airlines table."
   ]
  },
  {
   "cell_type": "markdown",
   "id": "cb20aaf7",
   "metadata": {},
   "source": [
    "**Left Join**"
   ]
  },
  {
   "cell_type": "code",
   "execution_count": null,
   "id": "c81fbc2f",
   "metadata": {},
   "outputs": [],
   "source": [
    " # Keeps all flights and adds airline info if the carrier exists.  "
   ]
  },
  {
   "cell_type": "markdown",
   "id": "775120fc",
   "metadata": {},
   "source": [
    "**Right Join**"
   ]
  },
  {
   "cell_type": "code",
   "execution_count": null,
   "id": "b1f2ddc3",
   "metadata": {},
   "outputs": [],
   "source": [
    " # Keeps all airlines and only the flights that match them.  "
   ]
  },
  {
   "cell_type": "markdown",
   "id": "3689c5ad",
   "metadata": {},
   "source": [
    "**Full Join**"
   ]
  },
  {
   "cell_type": "code",
   "execution_count": null,
   "id": "b8da2815",
   "metadata": {},
   "outputs": [],
   "source": [
    "\n",
    "#Keeps all flights and all airlines, matching where possible, filling missing values with NaN.  "
   ]
  },
  {
   "cell_type": "markdown",
   "id": "228655bf",
   "metadata": {},
   "source": [
    "**Chaining Multiple Joins**\n",
    "\n",
    "Let’s say you want to combine:\n",
    "\n",
    "`flights` (main table)\n",
    "\n",
    "`airlines` (carrier name)\n",
    "\n",
    "`planes` (plane details by tail number)\n",
    "\n",
    "`airports` (destination info)\n",
    "\n",
    "Recall from Data Transformation that its better to assign larger chains of functions to a variable using `=`"
   ]
  },
  {
   "cell_type": "code",
   "execution_count": null,
   "id": "f5b03703",
   "metadata": {},
   "outputs": [],
   "source": [
    "flights_all = ()\n",
    "flights_all"
   ]
  },
  {
   "cell_type": "markdown",
   "id": "ee3b0fae",
   "metadata": {},
   "source": [
    "### All Done!"
   ]
  }
 ],
 "metadata": {
  "kernelspec": {
   "display_name": "Python 3",
   "language": "python",
   "name": "python3"
  },
  "language_info": {
   "codemirror_mode": {
    "name": "ipython",
    "version": 3
   },
   "file_extension": ".py",
   "mimetype": "text/x-python",
   "name": "python",
   "nbconvert_exporter": "python",
   "pygments_lexer": "ipython3",
   "version": "3.12.1"
  }
 },
 "nbformat": 4,
 "nbformat_minor": 5
}
