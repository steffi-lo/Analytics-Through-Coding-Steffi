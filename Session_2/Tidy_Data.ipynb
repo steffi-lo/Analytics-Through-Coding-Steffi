{
 "cells": [
  {
   "cell_type": "markdown",
   "id": "e84282db",
   "metadata": {},
   "source": [
    "### Tidy Data\n",
    "\n",
    "Good practice is to import the necessary libraries at the start of your notebook/script"
   ]
  },
  {
   "cell_type": "code",
   "execution_count": 1,
   "id": "dbba089e",
   "metadata": {},
   "outputs": [],
   "source": [
    "import pandas as pd\n",
    "import numpy as np"
   ]
  },
  {
   "cell_type": "markdown",
   "id": "6afc834f",
   "metadata": {},
   "source": [
    "Getting your data into this format requires some upfront work, but that work pays off in the long term. Once you have tidy data and pandas data frames, you will spend much less time manipulating data from one representation to another, allowing you to spend more time on the analytic questions at hand.\n",
    "\n",
    "Instead of using a csv file, we can also connet to datasets via a URL and then create a dataframe using `pandas`"
   ]
  },
  {
   "cell_type": "code",
   "execution_count": 2,
   "id": "795d15ac",
   "metadata": {},
   "outputs": [],
   "source": [
    "base_url = \"https://github.com/byuidatascience/data4python4ds/raw/master/data-raw/\" # base URL for datasets\n",
    "table1 = pd.read_csv(\"{}table1/table1.csv\".format(base_url)) # read table1 dataset\n",
    "table2 = pd.read_csv(\"{}table2/table2.csv\".format(base_url)) # read table2 dataset\n",
    "table3 = pd.read_csv(\"{}table3/table3.csv\".format(base_url)) # read table3 dataset\n",
    "table4a = pd.read_csv(\"{}table4a/table4a.csv\".format(base_url)) # read table4a dataset\n",
    "table4b = pd.read_csv(\"{}table4b/table4b.csv\".format(base_url)) # read table4b dataset\n",
    "table5 = pd.read_csv(\"{}table5/table5.csv\".format(base_url), dtype = 'object') # read table5 dataset"
   ]
  },
  {
   "cell_type": "code",
   "execution_count": 3,
   "id": "42952363",
   "metadata": {},
   "outputs": [
    {
     "data": {
      "application/vnd.microsoft.datawrangler.viewer.v0+json": {
       "columns": [
        {
         "name": "index",
         "rawType": "int64",
         "type": "integer"
        },
        {
         "name": "country",
         "rawType": "object",
         "type": "string"
        },
        {
         "name": "year",
         "rawType": "int64",
         "type": "integer"
        },
        {
         "name": "cases",
         "rawType": "int64",
         "type": "integer"
        },
        {
         "name": "population",
         "rawType": "int64",
         "type": "integer"
        }
       ],
       "ref": "ee181bf9-bc64-4d5c-9b16-1b551349778e",
       "rows": [
        [
         "0",
         "Afghanistan",
         "1999",
         "745",
         "19987071"
        ],
        [
         "1",
         "Afghanistan",
         "2000",
         "2666",
         "20595360"
        ],
        [
         "2",
         "Brazil",
         "1999",
         "37737",
         "172006362"
        ],
        [
         "3",
         "Brazil",
         "2000",
         "80488",
         "174504898"
        ],
        [
         "4",
         "China",
         "1999",
         "212258",
         "1272915272"
        ],
        [
         "5",
         "China",
         "2000",
         "213766",
         "1280428583"
        ]
       ],
       "shape": {
        "columns": 4,
        "rows": 6
       }
      },
      "text/html": [
       "<div>\n",
       "<style scoped>\n",
       "    .dataframe tbody tr th:only-of-type {\n",
       "        vertical-align: middle;\n",
       "    }\n",
       "\n",
       "    .dataframe tbody tr th {\n",
       "        vertical-align: top;\n",
       "    }\n",
       "\n",
       "    .dataframe thead th {\n",
       "        text-align: right;\n",
       "    }\n",
       "</style>\n",
       "<table border=\"1\" class=\"dataframe\">\n",
       "  <thead>\n",
       "    <tr style=\"text-align: right;\">\n",
       "      <th></th>\n",
       "      <th>country</th>\n",
       "      <th>year</th>\n",
       "      <th>cases</th>\n",
       "      <th>population</th>\n",
       "    </tr>\n",
       "  </thead>\n",
       "  <tbody>\n",
       "    <tr>\n",
       "      <th>0</th>\n",
       "      <td>Afghanistan</td>\n",
       "      <td>1999</td>\n",
       "      <td>745</td>\n",
       "      <td>19987071</td>\n",
       "    </tr>\n",
       "    <tr>\n",
       "      <th>1</th>\n",
       "      <td>Afghanistan</td>\n",
       "      <td>2000</td>\n",
       "      <td>2666</td>\n",
       "      <td>20595360</td>\n",
       "    </tr>\n",
       "    <tr>\n",
       "      <th>2</th>\n",
       "      <td>Brazil</td>\n",
       "      <td>1999</td>\n",
       "      <td>37737</td>\n",
       "      <td>172006362</td>\n",
       "    </tr>\n",
       "    <tr>\n",
       "      <th>3</th>\n",
       "      <td>Brazil</td>\n",
       "      <td>2000</td>\n",
       "      <td>80488</td>\n",
       "      <td>174504898</td>\n",
       "    </tr>\n",
       "    <tr>\n",
       "      <th>4</th>\n",
       "      <td>China</td>\n",
       "      <td>1999</td>\n",
       "      <td>212258</td>\n",
       "      <td>1272915272</td>\n",
       "    </tr>\n",
       "    <tr>\n",
       "      <th>5</th>\n",
       "      <td>China</td>\n",
       "      <td>2000</td>\n",
       "      <td>213766</td>\n",
       "      <td>1280428583</td>\n",
       "    </tr>\n",
       "  </tbody>\n",
       "</table>\n",
       "</div>"
      ],
      "text/plain": [
       "       country  year   cases  population\n",
       "0  Afghanistan  1999     745    19987071\n",
       "1  Afghanistan  2000    2666    20595360\n",
       "2       Brazil  1999   37737   172006362\n",
       "3       Brazil  2000   80488   174504898\n",
       "4        China  1999  212258  1272915272\n",
       "5        China  2000  213766  1280428583"
      ]
     },
     "metadata": {},
     "output_type": "display_data"
    },
    {
     "data": {
      "application/vnd.microsoft.datawrangler.viewer.v0+json": {
       "columns": [
        {
         "name": "index",
         "rawType": "int64",
         "type": "integer"
        },
        {
         "name": "country",
         "rawType": "object",
         "type": "string"
        },
        {
         "name": "year",
         "rawType": "int64",
         "type": "integer"
        },
        {
         "name": "type",
         "rawType": "object",
         "type": "string"
        },
        {
         "name": "count",
         "rawType": "int64",
         "type": "integer"
        }
       ],
       "ref": "b20c3b49-8460-4d4e-b0ea-ef3decebf821",
       "rows": [
        [
         "0",
         "Afghanistan",
         "1999",
         "cases",
         "745"
        ],
        [
         "1",
         "Afghanistan",
         "1999",
         "population",
         "19987071"
        ],
        [
         "2",
         "Afghanistan",
         "2000",
         "cases",
         "2666"
        ],
        [
         "3",
         "Afghanistan",
         "2000",
         "population",
         "20595360"
        ],
        [
         "4",
         "Brazil",
         "1999",
         "cases",
         "37737"
        ],
        [
         "5",
         "Brazil",
         "1999",
         "population",
         "172006362"
        ],
        [
         "6",
         "Brazil",
         "2000",
         "cases",
         "80488"
        ],
        [
         "7",
         "Brazil",
         "2000",
         "population",
         "174504898"
        ],
        [
         "8",
         "China",
         "1999",
         "cases",
         "212258"
        ],
        [
         "9",
         "China",
         "1999",
         "population",
         "1272915272"
        ],
        [
         "10",
         "China",
         "2000",
         "cases",
         "213766"
        ],
        [
         "11",
         "China",
         "2000",
         "population",
         "1280428583"
        ]
       ],
       "shape": {
        "columns": 4,
        "rows": 12
       }
      },
      "text/html": [
       "<div>\n",
       "<style scoped>\n",
       "    .dataframe tbody tr th:only-of-type {\n",
       "        vertical-align: middle;\n",
       "    }\n",
       "\n",
       "    .dataframe tbody tr th {\n",
       "        vertical-align: top;\n",
       "    }\n",
       "\n",
       "    .dataframe thead th {\n",
       "        text-align: right;\n",
       "    }\n",
       "</style>\n",
       "<table border=\"1\" class=\"dataframe\">\n",
       "  <thead>\n",
       "    <tr style=\"text-align: right;\">\n",
       "      <th></th>\n",
       "      <th>country</th>\n",
       "      <th>year</th>\n",
       "      <th>type</th>\n",
       "      <th>count</th>\n",
       "    </tr>\n",
       "  </thead>\n",
       "  <tbody>\n",
       "    <tr>\n",
       "      <th>0</th>\n",
       "      <td>Afghanistan</td>\n",
       "      <td>1999</td>\n",
       "      <td>cases</td>\n",
       "      <td>745</td>\n",
       "    </tr>\n",
       "    <tr>\n",
       "      <th>1</th>\n",
       "      <td>Afghanistan</td>\n",
       "      <td>1999</td>\n",
       "      <td>population</td>\n",
       "      <td>19987071</td>\n",
       "    </tr>\n",
       "    <tr>\n",
       "      <th>2</th>\n",
       "      <td>Afghanistan</td>\n",
       "      <td>2000</td>\n",
       "      <td>cases</td>\n",
       "      <td>2666</td>\n",
       "    </tr>\n",
       "    <tr>\n",
       "      <th>3</th>\n",
       "      <td>Afghanistan</td>\n",
       "      <td>2000</td>\n",
       "      <td>population</td>\n",
       "      <td>20595360</td>\n",
       "    </tr>\n",
       "    <tr>\n",
       "      <th>4</th>\n",
       "      <td>Brazil</td>\n",
       "      <td>1999</td>\n",
       "      <td>cases</td>\n",
       "      <td>37737</td>\n",
       "    </tr>\n",
       "    <tr>\n",
       "      <th>5</th>\n",
       "      <td>Brazil</td>\n",
       "      <td>1999</td>\n",
       "      <td>population</td>\n",
       "      <td>172006362</td>\n",
       "    </tr>\n",
       "    <tr>\n",
       "      <th>6</th>\n",
       "      <td>Brazil</td>\n",
       "      <td>2000</td>\n",
       "      <td>cases</td>\n",
       "      <td>80488</td>\n",
       "    </tr>\n",
       "    <tr>\n",
       "      <th>7</th>\n",
       "      <td>Brazil</td>\n",
       "      <td>2000</td>\n",
       "      <td>population</td>\n",
       "      <td>174504898</td>\n",
       "    </tr>\n",
       "    <tr>\n",
       "      <th>8</th>\n",
       "      <td>China</td>\n",
       "      <td>1999</td>\n",
       "      <td>cases</td>\n",
       "      <td>212258</td>\n",
       "    </tr>\n",
       "    <tr>\n",
       "      <th>9</th>\n",
       "      <td>China</td>\n",
       "      <td>1999</td>\n",
       "      <td>population</td>\n",
       "      <td>1272915272</td>\n",
       "    </tr>\n",
       "    <tr>\n",
       "      <th>10</th>\n",
       "      <td>China</td>\n",
       "      <td>2000</td>\n",
       "      <td>cases</td>\n",
       "      <td>213766</td>\n",
       "    </tr>\n",
       "    <tr>\n",
       "      <th>11</th>\n",
       "      <td>China</td>\n",
       "      <td>2000</td>\n",
       "      <td>population</td>\n",
       "      <td>1280428583</td>\n",
       "    </tr>\n",
       "  </tbody>\n",
       "</table>\n",
       "</div>"
      ],
      "text/plain": [
       "        country  year        type       count\n",
       "0   Afghanistan  1999       cases         745\n",
       "1   Afghanistan  1999  population    19987071\n",
       "2   Afghanistan  2000       cases        2666\n",
       "3   Afghanistan  2000  population    20595360\n",
       "4        Brazil  1999       cases       37737\n",
       "5        Brazil  1999  population   172006362\n",
       "6        Brazil  2000       cases       80488\n",
       "7        Brazil  2000  population   174504898\n",
       "8         China  1999       cases      212258\n",
       "9         China  1999  population  1272915272\n",
       "10        China  2000       cases      213766\n",
       "11        China  2000  population  1280428583"
      ]
     },
     "metadata": {},
     "output_type": "display_data"
    },
    {
     "data": {
      "application/vnd.microsoft.datawrangler.viewer.v0+json": {
       "columns": [
        {
         "name": "index",
         "rawType": "int64",
         "type": "integer"
        },
        {
         "name": "country",
         "rawType": "object",
         "type": "string"
        },
        {
         "name": "year",
         "rawType": "int64",
         "type": "integer"
        },
        {
         "name": "rate",
         "rawType": "object",
         "type": "string"
        }
       ],
       "ref": "c187e79d-d485-4237-b6a3-52416e3e720a",
       "rows": [
        [
         "0",
         "Afghanistan",
         "1999",
         "745/19987071"
        ],
        [
         "1",
         "Afghanistan",
         "2000",
         "2666/20595360"
        ],
        [
         "2",
         "Brazil",
         "1999",
         "37737/172006362"
        ],
        [
         "3",
         "Brazil",
         "2000",
         "80488/174504898"
        ],
        [
         "4",
         "China",
         "1999",
         "212258/1272915272"
        ],
        [
         "5",
         "China",
         "2000",
         "213766/1280428583"
        ]
       ],
       "shape": {
        "columns": 3,
        "rows": 6
       }
      },
      "text/html": [
       "<div>\n",
       "<style scoped>\n",
       "    .dataframe tbody tr th:only-of-type {\n",
       "        vertical-align: middle;\n",
       "    }\n",
       "\n",
       "    .dataframe tbody tr th {\n",
       "        vertical-align: top;\n",
       "    }\n",
       "\n",
       "    .dataframe thead th {\n",
       "        text-align: right;\n",
       "    }\n",
       "</style>\n",
       "<table border=\"1\" class=\"dataframe\">\n",
       "  <thead>\n",
       "    <tr style=\"text-align: right;\">\n",
       "      <th></th>\n",
       "      <th>country</th>\n",
       "      <th>year</th>\n",
       "      <th>rate</th>\n",
       "    </tr>\n",
       "  </thead>\n",
       "  <tbody>\n",
       "    <tr>\n",
       "      <th>0</th>\n",
       "      <td>Afghanistan</td>\n",
       "      <td>1999</td>\n",
       "      <td>745/19987071</td>\n",
       "    </tr>\n",
       "    <tr>\n",
       "      <th>1</th>\n",
       "      <td>Afghanistan</td>\n",
       "      <td>2000</td>\n",
       "      <td>2666/20595360</td>\n",
       "    </tr>\n",
       "    <tr>\n",
       "      <th>2</th>\n",
       "      <td>Brazil</td>\n",
       "      <td>1999</td>\n",
       "      <td>37737/172006362</td>\n",
       "    </tr>\n",
       "    <tr>\n",
       "      <th>3</th>\n",
       "      <td>Brazil</td>\n",
       "      <td>2000</td>\n",
       "      <td>80488/174504898</td>\n",
       "    </tr>\n",
       "    <tr>\n",
       "      <th>4</th>\n",
       "      <td>China</td>\n",
       "      <td>1999</td>\n",
       "      <td>212258/1272915272</td>\n",
       "    </tr>\n",
       "    <tr>\n",
       "      <th>5</th>\n",
       "      <td>China</td>\n",
       "      <td>2000</td>\n",
       "      <td>213766/1280428583</td>\n",
       "    </tr>\n",
       "  </tbody>\n",
       "</table>\n",
       "</div>"
      ],
      "text/plain": [
       "       country  year               rate\n",
       "0  Afghanistan  1999       745/19987071\n",
       "1  Afghanistan  2000      2666/20595360\n",
       "2       Brazil  1999    37737/172006362\n",
       "3       Brazil  2000    80488/174504898\n",
       "4        China  1999  212258/1272915272\n",
       "5        China  2000  213766/1280428583"
      ]
     },
     "metadata": {},
     "output_type": "display_data"
    },
    {
     "data": {
      "application/vnd.microsoft.datawrangler.viewer.v0+json": {
       "columns": [
        {
         "name": "index",
         "rawType": "int64",
         "type": "integer"
        },
        {
         "name": "country",
         "rawType": "object",
         "type": "string"
        },
        {
         "name": "1999",
         "rawType": "int64",
         "type": "integer"
        },
        {
         "name": "2000",
         "rawType": "int64",
         "type": "integer"
        }
       ],
       "ref": "8743bef1-36bd-4a6c-9f51-cf5d7e3a5a0d",
       "rows": [
        [
         "0",
         "Afghanistan",
         "745",
         "2666"
        ],
        [
         "1",
         "Brazil",
         "37737",
         "80488"
        ],
        [
         "2",
         "China",
         "212258",
         "213766"
        ]
       ],
       "shape": {
        "columns": 3,
        "rows": 3
       }
      },
      "text/html": [
       "<div>\n",
       "<style scoped>\n",
       "    .dataframe tbody tr th:only-of-type {\n",
       "        vertical-align: middle;\n",
       "    }\n",
       "\n",
       "    .dataframe tbody tr th {\n",
       "        vertical-align: top;\n",
       "    }\n",
       "\n",
       "    .dataframe thead th {\n",
       "        text-align: right;\n",
       "    }\n",
       "</style>\n",
       "<table border=\"1\" class=\"dataframe\">\n",
       "  <thead>\n",
       "    <tr style=\"text-align: right;\">\n",
       "      <th></th>\n",
       "      <th>country</th>\n",
       "      <th>1999</th>\n",
       "      <th>2000</th>\n",
       "    </tr>\n",
       "  </thead>\n",
       "  <tbody>\n",
       "    <tr>\n",
       "      <th>0</th>\n",
       "      <td>Afghanistan</td>\n",
       "      <td>745</td>\n",
       "      <td>2666</td>\n",
       "    </tr>\n",
       "    <tr>\n",
       "      <th>1</th>\n",
       "      <td>Brazil</td>\n",
       "      <td>37737</td>\n",
       "      <td>80488</td>\n",
       "    </tr>\n",
       "    <tr>\n",
       "      <th>2</th>\n",
       "      <td>China</td>\n",
       "      <td>212258</td>\n",
       "      <td>213766</td>\n",
       "    </tr>\n",
       "  </tbody>\n",
       "</table>\n",
       "</div>"
      ],
      "text/plain": [
       "       country    1999    2000\n",
       "0  Afghanistan     745    2666\n",
       "1       Brazil   37737   80488\n",
       "2        China  212258  213766"
      ]
     },
     "metadata": {},
     "output_type": "display_data"
    },
    {
     "data": {
      "application/vnd.microsoft.datawrangler.viewer.v0+json": {
       "columns": [
        {
         "name": "index",
         "rawType": "int64",
         "type": "integer"
        },
        {
         "name": "country",
         "rawType": "object",
         "type": "string"
        },
        {
         "name": "1999",
         "rawType": "int64",
         "type": "integer"
        },
        {
         "name": "2000",
         "rawType": "int64",
         "type": "integer"
        }
       ],
       "ref": "98cd4532-d635-41ea-8980-44c64954ed29",
       "rows": [
        [
         "0",
         "Afghanistan",
         "19987071",
         "20595360"
        ],
        [
         "1",
         "Brazil",
         "172006362",
         "174504898"
        ],
        [
         "2",
         "China",
         "1272915272",
         "1280428583"
        ]
       ],
       "shape": {
        "columns": 3,
        "rows": 3
       }
      },
      "text/html": [
       "<div>\n",
       "<style scoped>\n",
       "    .dataframe tbody tr th:only-of-type {\n",
       "        vertical-align: middle;\n",
       "    }\n",
       "\n",
       "    .dataframe tbody tr th {\n",
       "        vertical-align: top;\n",
       "    }\n",
       "\n",
       "    .dataframe thead th {\n",
       "        text-align: right;\n",
       "    }\n",
       "</style>\n",
       "<table border=\"1\" class=\"dataframe\">\n",
       "  <thead>\n",
       "    <tr style=\"text-align: right;\">\n",
       "      <th></th>\n",
       "      <th>country</th>\n",
       "      <th>1999</th>\n",
       "      <th>2000</th>\n",
       "    </tr>\n",
       "  </thead>\n",
       "  <tbody>\n",
       "    <tr>\n",
       "      <th>0</th>\n",
       "      <td>Afghanistan</td>\n",
       "      <td>19987071</td>\n",
       "      <td>20595360</td>\n",
       "    </tr>\n",
       "    <tr>\n",
       "      <th>1</th>\n",
       "      <td>Brazil</td>\n",
       "      <td>172006362</td>\n",
       "      <td>174504898</td>\n",
       "    </tr>\n",
       "    <tr>\n",
       "      <th>2</th>\n",
       "      <td>China</td>\n",
       "      <td>1272915272</td>\n",
       "      <td>1280428583</td>\n",
       "    </tr>\n",
       "  </tbody>\n",
       "</table>\n",
       "</div>"
      ],
      "text/plain": [
       "       country        1999        2000\n",
       "0  Afghanistan    19987071    20595360\n",
       "1       Brazil   172006362   174504898\n",
       "2        China  1272915272  1280428583"
      ]
     },
     "metadata": {},
     "output_type": "display_data"
    }
   ],
   "source": [
    "\n",
    "display(table1)\n",
    "display(table2)\n",
    "display(table3)\n",
    "display(table4a)\n",
    "display(table4b)\n"
   ]
  },
  {
   "cell_type": "markdown",
   "id": "79ea209c",
   "metadata": {},
   "source": [
    "These are all representations of the same underlying data, but they are not equally easy to use. One dataset, the tidy dataset, will be much easier to work with.\n",
    "\n",
    "There are three interrelated rules which make a dataset tidy:\n",
    "\n",
    "**1. Each variable must have its own column.**\n",
    "\n",
    "**2. Each observation must have its own row.**\n",
    "\n",
    "**3. Each value must have its own cell.**\n",
    "\n",
    "![GitHub Codespaces](tidy_data.png)\n",
    "\n",
    "In this example, only table1 is tidy. It’s the only representation where each column is a variable.\n",
    "\n",
    "Why ensure that your data is tidy? There are two main advantages:\n",
    "\n",
    "1. There’s a general advantage to picking one consistent way of storing data. If you have a consistent data structure, it’s easier to learn the tools that work with it because they have an underlying uniformity.\n",
    "\n",
    "2. There’s a specific advantage to placing variables in columns because it allows `Pandas’` and `NumPy’s` vectorised nature to shine. As you learned in `assign` and `aggregate` functions, most built-in functions work with vectors of values. That makes transforming tidy data feel particularly natural.\n",
    "\n",
    "`Pandas` work well with tidy data. Here are a couple of small examples showing how you might work with table1.\n",
    "\n"
   ]
  },
  {
   "cell_type": "code",
   "execution_count": null,
   "id": "3a31e991",
   "metadata": {},
   "outputs": [],
   "source": [
    "# Compute rate per 10,000\n",
    "\n",
    "table1.assign()\n",
    "# using lambda\n",
    "table1.assign(lambdx:)"
   ]
  },
  {
   "cell_type": "code",
   "execution_count": null,
   "id": "1f85c87f",
   "metadata": {},
   "outputs": [],
   "source": [
    "\n"
   ]
  },
  {
   "cell_type": "code",
   "execution_count": null,
   "id": "5f85ba93",
   "metadata": {},
   "outputs": [],
   "source": []
  },
  {
   "cell_type": "markdown",
   "id": "ae983c47",
   "metadata": {},
   "source": [
    "### Pivoting\n",
    "\n",
    "Untidy data will suffer from one of two common problems:\n",
    "\n",
    "- One variable might be spread across multiple columns.\n",
    "\n",
    "- One observation might be scattered across multiple rows.\n",
    "\n",
    "Typically a dataset will only suffer from one of these problems; it’ll only suffer from both if you’re really unlucky! To fix these problems, you’ll need two functions in pandas: `melt()`, `pivot()`, and `pivot_table()`. There are two additional functions called `stack()` and `unstack()` that use multi-index columns and rows.\n",
    "\n",
    "**1. Pivoting longer `.melt()`** - Sometimes some of the column names are not names of variables, but values of a variable. To tidy a dataset like this, we need to stack the offending columns into a new pair of variables."
   ]
  },
  {
   "cell_type": "code",
   "execution_count": 5,
   "id": "e11baa03",
   "metadata": {},
   "outputs": [
    {
     "data": {
      "application/vnd.microsoft.datawrangler.viewer.v0+json": {
       "columns": [
        {
         "name": "index",
         "rawType": "int64",
         "type": "integer"
        },
        {
         "name": "country",
         "rawType": "object",
         "type": "string"
        },
        {
         "name": "1999",
         "rawType": "int64",
         "type": "integer"
        },
        {
         "name": "2000",
         "rawType": "int64",
         "type": "integer"
        }
       ],
       "ref": "2cd1bb89-508a-4db3-8037-933379c428cc",
       "rows": [
        [
         "0",
         "Afghanistan",
         "745",
         "2666"
        ],
        [
         "1",
         "Brazil",
         "37737",
         "80488"
        ],
        [
         "2",
         "China",
         "212258",
         "213766"
        ]
       ],
       "shape": {
        "columns": 3,
        "rows": 3
       }
      },
      "text/html": [
       "<div>\n",
       "<style scoped>\n",
       "    .dataframe tbody tr th:only-of-type {\n",
       "        vertical-align: middle;\n",
       "    }\n",
       "\n",
       "    .dataframe tbody tr th {\n",
       "        vertical-align: top;\n",
       "    }\n",
       "\n",
       "    .dataframe thead th {\n",
       "        text-align: right;\n",
       "    }\n",
       "</style>\n",
       "<table border=\"1\" class=\"dataframe\">\n",
       "  <thead>\n",
       "    <tr style=\"text-align: right;\">\n",
       "      <th></th>\n",
       "      <th>country</th>\n",
       "      <th>1999</th>\n",
       "      <th>2000</th>\n",
       "    </tr>\n",
       "  </thead>\n",
       "  <tbody>\n",
       "    <tr>\n",
       "      <th>0</th>\n",
       "      <td>Afghanistan</td>\n",
       "      <td>745</td>\n",
       "      <td>2666</td>\n",
       "    </tr>\n",
       "    <tr>\n",
       "      <th>1</th>\n",
       "      <td>Brazil</td>\n",
       "      <td>37737</td>\n",
       "      <td>80488</td>\n",
       "    </tr>\n",
       "    <tr>\n",
       "      <th>2</th>\n",
       "      <td>China</td>\n",
       "      <td>212258</td>\n",
       "      <td>213766</td>\n",
       "    </tr>\n",
       "  </tbody>\n",
       "</table>\n",
       "</div>"
      ],
      "text/plain": [
       "       country    1999    2000\n",
       "0  Afghanistan     745    2666\n",
       "1       Brazil   37737   80488\n",
       "2        China  212258  213766"
      ]
     },
     "execution_count": 5,
     "metadata": {},
     "output_type": "execute_result"
    }
   ],
   "source": [
    "table4a"
   ]
  },
  {
   "cell_type": "markdown",
   "id": "a9c59283",
   "metadata": {},
   "source": [
    "To tidy a dataset like this, we need to stack the offending columns into a new pair of variables. To describe that operation we need three parameters:\n",
    "\n",
    " - The set of columns whose names are identifier variables, not values. In this example, `country` is the identifier column and the value columns are `1999` and `2000`.\n",
    "\n",
    "- The name of the variable to move the column names to. Here it is `year`.\n",
    "\n",
    "- The name of the variable to move the column values to. Here it’s `cases`."
   ]
  },
  {
   "cell_type": "code",
   "execution_count": 8,
   "id": "1454eb1f",
   "metadata": {},
   "outputs": [
    {
     "data": {
      "application/vnd.microsoft.datawrangler.viewer.v0+json": {
       "columns": [
        {
         "name": "index",
         "rawType": "int64",
         "type": "integer"
        },
        {
         "name": "country",
         "rawType": "object",
         "type": "string"
        },
        {
         "name": "year",
         "rawType": "object",
         "type": "string"
        },
        {
         "name": "cases",
         "rawType": "int64",
         "type": "integer"
        }
       ],
       "ref": "b3c6658a-a5fa-4756-a73d-38d50d2a45c8",
       "rows": [
        [
         "0",
         "Afghanistan",
         "1999",
         "745"
        ],
        [
         "1",
         "Brazil",
         "1999",
         "37737"
        ],
        [
         "2",
         "China",
         "1999",
         "212258"
        ],
        [
         "3",
         "Afghanistan",
         "2000",
         "2666"
        ],
        [
         "4",
         "Brazil",
         "2000",
         "80488"
        ],
        [
         "5",
         "China",
         "2000",
         "213766"
        ]
       ],
       "shape": {
        "columns": 3,
        "rows": 6
       }
      },
      "text/html": [
       "<div>\n",
       "<style scoped>\n",
       "    .dataframe tbody tr th:only-of-type {\n",
       "        vertical-align: middle;\n",
       "    }\n",
       "\n",
       "    .dataframe tbody tr th {\n",
       "        vertical-align: top;\n",
       "    }\n",
       "\n",
       "    .dataframe thead th {\n",
       "        text-align: right;\n",
       "    }\n",
       "</style>\n",
       "<table border=\"1\" class=\"dataframe\">\n",
       "  <thead>\n",
       "    <tr style=\"text-align: right;\">\n",
       "      <th></th>\n",
       "      <th>country</th>\n",
       "      <th>year</th>\n",
       "      <th>cases</th>\n",
       "    </tr>\n",
       "  </thead>\n",
       "  <tbody>\n",
       "    <tr>\n",
       "      <th>0</th>\n",
       "      <td>Afghanistan</td>\n",
       "      <td>1999</td>\n",
       "      <td>745</td>\n",
       "    </tr>\n",
       "    <tr>\n",
       "      <th>1</th>\n",
       "      <td>Brazil</td>\n",
       "      <td>1999</td>\n",
       "      <td>37737</td>\n",
       "    </tr>\n",
       "    <tr>\n",
       "      <th>2</th>\n",
       "      <td>China</td>\n",
       "      <td>1999</td>\n",
       "      <td>212258</td>\n",
       "    </tr>\n",
       "    <tr>\n",
       "      <th>3</th>\n",
       "      <td>Afghanistan</td>\n",
       "      <td>2000</td>\n",
       "      <td>2666</td>\n",
       "    </tr>\n",
       "    <tr>\n",
       "      <th>4</th>\n",
       "      <td>Brazil</td>\n",
       "      <td>2000</td>\n",
       "      <td>80488</td>\n",
       "    </tr>\n",
       "    <tr>\n",
       "      <th>5</th>\n",
       "      <td>China</td>\n",
       "      <td>2000</td>\n",
       "      <td>213766</td>\n",
       "    </tr>\n",
       "  </tbody>\n",
       "</table>\n",
       "</div>"
      ],
      "text/plain": [
       "       country  year   cases\n",
       "0  Afghanistan  1999     745\n",
       "1       Brazil  1999   37737\n",
       "2        China  1999  212258\n",
       "3  Afghanistan  2000    2666\n",
       "4       Brazil  2000   80488\n",
       "5        China  2000  213766"
      ]
     },
     "execution_count": 8,
     "metadata": {},
     "output_type": "execute_result"
    }
   ],
   "source": [
    "table4a.melt([\"country\"],var_name=\"year\",value_name=\"cases\")"
   ]
  },
  {
   "cell_type": "markdown",
   "id": "245ab339",
   "metadata": {},
   "source": [
    "#### Exercise\n",
    "\n",
    "Use `.melt()` to tidy table4b in a similar fashion. "
   ]
  },
  {
   "cell_type": "code",
   "execution_count": null,
   "id": "d352d3ca",
   "metadata": {},
   "outputs": [],
   "source": []
  },
  {
   "cell_type": "markdown",
   "id": "14ae6a2e",
   "metadata": {},
   "source": [
    "**2. Pivoting wider `.pivot()`** - is the opposite of `melt()`. You use it when an observation is scattered across multiple rows. For example, take table2"
   ]
  },
  {
   "cell_type": "code",
   "execution_count": 6,
   "id": "c70ec4d4",
   "metadata": {},
   "outputs": [
    {
     "data": {
      "application/vnd.microsoft.datawrangler.viewer.v0+json": {
       "columns": [
        {
         "name": "index",
         "rawType": "int64",
         "type": "integer"
        },
        {
         "name": "country",
         "rawType": "object",
         "type": "string"
        },
        {
         "name": "year",
         "rawType": "int64",
         "type": "integer"
        },
        {
         "name": "type",
         "rawType": "object",
         "type": "string"
        },
        {
         "name": "count",
         "rawType": "int64",
         "type": "integer"
        }
       ],
       "ref": "0dc4f957-edc3-4e0d-9f21-6f5463e1c7eb",
       "rows": [
        [
         "0",
         "Afghanistan",
         "1999",
         "cases",
         "745"
        ],
        [
         "1",
         "Afghanistan",
         "1999",
         "population",
         "19987071"
        ],
        [
         "2",
         "Afghanistan",
         "2000",
         "cases",
         "2666"
        ],
        [
         "3",
         "Afghanistan",
         "2000",
         "population",
         "20595360"
        ],
        [
         "4",
         "Brazil",
         "1999",
         "cases",
         "37737"
        ],
        [
         "5",
         "Brazil",
         "1999",
         "population",
         "172006362"
        ],
        [
         "6",
         "Brazil",
         "2000",
         "cases",
         "80488"
        ],
        [
         "7",
         "Brazil",
         "2000",
         "population",
         "174504898"
        ],
        [
         "8",
         "China",
         "1999",
         "cases",
         "212258"
        ],
        [
         "9",
         "China",
         "1999",
         "population",
         "1272915272"
        ],
        [
         "10",
         "China",
         "2000",
         "cases",
         "213766"
        ],
        [
         "11",
         "China",
         "2000",
         "population",
         "1280428583"
        ]
       ],
       "shape": {
        "columns": 4,
        "rows": 12
       }
      },
      "text/html": [
       "<div>\n",
       "<style scoped>\n",
       "    .dataframe tbody tr th:only-of-type {\n",
       "        vertical-align: middle;\n",
       "    }\n",
       "\n",
       "    .dataframe tbody tr th {\n",
       "        vertical-align: top;\n",
       "    }\n",
       "\n",
       "    .dataframe thead th {\n",
       "        text-align: right;\n",
       "    }\n",
       "</style>\n",
       "<table border=\"1\" class=\"dataframe\">\n",
       "  <thead>\n",
       "    <tr style=\"text-align: right;\">\n",
       "      <th></th>\n",
       "      <th>country</th>\n",
       "      <th>year</th>\n",
       "      <th>type</th>\n",
       "      <th>count</th>\n",
       "    </tr>\n",
       "  </thead>\n",
       "  <tbody>\n",
       "    <tr>\n",
       "      <th>0</th>\n",
       "      <td>Afghanistan</td>\n",
       "      <td>1999</td>\n",
       "      <td>cases</td>\n",
       "      <td>745</td>\n",
       "    </tr>\n",
       "    <tr>\n",
       "      <th>1</th>\n",
       "      <td>Afghanistan</td>\n",
       "      <td>1999</td>\n",
       "      <td>population</td>\n",
       "      <td>19987071</td>\n",
       "    </tr>\n",
       "    <tr>\n",
       "      <th>2</th>\n",
       "      <td>Afghanistan</td>\n",
       "      <td>2000</td>\n",
       "      <td>cases</td>\n",
       "      <td>2666</td>\n",
       "    </tr>\n",
       "    <tr>\n",
       "      <th>3</th>\n",
       "      <td>Afghanistan</td>\n",
       "      <td>2000</td>\n",
       "      <td>population</td>\n",
       "      <td>20595360</td>\n",
       "    </tr>\n",
       "    <tr>\n",
       "      <th>4</th>\n",
       "      <td>Brazil</td>\n",
       "      <td>1999</td>\n",
       "      <td>cases</td>\n",
       "      <td>37737</td>\n",
       "    </tr>\n",
       "    <tr>\n",
       "      <th>5</th>\n",
       "      <td>Brazil</td>\n",
       "      <td>1999</td>\n",
       "      <td>population</td>\n",
       "      <td>172006362</td>\n",
       "    </tr>\n",
       "    <tr>\n",
       "      <th>6</th>\n",
       "      <td>Brazil</td>\n",
       "      <td>2000</td>\n",
       "      <td>cases</td>\n",
       "      <td>80488</td>\n",
       "    </tr>\n",
       "    <tr>\n",
       "      <th>7</th>\n",
       "      <td>Brazil</td>\n",
       "      <td>2000</td>\n",
       "      <td>population</td>\n",
       "      <td>174504898</td>\n",
       "    </tr>\n",
       "    <tr>\n",
       "      <th>8</th>\n",
       "      <td>China</td>\n",
       "      <td>1999</td>\n",
       "      <td>cases</td>\n",
       "      <td>212258</td>\n",
       "    </tr>\n",
       "    <tr>\n",
       "      <th>9</th>\n",
       "      <td>China</td>\n",
       "      <td>1999</td>\n",
       "      <td>population</td>\n",
       "      <td>1272915272</td>\n",
       "    </tr>\n",
       "    <tr>\n",
       "      <th>10</th>\n",
       "      <td>China</td>\n",
       "      <td>2000</td>\n",
       "      <td>cases</td>\n",
       "      <td>213766</td>\n",
       "    </tr>\n",
       "    <tr>\n",
       "      <th>11</th>\n",
       "      <td>China</td>\n",
       "      <td>2000</td>\n",
       "      <td>population</td>\n",
       "      <td>1280428583</td>\n",
       "    </tr>\n",
       "  </tbody>\n",
       "</table>\n",
       "</div>"
      ],
      "text/plain": [
       "        country  year        type       count\n",
       "0   Afghanistan  1999       cases         745\n",
       "1   Afghanistan  1999  population    19987071\n",
       "2   Afghanistan  2000       cases        2666\n",
       "3   Afghanistan  2000  population    20595360\n",
       "4        Brazil  1999       cases       37737\n",
       "5        Brazil  1999  population   172006362\n",
       "6        Brazil  2000       cases       80488\n",
       "7        Brazil  2000  population   174504898\n",
       "8         China  1999       cases      212258\n",
       "9         China  1999  population  1272915272\n",
       "10        China  2000       cases      213766\n",
       "11        China  2000  population  1280428583"
      ]
     },
     "execution_count": 6,
     "metadata": {},
     "output_type": "execute_result"
    }
   ],
   "source": [
    "table2"
   ]
  },
  {
   "cell_type": "markdown",
   "id": "9f5d4459",
   "metadata": {},
   "source": [
    "To tidy this up, we first analyse the representation in similar way to `melt()`. This time, however, we only need two parameters:\n",
    "\n",
    "The column to take variable names from. Here, it’s `type`.\n",
    "\n",
    "The column to take values from. Here it’s `count`.\n",
    "\n",
    "Depending on the index, we will need to use either `pivot()` or `pivot_table()`."
   ]
  },
  {
   "cell_type": "code",
   "execution_count": 12,
   "id": "039b2865",
   "metadata": {},
   "outputs": [
    {
     "data": {
      "application/vnd.microsoft.datawrangler.viewer.v0+json": {
       "columns": [
        {
         "name": "index",
         "rawType": "int64",
         "type": "integer"
        },
        {
         "name": "country",
         "rawType": "object",
         "type": "string"
        },
        {
         "name": "year",
         "rawType": "int64",
         "type": "integer"
        },
        {
         "name": "cases",
         "rawType": "int64",
         "type": "integer"
        },
        {
         "name": "population",
         "rawType": "int64",
         "type": "integer"
        }
       ],
       "ref": "8e7cd28a-50d9-4cac-9618-7359a3af3dfe",
       "rows": [
        [
         "0",
         "Afghanistan",
         "1999",
         "745",
         "19987071"
        ],
        [
         "1",
         "Afghanistan",
         "2000",
         "2666",
         "20595360"
        ],
        [
         "2",
         "Brazil",
         "1999",
         "37737",
         "172006362"
        ],
        [
         "3",
         "Brazil",
         "2000",
         "80488",
         "174504898"
        ],
        [
         "4",
         "China",
         "1999",
         "212258",
         "1272915272"
        ],
        [
         "5",
         "China",
         "2000",
         "213766",
         "1280428583"
        ]
       ],
       "shape": {
        "columns": 4,
        "rows": 6
       }
      },
      "text/html": [
       "<div>\n",
       "<style scoped>\n",
       "    .dataframe tbody tr th:only-of-type {\n",
       "        vertical-align: middle;\n",
       "    }\n",
       "\n",
       "    .dataframe tbody tr th {\n",
       "        vertical-align: top;\n",
       "    }\n",
       "\n",
       "    .dataframe thead th {\n",
       "        text-align: right;\n",
       "    }\n",
       "</style>\n",
       "<table border=\"1\" class=\"dataframe\">\n",
       "  <thead>\n",
       "    <tr style=\"text-align: right;\">\n",
       "      <th>type</th>\n",
       "      <th>country</th>\n",
       "      <th>year</th>\n",
       "      <th>cases</th>\n",
       "      <th>population</th>\n",
       "    </tr>\n",
       "  </thead>\n",
       "  <tbody>\n",
       "    <tr>\n",
       "      <th>0</th>\n",
       "      <td>Afghanistan</td>\n",
       "      <td>1999</td>\n",
       "      <td>745</td>\n",
       "      <td>19987071</td>\n",
       "    </tr>\n",
       "    <tr>\n",
       "      <th>1</th>\n",
       "      <td>Afghanistan</td>\n",
       "      <td>2000</td>\n",
       "      <td>2666</td>\n",
       "      <td>20595360</td>\n",
       "    </tr>\n",
       "    <tr>\n",
       "      <th>2</th>\n",
       "      <td>Brazil</td>\n",
       "      <td>1999</td>\n",
       "      <td>37737</td>\n",
       "      <td>172006362</td>\n",
       "    </tr>\n",
       "    <tr>\n",
       "      <th>3</th>\n",
       "      <td>Brazil</td>\n",
       "      <td>2000</td>\n",
       "      <td>80488</td>\n",
       "      <td>174504898</td>\n",
       "    </tr>\n",
       "    <tr>\n",
       "      <th>4</th>\n",
       "      <td>China</td>\n",
       "      <td>1999</td>\n",
       "      <td>212258</td>\n",
       "      <td>1272915272</td>\n",
       "    </tr>\n",
       "    <tr>\n",
       "      <th>5</th>\n",
       "      <td>China</td>\n",
       "      <td>2000</td>\n",
       "      <td>213766</td>\n",
       "      <td>1280428583</td>\n",
       "    </tr>\n",
       "  </tbody>\n",
       "</table>\n",
       "</div>"
      ],
      "text/plain": [
       "type      country  year   cases  population\n",
       "0     Afghanistan  1999     745    19987071\n",
       "1     Afghanistan  2000    2666    20595360\n",
       "2          Brazil  1999   37737   172006362\n",
       "3          Brazil  2000   80488   174504898\n",
       "4           China  1999  212258  1272915272\n",
       "5           China  2000  213766  1280428583"
      ]
     },
     "execution_count": 12,
     "metadata": {},
     "output_type": "execute_result"
    }
   ],
   "source": [
    "table2.pivot(\n",
    "    index=[\"country\",\"year\"],\n",
    "    columns=\"type\",\n",
    "    values=\"count\"\n",
    ").reset_index()"
   ]
  },
  {
   "cell_type": "markdown",
   "id": "2a2e7f36",
   "metadata": {},
   "source": [
    "Strict reshaping → requires that the combination of `index` + `columns` is unique.\n",
    "\n",
    "If duplicates exist (e.g., if table2 had two rows for Afghanistan–1999–cases), `.pivot()` will throw an error, as we saw.\n",
    "\n",
    "Let's create a dummy table and see what this looks like:"
   ]
  },
  {
   "cell_type": "code",
   "execution_count": 13,
   "id": "89f55853",
   "metadata": {},
   "outputs": [
    {
     "data": {
      "application/vnd.microsoft.datawrangler.viewer.v0+json": {
       "columns": [
        {
         "name": "index",
         "rawType": "int64",
         "type": "integer"
        },
        {
         "name": "country",
         "rawType": "object",
         "type": "string"
        },
        {
         "name": "year",
         "rawType": "int64",
         "type": "integer"
        },
        {
         "name": "type",
         "rawType": "object",
         "type": "string"
        },
        {
         "name": "count",
         "rawType": "int64",
         "type": "integer"
        }
       ],
       "ref": "f69bcfbd-f879-4075-81b1-2db22b11a351",
       "rows": [
        [
         "0",
         "Afghanistan",
         "1999",
         "cases",
         "745"
        ],
        [
         "1",
         "Afghanistan",
         "1999",
         "cases",
         "750"
        ],
        [
         "2",
         "Afghanistan",
         "1999",
         "population",
         "19987071"
        ],
        [
         "3",
         "Afghanistan",
         "1999",
         "population",
         "19987071"
        ],
        [
         "4",
         "Brazil",
         "1999",
         "cases",
         "37737"
        ],
        [
         "5",
         "Brazil",
         "1999",
         "population",
         "172006362"
        ]
       ],
       "shape": {
        "columns": 4,
        "rows": 6
       }
      },
      "text/html": [
       "<div>\n",
       "<style scoped>\n",
       "    .dataframe tbody tr th:only-of-type {\n",
       "        vertical-align: middle;\n",
       "    }\n",
       "\n",
       "    .dataframe tbody tr th {\n",
       "        vertical-align: top;\n",
       "    }\n",
       "\n",
       "    .dataframe thead th {\n",
       "        text-align: right;\n",
       "    }\n",
       "</style>\n",
       "<table border=\"1\" class=\"dataframe\">\n",
       "  <thead>\n",
       "    <tr style=\"text-align: right;\">\n",
       "      <th></th>\n",
       "      <th>country</th>\n",
       "      <th>year</th>\n",
       "      <th>type</th>\n",
       "      <th>count</th>\n",
       "    </tr>\n",
       "  </thead>\n",
       "  <tbody>\n",
       "    <tr>\n",
       "      <th>0</th>\n",
       "      <td>Afghanistan</td>\n",
       "      <td>1999</td>\n",
       "      <td>cases</td>\n",
       "      <td>745</td>\n",
       "    </tr>\n",
       "    <tr>\n",
       "      <th>1</th>\n",
       "      <td>Afghanistan</td>\n",
       "      <td>1999</td>\n",
       "      <td>cases</td>\n",
       "      <td>750</td>\n",
       "    </tr>\n",
       "    <tr>\n",
       "      <th>2</th>\n",
       "      <td>Afghanistan</td>\n",
       "      <td>1999</td>\n",
       "      <td>population</td>\n",
       "      <td>19987071</td>\n",
       "    </tr>\n",
       "    <tr>\n",
       "      <th>3</th>\n",
       "      <td>Afghanistan</td>\n",
       "      <td>1999</td>\n",
       "      <td>population</td>\n",
       "      <td>19987071</td>\n",
       "    </tr>\n",
       "    <tr>\n",
       "      <th>4</th>\n",
       "      <td>Brazil</td>\n",
       "      <td>1999</td>\n",
       "      <td>cases</td>\n",
       "      <td>37737</td>\n",
       "    </tr>\n",
       "    <tr>\n",
       "      <th>5</th>\n",
       "      <td>Brazil</td>\n",
       "      <td>1999</td>\n",
       "      <td>population</td>\n",
       "      <td>172006362</td>\n",
       "    </tr>\n",
       "  </tbody>\n",
       "</table>\n",
       "</div>"
      ],
      "text/plain": [
       "       country  year        type      count\n",
       "0  Afghanistan  1999       cases        745\n",
       "1  Afghanistan  1999       cases        750\n",
       "2  Afghanistan  1999  population   19987071\n",
       "3  Afghanistan  1999  population   19987071\n",
       "4       Brazil  1999       cases      37737\n",
       "5       Brazil  1999  population  172006362"
      ]
     },
     "execution_count": 13,
     "metadata": {},
     "output_type": "execute_result"
    }
   ],
   "source": [
    "data = {\n",
    "    \"country\": [\"Afghanistan\",\"Afghanistan\",\"Afghanistan\",\"Afghanistan\",\"Brazil\",\"Brazil\"],\n",
    "    \"year\":    [1999,1999,1999,1999,1999,1999],\n",
    "    \"type\":    [\"cases\",\"cases\",\"population\",\"population\",\"cases\",\"population\"],\n",
    "    \"count\":   [745,750,19987071,19987071,37737,172006362]\n",
    "}\n",
    "\n",
    "table2a_example = pd.DataFrame(data)\n",
    "table2a_example"
   ]
  },
  {
   "cell_type": "code",
   "execution_count": 15,
   "id": "dc512a53",
   "metadata": {},
   "outputs": [
    {
     "data": {
      "application/vnd.microsoft.datawrangler.viewer.v0+json": {
       "columns": [
        {
         "name": "index",
         "rawType": "int64",
         "type": "integer"
        },
        {
         "name": "country",
         "rawType": "object",
         "type": "string"
        },
        {
         "name": "year",
         "rawType": "int64",
         "type": "integer"
        },
        {
         "name": "cases",
         "rawType": "int64",
         "type": "integer"
        },
        {
         "name": "population",
         "rawType": "int64",
         "type": "integer"
        }
       ],
       "ref": "8cbf7b2c-9966-49bc-a279-67f0e2c99f1c",
       "rows": [
        [
         "0",
         "Afghanistan",
         "1999",
         "1495",
         "39974142"
        ],
        [
         "1",
         "Brazil",
         "1999",
         "37737",
         "172006362"
        ]
       ],
       "shape": {
        "columns": 4,
        "rows": 2
       }
      },
      "text/html": [
       "<div>\n",
       "<style scoped>\n",
       "    .dataframe tbody tr th:only-of-type {\n",
       "        vertical-align: middle;\n",
       "    }\n",
       "\n",
       "    .dataframe tbody tr th {\n",
       "        vertical-align: top;\n",
       "    }\n",
       "\n",
       "    .dataframe thead th {\n",
       "        text-align: right;\n",
       "    }\n",
       "</style>\n",
       "<table border=\"1\" class=\"dataframe\">\n",
       "  <thead>\n",
       "    <tr style=\"text-align: right;\">\n",
       "      <th>type</th>\n",
       "      <th>country</th>\n",
       "      <th>year</th>\n",
       "      <th>cases</th>\n",
       "      <th>population</th>\n",
       "    </tr>\n",
       "  </thead>\n",
       "  <tbody>\n",
       "    <tr>\n",
       "      <th>0</th>\n",
       "      <td>Afghanistan</td>\n",
       "      <td>1999</td>\n",
       "      <td>1495</td>\n",
       "      <td>39974142</td>\n",
       "    </tr>\n",
       "    <tr>\n",
       "      <th>1</th>\n",
       "      <td>Brazil</td>\n",
       "      <td>1999</td>\n",
       "      <td>37737</td>\n",
       "      <td>172006362</td>\n",
       "    </tr>\n",
       "  </tbody>\n",
       "</table>\n",
       "</div>"
      ],
      "text/plain": [
       "type      country  year  cases  population\n",
       "0     Afghanistan  1999   1495    39974142\n",
       "1          Brazil  1999  37737   172006362"
      ]
     },
     "execution_count": 15,
     "metadata": {},
     "output_type": "execute_result"
    }
   ],
   "source": [
    "table2a_example.pivot_table(\n",
    "    index=[\"country\",\"year\"],\n",
    "    columns=\"type\",\n",
    "    values=\"count\",\n",
    "    aggfunc=\"sum\"\n",
    ").reset_index()"
   ]
  },
  {
   "cell_type": "markdown",
   "id": "c64b8890",
   "metadata": {},
   "source": [
    "By default, the resultant values will be the average of the replicates, we can take care of this by explicitly stating what summary statistic we would like to see using `aggfunc=''`"
   ]
  },
  {
   "cell_type": "code",
   "execution_count": null,
   "id": "93d96f5e",
   "metadata": {},
   "outputs": [],
   "source": [
    "table2a_example.pivot_table()# column to take values from"
   ]
  },
  {
   "cell_type": "markdown",
   "id": "3f5e0fca",
   "metadata": {},
   "source": [
    "#### Split\n",
    "\n",
    "`str.split()` pulls apart one column into multiple columns, by splitting wherever a separator character appears. Take table3:"
   ]
  },
  {
   "cell_type": "code",
   "execution_count": 16,
   "id": "9a80a349",
   "metadata": {},
   "outputs": [
    {
     "data": {
      "application/vnd.microsoft.datawrangler.viewer.v0+json": {
       "columns": [
        {
         "name": "index",
         "rawType": "int64",
         "type": "integer"
        },
        {
         "name": "country",
         "rawType": "object",
         "type": "string"
        },
        {
         "name": "year",
         "rawType": "int64",
         "type": "integer"
        },
        {
         "name": "rate",
         "rawType": "object",
         "type": "string"
        }
       ],
       "ref": "4a1f5295-03ef-496c-9c4f-a1cffee0130b",
       "rows": [
        [
         "0",
         "Afghanistan",
         "1999",
         "745/19987071"
        ],
        [
         "1",
         "Afghanistan",
         "2000",
         "2666/20595360"
        ],
        [
         "2",
         "Brazil",
         "1999",
         "37737/172006362"
        ],
        [
         "3",
         "Brazil",
         "2000",
         "80488/174504898"
        ],
        [
         "4",
         "China",
         "1999",
         "212258/1272915272"
        ],
        [
         "5",
         "China",
         "2000",
         "213766/1280428583"
        ]
       ],
       "shape": {
        "columns": 3,
        "rows": 6
       }
      },
      "text/html": [
       "<div>\n",
       "<style scoped>\n",
       "    .dataframe tbody tr th:only-of-type {\n",
       "        vertical-align: middle;\n",
       "    }\n",
       "\n",
       "    .dataframe tbody tr th {\n",
       "        vertical-align: top;\n",
       "    }\n",
       "\n",
       "    .dataframe thead th {\n",
       "        text-align: right;\n",
       "    }\n",
       "</style>\n",
       "<table border=\"1\" class=\"dataframe\">\n",
       "  <thead>\n",
       "    <tr style=\"text-align: right;\">\n",
       "      <th></th>\n",
       "      <th>country</th>\n",
       "      <th>year</th>\n",
       "      <th>rate</th>\n",
       "    </tr>\n",
       "  </thead>\n",
       "  <tbody>\n",
       "    <tr>\n",
       "      <th>0</th>\n",
       "      <td>Afghanistan</td>\n",
       "      <td>1999</td>\n",
       "      <td>745/19987071</td>\n",
       "    </tr>\n",
       "    <tr>\n",
       "      <th>1</th>\n",
       "      <td>Afghanistan</td>\n",
       "      <td>2000</td>\n",
       "      <td>2666/20595360</td>\n",
       "    </tr>\n",
       "    <tr>\n",
       "      <th>2</th>\n",
       "      <td>Brazil</td>\n",
       "      <td>1999</td>\n",
       "      <td>37737/172006362</td>\n",
       "    </tr>\n",
       "    <tr>\n",
       "      <th>3</th>\n",
       "      <td>Brazil</td>\n",
       "      <td>2000</td>\n",
       "      <td>80488/174504898</td>\n",
       "    </tr>\n",
       "    <tr>\n",
       "      <th>4</th>\n",
       "      <td>China</td>\n",
       "      <td>1999</td>\n",
       "      <td>212258/1272915272</td>\n",
       "    </tr>\n",
       "    <tr>\n",
       "      <th>5</th>\n",
       "      <td>China</td>\n",
       "      <td>2000</td>\n",
       "      <td>213766/1280428583</td>\n",
       "    </tr>\n",
       "  </tbody>\n",
       "</table>\n",
       "</div>"
      ],
      "text/plain": [
       "       country  year               rate\n",
       "0  Afghanistan  1999       745/19987071\n",
       "1  Afghanistan  2000      2666/20595360\n",
       "2       Brazil  1999    37737/172006362\n",
       "3       Brazil  2000    80488/174504898\n",
       "4        China  1999  212258/1272915272\n",
       "5        China  2000  213766/1280428583"
      ]
     },
     "execution_count": 16,
     "metadata": {},
     "output_type": "execute_result"
    }
   ],
   "source": [
    "table3"
   ]
  },
  {
   "cell_type": "markdown",
   "id": "9e6afbce",
   "metadata": {},
   "source": [
    "The rate column contains both cases and population variables, and we need to split it into two variables. `str.split()` takes the name of the column to split. The names of the columns to separate into can be names using `rename()`."
   ]
  },
  {
   "cell_type": "code",
   "execution_count": 18,
   "id": "20ec9179",
   "metadata": {},
   "outputs": [
    {
     "data": {
      "application/vnd.microsoft.datawrangler.viewer.v0+json": {
       "columns": [
        {
         "name": "index",
         "rawType": "int64",
         "type": "integer"
        },
        {
         "name": "country",
         "rawType": "object",
         "type": "string"
        },
        {
         "name": "year",
         "rawType": "int64",
         "type": "integer"
        },
        {
         "name": "cases",
         "rawType": "float64",
         "type": "float"
        },
        {
         "name": "population",
         "rawType": "float64",
         "type": "float"
        }
       ],
       "ref": "ba719c69-6cec-4c6d-89d2-06fea1492849",
       "rows": [
        [
         "0",
         "Afghanistan",
         "1999",
         "745.0",
         "19987071.0"
        ],
        [
         "1",
         "Afghanistan",
         "2000",
         "2666.0",
         "20595360.0"
        ],
        [
         "2",
         "Brazil",
         "1999",
         "37737.0",
         "172006362.0"
        ],
        [
         "3",
         "Brazil",
         "2000",
         "80488.0",
         "174504898.0"
        ],
        [
         "4",
         "China",
         "1999",
         "212258.0",
         "1272915272.0"
        ],
        [
         "5",
         "China",
         "2000",
         "213766.0",
         "1280428583.0"
        ]
       ],
       "shape": {
        "columns": 4,
        "rows": 6
       }
      },
      "text/html": [
       "<div>\n",
       "<style scoped>\n",
       "    .dataframe tbody tr th:only-of-type {\n",
       "        vertical-align: middle;\n",
       "    }\n",
       "\n",
       "    .dataframe tbody tr th {\n",
       "        vertical-align: top;\n",
       "    }\n",
       "\n",
       "    .dataframe thead th {\n",
       "        text-align: right;\n",
       "    }\n",
       "</style>\n",
       "<table border=\"1\" class=\"dataframe\">\n",
       "  <thead>\n",
       "    <tr style=\"text-align: right;\">\n",
       "      <th></th>\n",
       "      <th>country</th>\n",
       "      <th>year</th>\n",
       "      <th>cases</th>\n",
       "      <th>population</th>\n",
       "    </tr>\n",
       "  </thead>\n",
       "  <tbody>\n",
       "    <tr>\n",
       "      <th>0</th>\n",
       "      <td>Afghanistan</td>\n",
       "      <td>1999</td>\n",
       "      <td>745.0</td>\n",
       "      <td>1.998707e+07</td>\n",
       "    </tr>\n",
       "    <tr>\n",
       "      <th>1</th>\n",
       "      <td>Afghanistan</td>\n",
       "      <td>2000</td>\n",
       "      <td>2666.0</td>\n",
       "      <td>2.059536e+07</td>\n",
       "    </tr>\n",
       "    <tr>\n",
       "      <th>2</th>\n",
       "      <td>Brazil</td>\n",
       "      <td>1999</td>\n",
       "      <td>37737.0</td>\n",
       "      <td>1.720064e+08</td>\n",
       "    </tr>\n",
       "    <tr>\n",
       "      <th>3</th>\n",
       "      <td>Brazil</td>\n",
       "      <td>2000</td>\n",
       "      <td>80488.0</td>\n",
       "      <td>1.745049e+08</td>\n",
       "    </tr>\n",
       "    <tr>\n",
       "      <th>4</th>\n",
       "      <td>China</td>\n",
       "      <td>1999</td>\n",
       "      <td>212258.0</td>\n",
       "      <td>1.272915e+09</td>\n",
       "    </tr>\n",
       "    <tr>\n",
       "      <th>5</th>\n",
       "      <td>China</td>\n",
       "      <td>2000</td>\n",
       "      <td>213766.0</td>\n",
       "      <td>1.280429e+09</td>\n",
       "    </tr>\n",
       "  </tbody>\n",
       "</table>\n",
       "</div>"
      ],
      "text/plain": [
       "       country  year     cases    population\n",
       "0  Afghanistan  1999     745.0  1.998707e+07\n",
       "1  Afghanistan  2000    2666.0  2.059536e+07\n",
       "2       Brazil  1999   37737.0  1.720064e+08\n",
       "3       Brazil  2000   80488.0  1.745049e+08\n",
       "4        China  1999  212258.0  1.272915e+09\n",
       "5        China  2000  213766.0  1.280429e+09"
      ]
     },
     "execution_count": 18,
     "metadata": {},
     "output_type": "execute_result"
    }
   ],
   "source": [
    "new_columns = (table3.rate.str.split(\"/\",expand=True).\n",
    "               rename(columns={0:\"cases\",1:\"population\"}))\n",
    "new_columns\n",
    "pd.concat([table3.drop(columns = 'rate'), new_columns.astype('float')], axis = 1) # axis =1 means concatenate columns"
   ]
  },
  {
   "cell_type": "markdown",
   "id": "2d478cc2",
   "metadata": {},
   "source": [
    "#### Unite\n",
    "\n",
    "For two string series the inverse of `str.split()` can be done with `+`: it combines multiple columns into a single column. "
   ]
  },
  {
   "cell_type": "code",
   "execution_count": 19,
   "id": "92b794d0",
   "metadata": {},
   "outputs": [
    {
     "data": {
      "application/vnd.microsoft.datawrangler.viewer.v0+json": {
       "columns": [
        {
         "name": "index",
         "rawType": "int64",
         "type": "integer"
        },
        {
         "name": "country",
         "rawType": "object",
         "type": "string"
        },
        {
         "name": "century",
         "rawType": "object",
         "type": "string"
        },
        {
         "name": "year",
         "rawType": "object",
         "type": "string"
        },
        {
         "name": "rate",
         "rawType": "object",
         "type": "string"
        },
        {
         "name": "new",
         "rawType": "object",
         "type": "string"
        }
       ],
       "ref": "1343b53c-54ef-4d48-bd39-f19a94623572",
       "rows": [
        [
         "0",
         "Afghanistan",
         "19",
         "99",
         "745/19987071",
         "Afghanistan99"
        ],
        [
         "1",
         "Afghanistan",
         "20",
         "00",
         "2666/20595360",
         "Afghanistan00"
        ],
        [
         "2",
         "Brazil",
         "19",
         "99",
         "37737/172006362",
         "Brazil99"
        ],
        [
         "3",
         "Brazil",
         "20",
         "00",
         "80488/174504898",
         "Brazil00"
        ],
        [
         "4",
         "China",
         "19",
         "99",
         "212258/1272915272",
         "China99"
        ],
        [
         "5",
         "China",
         "20",
         "00",
         "213766/1280428583",
         "China00"
        ]
       ],
       "shape": {
        "columns": 5,
        "rows": 6
       }
      },
      "text/html": [
       "<div>\n",
       "<style scoped>\n",
       "    .dataframe tbody tr th:only-of-type {\n",
       "        vertical-align: middle;\n",
       "    }\n",
       "\n",
       "    .dataframe tbody tr th {\n",
       "        vertical-align: top;\n",
       "    }\n",
       "\n",
       "    .dataframe thead th {\n",
       "        text-align: right;\n",
       "    }\n",
       "</style>\n",
       "<table border=\"1\" class=\"dataframe\">\n",
       "  <thead>\n",
       "    <tr style=\"text-align: right;\">\n",
       "      <th></th>\n",
       "      <th>country</th>\n",
       "      <th>century</th>\n",
       "      <th>year</th>\n",
       "      <th>rate</th>\n",
       "      <th>new</th>\n",
       "    </tr>\n",
       "  </thead>\n",
       "  <tbody>\n",
       "    <tr>\n",
       "      <th>0</th>\n",
       "      <td>Afghanistan</td>\n",
       "      <td>19</td>\n",
       "      <td>99</td>\n",
       "      <td>745/19987071</td>\n",
       "      <td>Afghanistan99</td>\n",
       "    </tr>\n",
       "    <tr>\n",
       "      <th>1</th>\n",
       "      <td>Afghanistan</td>\n",
       "      <td>20</td>\n",
       "      <td>00</td>\n",
       "      <td>2666/20595360</td>\n",
       "      <td>Afghanistan00</td>\n",
       "    </tr>\n",
       "    <tr>\n",
       "      <th>2</th>\n",
       "      <td>Brazil</td>\n",
       "      <td>19</td>\n",
       "      <td>99</td>\n",
       "      <td>37737/172006362</td>\n",
       "      <td>Brazil99</td>\n",
       "    </tr>\n",
       "    <tr>\n",
       "      <th>3</th>\n",
       "      <td>Brazil</td>\n",
       "      <td>20</td>\n",
       "      <td>00</td>\n",
       "      <td>80488/174504898</td>\n",
       "      <td>Brazil00</td>\n",
       "    </tr>\n",
       "    <tr>\n",
       "      <th>4</th>\n",
       "      <td>China</td>\n",
       "      <td>19</td>\n",
       "      <td>99</td>\n",
       "      <td>212258/1272915272</td>\n",
       "      <td>China99</td>\n",
       "    </tr>\n",
       "    <tr>\n",
       "      <th>5</th>\n",
       "      <td>China</td>\n",
       "      <td>20</td>\n",
       "      <td>00</td>\n",
       "      <td>213766/1280428583</td>\n",
       "      <td>China00</td>\n",
       "    </tr>\n",
       "  </tbody>\n",
       "</table>\n",
       "</div>"
      ],
      "text/plain": [
       "       country century year               rate            new\n",
       "0  Afghanistan      19   99       745/19987071  Afghanistan99\n",
       "1  Afghanistan      20   00      2666/20595360  Afghanistan00\n",
       "2       Brazil      19   99    37737/172006362       Brazil99\n",
       "3       Brazil      20   00    80488/174504898       Brazil00\n",
       "4        China      19   99  212258/1272915272        China99\n",
       "5        China      20   00  213766/1280428583        China00"
      ]
     },
     "execution_count": 19,
     "metadata": {},
     "output_type": "execute_result"
    }
   ],
   "source": [
    "table5['new'] = table5[\"country\"]+table5[\"year\"]\n",
    "table5"
   ]
  },
  {
   "cell_type": "code",
   "execution_count": null,
   "id": "1b972ab5",
   "metadata": {},
   "outputs": [],
   "source": [
    "table5.assign()\n",
    "table5"
   ]
  },
  {
   "cell_type": "markdown",
   "id": "97c432d8",
   "metadata": {},
   "source": [
    "#### Exercise 1: From Long to Wide\n",
    "\n",
    "Task: \n",
    "\n",
    "`ukbabynames` contains a listing of UK baby names occurring more than three times per year\n",
    "between 1974 and 2020\n",
    "\n",
    "The dataset contains columns like `year`, `sex`, `name`, and `n`.\n",
    "\n",
    "Use `.pivot()` or `.pivot_table()` **(recall the unique index!)** to find the total number of babies born by sex in each year.\n",
    "\n",
    "Rows should be years, columns should be sex (M / F), and values should be the sum of counts.\n",
    "\n",
    "**Challenge - calculate the percent of babies who are female using your now tidy dataset**"
   ]
  },
  {
   "cell_type": "code",
   "execution_count": null,
   "id": "205b7789",
   "metadata": {},
   "outputs": [],
   "source": [
    "# Import the dataset as gapminder using pd.read_csv()\n",
    "babynames = pd.read_csv('../Data/ukbabynames.csv')\n",
    "babynames\n",
    "# babynames.info()"
   ]
  },
  {
   "cell_type": "code",
   "execution_count": null,
   "id": "e265869f",
   "metadata": {},
   "outputs": [],
   "source": [
    "babies_by_sex = \n",
    "\n",
    "babies_by_sex\n",
    "\n",
    "# This is now a tidy long dataframe, I could apply Pythons vectorised nature and easily calculate percent female babies\n"
   ]
  },
  {
   "cell_type": "markdown",
   "id": "f8b02eba",
   "metadata": {},
   "source": [
    "#### Exercise 2: From Wide to Long\n",
    "\n",
    "WHO Tuberculosis Data\n",
    "\n",
    "This dataset comes from the World Health Organization (WHO) and records the number of **tuberculosis (TB) cases** reported by different countries, broken down by sex and age group.\n",
    "\n",
    "- **country, iso2, iso3**: identifiers for each country (name and ISO codes).\n",
    "- **year**: the year of observation.\n",
    "- **new_sp_m014, new_sp_m1524, …**: the number of new TB cases, where the code describes the **type of case**, the **sex**, and the **age group**.\n",
    "  - Example: `new_sp_m014` = new cases, sputum positive (`sp`), male (`m`), ages 0–14 (`014`).\n"
   ]
  },
  {
   "cell_type": "code",
   "execution_count": null,
   "id": "42dc4f3d",
   "metadata": {},
   "outputs": [],
   "source": [
    "# Import the dataset as gapminder using pd.read_csv()\n",
    "who = pd.read_csv('../Data/who.csv')\n",
    "who\n",
    "who.info()"
   ]
  },
  {
   "cell_type": "markdown",
   "id": "238abfd0",
   "metadata": {},
   "source": [
    "#### Exercise: Reshape WHO Tuberculosis Data\n",
    "\n",
    "The WHO dataset contains TB cases reported by country and year. Each combination of **type**, **sex**, and **age group** is stored as a separate column (`new_sp_m014`, `new_sp_f1524`, etc.), which makes the dataset **wide**.\n",
    "\n",
    "Your task:  \n",
    "1. Use `pd.melt()` to convert columns 5 through 60 into **two new columns**:  \n",
    "   - `tb_codes` → the original variable name (e.g., `new_sp_m014`).  \n",
    "   - `n` → the number of TB cases.  "
   ]
  },
  {
   "cell_type": "code",
   "execution_count": null,
   "id": "c6892984",
   "metadata": {},
   "outputs": [],
   "source": [
    "# 2) Melt columns 5:60 into key-value pairs\n",
    "who_long = who.melt()\n",
    "who_long"
   ]
  },
  {
   "cell_type": "markdown",
   "id": "236825bb",
   "metadata": {},
   "source": [
    "2. Clean the new tidy dataframe so it does not have missing `missing values` in the `n` column."
   ]
  },
  {
   "cell_type": "code",
   "execution_count": null,
   "id": "c5cca722",
   "metadata": {},
   "outputs": [],
   "source": [
    "# Drop missing values\n",
    "\n",
    "\n",
    "# display the df\n"
   ]
  },
  {
   "cell_type": "markdown",
   "id": "1873c79b",
   "metadata": {},
   "source": [
    "### All Done!"
   ]
  }
 ],
 "metadata": {
  "kernelspec": {
   "display_name": "Python 3",
   "language": "python",
   "name": "python3"
  },
  "language_info": {
   "codemirror_mode": {
    "name": "ipython",
    "version": 3
   },
   "file_extension": ".py",
   "mimetype": "text/x-python",
   "name": "python",
   "nbconvert_exporter": "python",
   "pygments_lexer": "ipython3",
   "version": "3.12.1"
  }
 },
 "nbformat": 4,
 "nbformat_minor": 5
}
