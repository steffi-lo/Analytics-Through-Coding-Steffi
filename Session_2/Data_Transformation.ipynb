{
 "cells": [
  {
   "cell_type": "markdown",
   "id": "2bb251bb",
   "metadata": {},
   "source": [
    "### Data Transformation\n",
    "\n",
    "Visualization is an important tool for insight generation, but it is rare that you get the data in exactly the right form you need. You will often need to create some new variables or summaries, rename variables, or reorder observations for the data to be easier to manage.\n",
    "\n",
    "To explore data manipulation verbs of pandas, we’ll use flights. This data frame contains all 336,776 flights that departed from New York City in 2013. The data comes from the US Bureau of Transportation Statistics.\n",
    "\n",
    "**As always, import the necessary libraries now and the dataset you will need at the start of your notebook**"
   ]
  },
  {
   "cell_type": "code",
   "execution_count": null,
   "id": "518f7d1c",
   "metadata": {},
   "outputs": [],
   "source": [
    "import pandas as pd\n",
    "import numpy as np\n",
    "\n",
    "flights = pd.read_csv(\"../Data/nycflights13_flights.csv\", index_col=0)\n",
    "flights.reset_index(drop=True, inplace=True) # reset index to default integer index\n",
    "flights.head()\n",
    "# flights.info()"
   ]
  },
  {
   "cell_type": "markdown",
   "id": "68b79361",
   "metadata": {},
   "source": [
    "We are going to learn five key pandas functions or object methods. Object methods are things the objects can perform. For example, pandas data frames know how to tell you their shape, the pandas object knows how to concatenate two data frames together. The way we tell an object we want it to do something is with the ‘dot operator’. We will refer to these object operators as functions or methods. Below are the five methods that allow you to solve the vast majority of your data manipulation challenges:\n",
    "\n",
    "| Python pandas function | What it does |\n",
    "|-------------------------|--------------|\n",
    "| `query()`              | Pick observations (rows) by their values |\n",
    "| `sort_values()`        | Reorder the rows based on one or more columns |\n",
    "| `filter()` or `loc[]`  | Pick variables (columns) by their names |\n",
    "| `rename()`             | Rename columns or index labels |\n",
    "| `assign()`             | Create new variables (columns) using functions of existing variables |\n",
    "| `groupby()`            | Split data into groups based on values of one or more keys |\n",
    "| `agg()`                | Collapse many values down to a single summary (e.g., mean, sum, count) |\n",
    "\n",
    "To use filtering effectively, you have to know how to select the observations that you want using the comparison operators. Python provides the standard suite: `>`, `>=`, `<`, `<=`, `!=` (not equal), and `==` (equal)."
   ]
  },
  {
   "cell_type": "markdown",
   "id": "e05d1a60",
   "metadata": {},
   "source": [
    "**Filter rows with `.query()`**\n",
    "\n",
    "`.query()` allows you to subset observations based on their values. The function takes 2 arguments, the first argument specifies the rows to be selected. This argument can be label names or a boolean series. The second argument specifies the columns to be selected. For example we can select all fligths for August 16th:"
   ]
  },
  {
   "cell_type": "code",
   "execution_count": null,
   "id": "48153b0d",
   "metadata": {},
   "outputs": [],
   "source": []
  },
  {
   "cell_type": "markdown",
   "id": "d18ef47a",
   "metadata": {},
   "source": [
    "Multiple arguments to `.query()` are combined with `“and”`: every expression must be true in order for a row to be included in the output. For some operations you may need other Boolean operations - `&` is “and”, `|` is “or”, and `!` is “not”\n",
    "\n",
    "![GitHub Codespaces](Boolean_operators.png)"
   ]
  },
  {
   "cell_type": "markdown",
   "id": "0638b290",
   "metadata": {},
   "source": [
    "The following code finds all flights that departed in August or September:"
   ]
  },
  {
   "cell_type": "code",
   "execution_count": null,
   "id": "88730595",
   "metadata": {},
   "outputs": [],
   "source": []
  },
  {
   "cell_type": "markdown",
   "id": "bcee1893",
   "metadata": {},
   "source": [
    "**Arrange or sort rows with `.sort_values()`**\n",
    "\n",
    "Works similarly to `.query()` except that instead of selecting rows, it changes their order. "
   ]
  },
  {
   "cell_type": "code",
   "execution_count": null,
   "id": "caf9d0ad",
   "metadata": {},
   "outputs": [],
   "source": []
  },
  {
   "cell_type": "markdown",
   "id": "a5eadcbc",
   "metadata": {},
   "source": [
    "If you provide more than one column name, each additional column will be used to break ties in the values of preceding columns"
   ]
  },
  {
   "cell_type": "markdown",
   "id": "ea721cee",
   "metadata": {},
   "source": [
    "**Select columns with `filter()` or `loc[]`**\n",
    "\n",
    "It’s not uncommon to get datasets with hundreds or even thousands of variables. In this case, the first challenge is often narrowing in on the variables you’re actually interested in."
   ]
  },
  {
   "cell_type": "code",
   "execution_count": null,
   "id": "b9b07dba",
   "metadata": {},
   "outputs": [],
   "source": []
  },
  {
   "cell_type": "markdown",
   "id": "ae47eb06",
   "metadata": {},
   "source": [
    "Use `.rename()` to rename a column or multiple columns."
   ]
  },
  {
   "cell_type": "code",
   "execution_count": null,
   "id": "aef0f132",
   "metadata": {},
   "outputs": [],
   "source": []
  },
  {
   "cell_type": "markdown",
   "id": "12e92dbf",
   "metadata": {},
   "source": [
    "**Add new variables with `.assign()`**\n",
    "Besides selecting sets of existing columns, it’s often useful to add new columns that are functions of existing columns. \n",
    "`.assign()` always adds new columns at the end of your dataset."
   ]
  },
  {
   "cell_type": "code",
   "execution_count": null,
   "id": "ddfbc2f2",
   "metadata": {},
   "outputs": [],
   "source": []
  },
  {
   "cell_type": "markdown",
   "id": "1207d96c",
   "metadata": {},
   "source": [
    "**Grouped summaries or aggregations with `.agg()`**\n",
    "\n",
    "The last key verb is `.agg()`. It collapses a data frame to a single row:"
   ]
  },
  {
   "cell_type": "code",
   "execution_count": null,
   "id": "e224e580",
   "metadata": {},
   "outputs": [],
   "source": []
  },
  {
   "cell_type": "markdown",
   "id": "be91e7a4",
   "metadata": {},
   "source": [
    "`.agg()` is not terribly useful unless we pair it with `.groupby()`. This changes the unit of analysis from the complete dataset to individual groups."
   ]
  },
  {
   "cell_type": "code",
   "execution_count": null,
   "id": "9e244afc",
   "metadata": {},
   "outputs": [],
   "source": []
  },
  {
   "cell_type": "markdown",
   "id": "c9edbeb3",
   "metadata": {},
   "source": [
    "**Combining Multiple Operations**\n",
    "\n",
    "Imagine you wanted to find out how flight delays vary by destination airport. You also want to see how many flights go to each destination, what the average distance is, and the average arrival delay. However, you don’t want destinations with very few flights or very long flights to distort the results. With longer oprations it is always more efficient to assing in to a variable using `=`."
   ]
  },
  {
   "cell_type": "code",
   "execution_count": null,
   "id": "c5ad0245",
   "metadata": {},
   "outputs": [],
   "source": []
  },
  {
   "cell_type": "markdown",
   "id": "b8cc1735",
   "metadata": {},
   "source": [
    "#### Exercise - Average speed by destination\n",
    "\n",
    "Imagine you wanted to know how fast flights travel on average depending on the destination. You decide to create a new variable called speed (in miles per hour) and then summarize by destination.\n",
    "\n",
    "Task:\n",
    "\n",
    "Create a new column `speed = distance / (air_time / 60)`.\n",
    "\n",
    "For each destination `(dest)` assume there are `NAN` and calculate:\n",
    "\n",
    "`count: number of flights`\n",
    "\n",
    "`avg_speed: average speed (mph)`\n",
    "\n",
    "Keep only destinations with more than 20 flights and sort them by `avg_speed` from fastest to slowest."
   ]
  },
  {
   "cell_type": "code",
   "execution_count": null,
   "id": "53705c84",
   "metadata": {},
   "outputs": [],
   "source": [
    "\n"
   ]
  },
  {
   "cell_type": "markdown",
   "id": "a2baf558",
   "metadata": {},
   "source": [
    "### All Done!"
   ]
  }
 ],
 "metadata": {
  "kernelspec": {
   "display_name": "Python 3",
   "language": "python",
   "name": "python3"
  },
  "language_info": {
   "codemirror_mode": {
    "name": "ipython",
    "version": 3
   },
   "file_extension": ".py",
   "mimetype": "text/x-python",
   "name": "python",
   "nbconvert_exporter": "python",
   "pygments_lexer": "ipython3",
   "version": "3.12.1"
  }
 },
 "nbformat": 4,
 "nbformat_minor": 5
}
